{
 "cells": [
  {
   "cell_type": "markdown",
   "metadata": {},
   "source": [
    "# Practice with the Python ATProtoSDK\n",
    "This ipython notebook will walk you through the basics of working with the\n",
    "ATProto python sdk. The content here heavily draws on [these examples](https://github.com/MarshalX/atproto/tree/main/examples)"
   ]
  },
  {
   "cell_type": "code",
   "execution_count": 3,
   "metadata": {},
   "outputs": [],
   "source": [
    "from atproto import Client\n",
    "from dotenv import load_dotenv\n",
    "import os\n",
    "import pprint\n",
    "\n",
    "\n",
    "load_dotenv(override=True)\n",
    "USERNAME = os.getenv(\"USERNAME\")\n",
    "PW = os.getenv(\"PW\")"
   ]
  },
  {
   "cell_type": "markdown",
   "metadata": {},
   "source": [
    "## Logging into your account"
   ]
  },
  {
   "cell_type": "code",
   "execution_count": 4,
   "metadata": {},
   "outputs": [
    {
     "name": "stdout",
     "output_type": "stream",
     "text": [
      "{'associated': ProfileAssociated(chat=None, feedgens=0, labeler=False, lists=0, starter_packs=0, py_type='app.bsky.actor.defs#profileAssociated'),\n",
      " 'avatar': 'https://cdn.bsky.app/img/avatar/plain/did:plc:yzpplgm5kftdgpf2wsnrbgdn/bafkreih3fpryxoepb44fzyr3sfn32fr7fqqka4kle6h4not7jlwtdvzghe@jpeg',\n",
      " 'banner': None,\n",
      " 'created_at': '2025-02-13T17:12:12.845Z',\n",
      " 'description': None,\n",
      " 'did': 'did:plc:yzpplgm5kftdgpf2wsnrbgdn',\n",
      " 'display_name': '',\n",
      " 'followers_count': 0,\n",
      " 'follows_count': 1,\n",
      " 'handle': 'trustylabeler.bsky.social',\n",
      " 'indexed_at': '2025-02-13T17:12:12.845Z',\n",
      " 'joined_via_starter_pack': None,\n",
      " 'labels': [],\n",
      " 'pinned_post': None,\n",
      " 'posts_count': 0,\n",
      " 'py_type': 'app.bsky.actor.defs#profileViewDetailed',\n",
      " 'viewer': ViewerState(blocked_by=False, blocking=None, blocking_by_list=None, followed_by=None, following=None, known_followers=None, muted=False, muted_by_list=None, py_type='app.bsky.actor.defs#viewerState')}\n"
     ]
    }
   ],
   "source": [
    "client = Client()\n",
    "profile = client.login(USERNAME, PW)\n",
    "pprint.pprint(profile.__dict__)"
   ]
  },
  {
   "cell_type": "markdown",
   "metadata": {},
   "source": [
    "## Working with posts"
   ]
  },
  {
   "cell_type": "code",
   "execution_count": 19,
   "metadata": {},
   "outputs": [
    {
     "name": "stdout",
     "output_type": "stream",
     "text": [
      "{'created_at': '2025-03-20T20:14:57.103160+00:00',\n",
      " 'embed': Main(images=[Image(alt='dog', image=BlobRef(mime_type='image/jpeg', size=169278, ref=IpldLink(link='bafkreibahplioamouecglrcqnshcxzdrwawdtwl5h676d2l7k7xbbti3pa'), py_type='blob'), aspect_ratio=None, py_type='app.bsky.embed.images#image')], py_type='app.bsky.embed.images'),\n",
      " 'entities': None,\n",
      " 'facets': None,\n",
      " 'labels': None,\n",
      " 'langs': ['en'],\n",
      " 'py_type': 'app.bsky.feed.post',\n",
      " 'reply': None,\n",
      " 'tags': None,\n",
      " 'text': 'check out this dog!'}\n"
     ]
    }
   ],
   "source": [
    "def post_from_url(client: Client, url: str):\n",
    "    \"\"\"\n",
    "    Retrieve a Bluesky post from its URL\n",
    "    \"\"\"\n",
    "    parts = url.split(\"/\")\n",
    "    rkey = parts[-1]\n",
    "    handle = parts[-3]\n",
    "    return client.get_post(rkey, handle)\n",
    "\n",
    "post = post_from_url(client, \"https://bsky.app/profile/labeler-test.bsky.social/post/3lktj7ewxxv2q\")\n",
    "pprint.pprint(post.value.__dict__)"
   ]
  },
  {
   "cell_type": "code",
   "execution_count": 20,
   "metadata": {},
   "outputs": [
    {
     "data": {
      "text/plain": [
       "'check out this dog!'"
      ]
     },
     "execution_count": 20,
     "metadata": {},
     "output_type": "execute_result"
    }
   ],
   "source": [
    "post.value.text"
   ]
  },
  {
   "cell_type": "code",
   "execution_count": 56,
   "metadata": {},
   "outputs": [
    {
     "name": "stdout",
     "output_type": "stream",
     "text": [
      "Post 0: This is Mugi. He wants to know what you're staring at. It's like you've never seen a four-story drool bubble before. 13/10 (IG: mainichi_mugi)\n",
      "Post 1: This puppy decided he wanted breakfast in bed. And also bed in breakfast. 12/10\n",
      "Post 2: This is George. He just had a dentist appointment and is none too pleased about it. Will be giving you a piece of his mind as soon as the air stops changing colors. 12/10 #SeniorPupSaturday\n",
      "Post 3: You all funded Fiyero's care in just under 2 hours ensuring he has the best chance at a diagnosis and treatment to live a comfortable life. We’ve removed his post due to how distressing his seizures were. Follow @15outof10.org for pupdates on him and the rest of our fundraiser dogs ❤️‍🩹\n",
      "Post 4: thank you so much for your help ❤️\n",
      "Post 5: what Dasia said 🗣️\n",
      "Post 6: Babe wake up the dogs are still so very good\n",
      "Post 7: Get 60% off your dog's first order of The Farmers Dog through the link below 🧡 #ad\n",
      "\n",
      "bit.ly/3p3SABm\n",
      "Post 8: Here are the Top 5 Dogs of the week!\n",
      "Post 9: This is Dill. He was found with a broken leg. With your support of @weratedogs.com merch, we sponsored his surgery and he wound up in a GIANT cast. He then found a forever family that absolutely dotes on him. He loves them so much, he even lets them dress him up as a little frog sometimes ❤️‍🩹\n",
      "Likes: ['carlajwilliams.net', 'nerdhodges.bsky.social', 'nickilugo.bsky.social', 'janeglatt.bsky.social', 'khetherly.bsky.social', 'ddkpups.bsky.social', 'kmccloud.bsky.social', 'psychosage.bsky.social', 'sidekickpup.bsky.social', 'lindschub.bsky.social']\n",
      "['This is a work of art 🥹', 'I just saw a tell your dog sticker on a car in St Paul Minnesota!', 'The alt text is everything', \"HOLY GODS IT'S BEYOND EPIC\", '😁 Pre #TongueOutTuesday!', \"OMG! My neighbor's dog has got to be his twin.  Abby thinks our house is her 2nd home. Yes, she knows where everything is, and she drools just like your Migi does.\", 'This is the result of inbreeding.', 'Now that is talent 😄', '😳', 'Pretty impressive honestly']\n"
     ]
    }
   ],
   "source": [
    "# https://github.com/MarshalX/atproto/blob/main/examples/profile_posts.py\n",
    "prof_feed = client.get_author_feed(actor=\"weratedogs.com\")\n",
    "for i, feed_view in enumerate(prof_feed.feed[:10]):\n",
    "    print(f\"Post {i}:\", feed_view.post.record.text)\n",
    "\n",
    "post = prof_feed.feed[0].post\n",
    "likes_resp = client.get_likes(post.uri, post.cid, limit=10)\n",
    "print(\"Likes:\", [like.actor.handle for like in likes_resp.likes])\n",
    "\n",
    "post_thread_resp = client.get_post_thread(post.uri)\n",
    "print([rep.post.record.text for rep in post_thread_resp.thread.replies[:10]])"
   ]
  },
  {
   "cell_type": "markdown",
   "metadata": {},
   "source": [
    "## Followers/following"
   ]
  },
  {
   "cell_type": "markdown",
   "metadata": {},
   "source": [
    "How might you use this information to investigate/mitigate a harm?"
   ]
  },
  {
   "cell_type": "code",
   "execution_count": 7,
   "metadata": {},
   "outputs": [
    {
     "name": "stdout",
     "output_type": "stream",
     "text": [
      "Followers: ['kelly3010.bsky.social', 'homaksu.bsky.social', 'jennifersamule.bsky.social', 'walkerbn.bsky.social', 'cuneyterdem0.bsky.social', 'shinddha.bsky.social', 'yooperann.bsky.social', 'tor37.bsky.social', 'windowtothesoull.bsky.social', 'twocakesup.bsky.social']\n",
      "Following: ['15outof10.org']\n"
     ]
    }
   ],
   "source": [
    "\n",
    "follower_resp = client.get_followers(\"weratedogs.com\", limit=10)\n",
    "following_resp = client.get_follows(\"weratedogs.com\", limit=10)\n",
    "print(\"Followers:\", [follower.handle for follower in follower_resp.followers])\n",
    "print(\"Following:\", [follow.handle for follow in following_resp.follows])\n",
    "\n"
   ]
  },
  {
   "cell_type": "markdown",
   "metadata": {},
   "source": [
    "## Exercise: Compute average dog ratings\n",
    "The WeRateDogs account includes ratings out of 10 within some of its posts.\n",
    "Write a script that computes the average rating (out of 10) for the 100 most\n",
    "recent posts from this account. (note that not every post will have a rating)"
   ]
  },
  {
   "cell_type": "code",
   "execution_count": 9,
   "metadata": {},
   "outputs": [],
   "source": [
    "import re"
   ]
  },
  {
   "cell_type": "code",
   "execution_count": 10,
   "metadata": {},
   "outputs": [],
   "source": [
    "def extract_score(text):\n",
    "    # This pattern looks for:\n",
    "    # \\d+ - one or more digits\n",
    "    # \\s* - optional whitespace\n",
    "    # / - literal forward slash\n",
    "    # \\s* - optional whitespace\n",
    "    # 10 - literal \"10\"\n",
    "    pattern = r'(\\d+)\\s*/\\s*10'\n",
    "    match = re.search(pattern, text)\n",
    "    if match:\n",
    "        return int(match.group(1))\n",
    "    return None"
   ]
  },
  {
   "cell_type": "code",
   "execution_count": 13,
   "metadata": {},
   "outputs": [
    {
     "name": "stdout",
     "output_type": "stream",
     "text": [
      "The average rating is: 13.0\n"
     ]
    }
   ],
   "source": [
    "def compute_avg_dog_rating(num_posts):\n",
    "    # TODO: complete\n",
    "    total_score = 0\n",
    "    num_scores = 0\n",
    "    for i, feed_view in enumerate(prof_feed.feed[:num_posts]):\n",
    "        score = extract_score(feed_view.post.record.text)\n",
    "        if score is not None:\n",
    "            # print(f\"Found score: {score}/10\")\n",
    "            total_score += score\n",
    "            num_scores += 1\n",
    "        # else:\n",
    "            # print(\"No score found in the format X/10\")\n",
    "    return total_score / num_scores if num_scores > 0 else 0\n",
    "\n",
    "print(\"The average rating is:\", compute_avg_dog_rating(100))"
   ]
  },
  {
   "cell_type": "markdown",
   "metadata": {},
   "source": [
    "## Exercise: Dog names\n",
    "Collect the names of dogs within the latest 100 posts and print them to the\n",
    "console. Hint: see if you can identify a pattern in the posts."
   ]
  },
  {
   "cell_type": "code",
   "execution_count": 15,
   "metadata": {},
   "outputs": [],
   "source": [
    "def extract_names(text):\n",
    "    # This pattern looks for:\n",
    "    # (?<![\\.\\?\\!]\\s) - negative lookbehind for period/question mark/exclamation followed by whitespace\n",
    "    # (?<!\\A) - negative lookbehind for start of string\n",
    "    # \\b[A-Z][a-zA-Z]*\\b - word boundary, capital letter, followed by any letters, word boundary\n",
    "    pattern = r'(?<![\\.\\?\\!]\\s)(?<!\\A)\\b[A-Z][a-zA-Z]*\\b'\n",
    "    \n",
    "    matches = re.finditer(pattern, text)\n",
    "    return [match.group() for match in matches]"
   ]
  },
  {
   "cell_type": "code",
   "execution_count": 16,
   "metadata": {},
   "outputs": [
    {
     "name": "stdout",
     "output_type": "stream",
     "text": [
      "Here are the dog_names: ['George', 'SeniorPupSaturday', 'Fiyero', 'Dasia', 'The', 'Farmers', 'Dog', 'Top', 'Dogs', 'Dill', 'GIANT', 'Roger', 'Roger', 'ER', 'Panda', 'We', 'Panda', 'Panda', 'I', 'Ellie', 'Flipper', 'ALL', 'Good', 'Lucie', 'Muamba', 'Ollie', 'Heckles', 'ONLY', 'April', 'Top', 'WORST', 'Dogs', 'Joey', 'Bambi', 'Top', 'Dogs', 'March', 'Pippa', 'SeniorPupSaturday', 'Thank', 'Butterfly', 'Butterfly', 'Top', 'Dogs', 'Leon', 'Hubie', 'Fig', 'Oreo', 'FBI', 'Choco', 'We', 'ADOPTED', 'Choco', 'Rex']\n"
     ]
    }
   ],
   "source": [
    "def collect_dog_names(num_posts):\n",
    "    # TODO: complete\n",
    "    all_names = []\n",
    "    for i, feed_view in enumerate(prof_feed.feed[:num_posts]):\n",
    "        names = extract_names(feed_view.post.record.text)\n",
    "        if names:\n",
    "            all_names.extend(names)\n",
    "    return all_names\n",
    "\n",
    "print(\"Here are the dog_names:\", collect_dog_names(100))"
   ]
  },
  {
   "cell_type": "markdown",
   "metadata": {},
   "source": [
    "## Exercise: Soliciting donations\n",
    "Some posts from the WeRateDogs account ask for donations -- usually for\n",
    "covering medical costs for the featured dogs. Within the latest 100 posts, print\n",
    "the text content of those that fall into this category"
   ]
  },
  {
   "cell_type": "code",
   "execution_count": null,
   "metadata": {},
   "outputs": [],
   "source": [
    "def donation_posts(num_posts):\n",
    "    # TODO: complete\n",
    "    return []\n",
    "\n",
    "for post_text in donation_posts(100):\n",
    "    print(post_text)"
   ]
  },
  {
   "cell_type": "code",
   "execution_count": null,
   "metadata": {},
   "outputs": [],
   "source": []
  }
 ],
 "metadata": {
  "kernelspec": {
   "display_name": "Python 3",
   "language": "python",
   "name": "python3"
  },
  "language_info": {
   "codemirror_mode": {
    "name": "ipython",
    "version": 3
   },
   "file_extension": ".py",
   "mimetype": "text/x-python",
   "name": "python",
   "nbconvert_exporter": "python",
   "pygments_lexer": "ipython3",
   "version": "3.12.6"
  }
 },
 "nbformat": 4,
 "nbformat_minor": 2
}
