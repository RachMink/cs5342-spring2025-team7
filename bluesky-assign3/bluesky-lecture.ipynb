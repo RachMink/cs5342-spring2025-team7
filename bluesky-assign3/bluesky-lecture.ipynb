{
 "cells": [
  {
   "cell_type": "markdown",
   "metadata": {},
   "source": [
    "# Practice with the Python ATProtoSDK\n",
    "This ipython notebook will walk you through the basics of working with the\n",
    "ATProto python sdk. The content here heavily draws on [these examples](https://github.com/MarshalX/atproto/tree/main/examples)"
   ]
  },
  {
   "cell_type": "code",
   "execution_count": 38,
   "metadata": {},
   "outputs": [],
   "source": [
    "from atproto import Client\n",
    "from dotenv import load_dotenv\n",
    "import os\n",
    "import pprint\n",
    "\n",
    "\n",
    "load_dotenv(override=True)\n",
    "USERNAME = os.getenv(\"USERNAME\")\n",
    "PW = os.getenv(\"PW\")"
   ]
  },
  {
   "cell_type": "markdown",
   "metadata": {},
   "source": [
    "## Logging into your account"
   ]
  },
  {
   "cell_type": "code",
   "execution_count": 2,
   "metadata": {},
   "outputs": [
    {
     "name": "stdout",
     "output_type": "stream",
     "text": [
      "{'associated': ProfileAssociated(chat=None, feedgens=0, labeler=True, lists=0, starter_packs=0, py_type='app.bsky.actor.defs#profileAssociated'),\n",
      " 'avatar': 'https://cdn.bsky.app/img/avatar/plain/did:plc:yzpplgm5kftdgpf2wsnrbgdn/bafkreih3fpryxoepb44fzyr3sfn32fr7fqqka4kle6h4not7jlwtdvzghe@jpeg',\n",
      " 'banner': None,\n",
      " 'created_at': '2025-02-13T17:12:12.845Z',\n",
      " 'description': None,\n",
      " 'did': 'did:plc:yzpplgm5kftdgpf2wsnrbgdn',\n",
      " 'display_name': '',\n",
      " 'followers_count': 1,\n",
      " 'follows_count': 1,\n",
      " 'handle': 'trustylabeler.bsky.social',\n",
      " 'indexed_at': '2025-02-13T17:12:12.845Z',\n",
      " 'joined_via_starter_pack': None,\n",
      " 'labels': [],\n",
      " 'pinned_post': None,\n",
      " 'posts_count': 0,\n",
      " 'py_type': 'app.bsky.actor.defs#profileViewDetailed',\n",
      " 'viewer': ViewerState(blocked_by=False, blocking=None, blocking_by_list=None, followed_by=None, following=None, known_followers=None, muted=False, muted_by_list=None, py_type='app.bsky.actor.defs#viewerState')}\n"
     ]
    }
   ],
   "source": [
    "client = Client()\n",
    "profile = client.login(USERNAME, PW)\n",
    "pprint.pprint(profile.__dict__)"
   ]
  },
  {
   "cell_type": "markdown",
   "metadata": {},
   "source": [
    "## Working with posts"
   ]
  },
  {
   "cell_type": "code",
   "execution_count": 3,
   "metadata": {},
   "outputs": [],
   "source": [
    "def get_latest_posts(client, limit=100):\n",
    "    feed = client.app.bsky.feed.get_timeline({'limit': limit})\n",
    "    posts = feed['feed']\n",
    "    return [{\n",
    "        'text': post['post']['record']['text'],\n",
    "        'uri': post['post']['uri'],\n",
    "        'cid': post['post']['cid'],\n",
    "        'handle': post['post']['author']['handle']\n",
    "    } for post in posts]"
   ]
  },
  {
   "cell_type": "code",
   "execution_count": 4,
   "metadata": {},
   "outputs": [],
   "source": [
    "response = client.app.bsky.feed.search_posts({'q': 'giveaway', 'limit': 10})"
   ]
  },
  {
   "cell_type": "code",
   "execution_count": 5,
   "metadata": {},
   "outputs": [
    {
     "data": {
      "text/plain": [
       "Response(posts=[PostView(author=ProfileViewBasic(did='did:plc:zyeaqucmyejzsyb5ziad3pvo', handle='civicchampion.bsky.social', associated=None, avatar='https://cdn.bsky.app/img/avatar/plain/did:plc:zyeaqucmyejzsyb5ziad3pvo/bafkreifslzvci47rqqzms6cwytck4i6f33cxktiwt5bvtfsvzcov4pbypa@jpeg', created_at='2025-02-03T10:15:14.044Z', display_name='Schaden Freude (FAFO Central)', labels=[], viewer=ViewerState(blocked_by=False, blocking=None, blocking_by_list=None, followed_by=None, following=None, known_followers=None, muted=False, muted_by_list=None, py_type='app.bsky.actor.defs#viewerState'), py_type='app.bsky.actor.defs#profileViewBasic'), cid='bafyreif4x5ud5jj74wyjbhcqnysq4lvkjvaxmd2zjx6ls6khx2klsxlhqu', indexed_at='2025-04-17T20:17:59.585Z', record=Record(created_at='2025-04-17T20:17:55.581Z', text='Schadenfreude: The holier-than-thou demeanor is a dead giveaway.', embed=Main(images=[Image(alt='', image=BlobRef(mime_type='image/jpeg', size=342811, ref=IpldLink(link='bafkreicxck4s3xlluo7udre677sfqkircrnavf6ro2lpowuvoojbc5hj7e'), py_type='blob'), aspect_ratio=AspectRatio(height=596, width=524, py_type='app.bsky.embed.defs#aspectRatio'), py_type='app.bsky.embed.images#image')], py_type='app.bsky.embed.images'), entities=None, facets=None, labels=None, langs=['en'], reply=None, tags=None, py_type='app.bsky.feed.post'), uri='at://did:plc:zyeaqucmyejzsyb5ziad3pvo/app.bsky.feed.post/3lmzwghygsk2i', embed=View(images=[ViewImage(alt='', fullsize='https://cdn.bsky.app/img/feed_fullsize/plain/did:plc:zyeaqucmyejzsyb5ziad3pvo/bafkreicxck4s3xlluo7udre677sfqkircrnavf6ro2lpowuvoojbc5hj7e@jpeg', thumb='https://cdn.bsky.app/img/feed_thumbnail/plain/did:plc:zyeaqucmyejzsyb5ziad3pvo/bafkreicxck4s3xlluo7udre677sfqkircrnavf6ro2lpowuvoojbc5hj7e@jpeg', aspect_ratio=AspectRatio(height=596, width=524, py_type='app.bsky.embed.defs#aspectRatio'), py_type='app.bsky.embed.images#viewImage')], py_type='app.bsky.embed.images#view'), labels=[], like_count=0, quote_count=0, reply_count=0, repost_count=0, threadgate=None, viewer=ViewerState(embedding_disabled=False, like=None, pinned=None, reply_disabled=None, repost=None, thread_muted=False, py_type='app.bsky.feed.defs#viewerState'), py_type='app.bsky.feed.defs#postView'), PostView(author=ProfileViewBasic(did='did:plc:x7zxmjbmttzq62b62alkn67q', handle='contestreminder.bsky.social', associated=None, avatar='https://cdn.bsky.app/img/avatar/plain/did:plc:x7zxmjbmttzq62b62alkn67q/bafkreibqu5acsrgmtlay6yrcrwre3mqc5hpqwf4h5yjc7njez4p25h7btu@jpeg', created_at='2024-11-11T12:00:00.381Z', display_name='ContestReminder', labels=[], viewer=ViewerState(blocked_by=False, blocking=None, blocking_by_list=None, followed_by=None, following=None, known_followers=None, muted=False, muted_by_list=None, py_type='app.bsky.actor.defs#viewerState'), py_type='app.bsky.actor.defs#profileViewBasic'), cid='bafyreih7jwlew57ultlmb7e4b77edbfe2j7sgg5jndwecixhmm62x7s72e', indexed_at='2025-04-17T20:16:36.181Z', record=Record(created_at='2025-04-17T20:16:35Z', text='Win a $650 Milwaukee Cordless Drill and Drive Set 🎁 #contest #sweepstakes #giveaway #bbq\\n\\n📅 Ends: April 20, 2025\\n✅ Entry Limit: Single\\n➡️ Enter Now: https://contestreminder.com/contest-69158/\\n\\n🚨 Open to U.S. Residents', embed=Main(external=External(description='Enter the Perkins Builder Brothers x Milwaukee Giveaway to win one of five prizes featuring a cordless combo kit and drill and drive set, valued at $650.', title='Win a Milwaukee Cordless Combo Kit', uri='https://contestreminder.com/contest/win-a-650-milwaukee-cordless-drill-and-drive-set/', thumb=BlobRef(mime_type='image/png', size=40608, ref=IpldLink(link='bafkreidr7ttsc7k65c5xq74ceixuyhlmzhuokupz6ibulw5urhnafvqfhe'), py_type='blob'), py_type='app.bsky.embed.external#external'), py_type='app.bsky.embed.external'), entities=None, facets=[Main(features=[Link(uri='https://contestreminder.com/contest-69158/', py_type='app.bsky.richtext.facet#link')], index=ByteSlice(byte_end=203, byte_start=161, py_type='app.bsky.richtext.facet#byteSlice'), py_type='app.bsky.richtext.facet'), Main(features=[Tag(tag='contest', py_type='app.bsky.richtext.facet#tag')], index=ByteSlice(byte_end=63, byte_start=55, py_type='app.bsky.richtext.facet#byteSlice'), py_type='app.bsky.richtext.facet'), Main(features=[Tag(tag='sweepstakes', py_type='app.bsky.richtext.facet#tag')], index=ByteSlice(byte_end=76, byte_start=64, py_type='app.bsky.richtext.facet#byteSlice'), py_type='app.bsky.richtext.facet'), Main(features=[Tag(tag='giveaway', py_type='app.bsky.richtext.facet#tag')], index=ByteSlice(byte_end=86, byte_start=77, py_type='app.bsky.richtext.facet#byteSlice'), py_type='app.bsky.richtext.facet'), Main(features=[Tag(tag='bbq', py_type='app.bsky.richtext.facet#tag')], index=ByteSlice(byte_end=91, byte_start=87, py_type='app.bsky.richtext.facet#byteSlice'), py_type='app.bsky.richtext.facet')], labels=None, langs=['en-US'], reply=None, tags=None, py_type='app.bsky.feed.post'), uri='at://did:plc:x7zxmjbmttzq62b62alkn67q/app.bsky.feed.post/3lmzwe3smoo2q', embed=View(external=ViewExternal(description='Enter the Perkins Builder Brothers x Milwaukee Giveaway to win one of five prizes featuring a cordless combo kit and drill and drive set, valued at $650.', title='Win a Milwaukee Cordless Combo Kit', uri='https://contestreminder.com/contest/win-a-650-milwaukee-cordless-drill-and-drive-set/', thumb='https://cdn.bsky.app/img/feed_thumbnail/plain/did:plc:x7zxmjbmttzq62b62alkn67q/bafkreidr7ttsc7k65c5xq74ceixuyhlmzhuokupz6ibulw5urhnafvqfhe@jpeg', py_type='app.bsky.embed.external#viewExternal'), py_type='app.bsky.embed.external#view'), labels=[], like_count=0, quote_count=0, reply_count=0, repost_count=0, threadgate=None, viewer=ViewerState(embedding_disabled=False, like=None, pinned=None, reply_disabled=None, repost=None, thread_muted=False, py_type='app.bsky.feed.defs#viewerState'), py_type='app.bsky.feed.defs#postView'), PostView(author=ProfileViewBasic(did='did:plc:263hwj2kmbyeyuigrhwvqetg', handle='peyotecoyoteaz.bsky.social', associated=None, avatar='https://cdn.bsky.app/img/avatar/plain/did:plc:263hwj2kmbyeyuigrhwvqetg/bafkreier6ooh65m5cfkmueogubhpko64jwwe2gjc7yay7vuqjfjoxiamiq@jpeg', created_at='2024-11-14T17:13:46.324Z', display_name='', labels=[], viewer=ViewerState(blocked_by=False, blocking=None, blocking_by_list=None, followed_by=None, following=None, known_followers=None, muted=False, muted_by_list=None, py_type='app.bsky.actor.defs#viewerState'), py_type='app.bsky.actor.defs#profileViewBasic'), cid='bafyreicqj5a3zfcppn2gjb4kb6eoa5czxefqydbea3ma47blehmn5izg6a', indexed_at='2025-04-17T20:16:05.781Z', record=Record(created_at='2025-04-17T20:16:04.214Z', text='Help me win an awesome giveaway from Vornado! wn.nr/NHhAcLJ', embed=Main(external=External(description='This Earth Day, experience perfect comfort that’s good for the Earth and your electric bill. Vornado Energy Smart™ products use DC motors to give you all the power you love from Vornado while using a ...', title='Earth Day Giveaway', uri='https://wn.nr/NHhAcLJ', thumb=BlobRef(mime_type='image/jpeg', size=503735, ref=IpldLink(link='bafkreifcfytyegfpw5faqi77kiklo5qgbfkbag2p24lzqbwltlc2pn4fay'), py_type='blob'), py_type='app.bsky.embed.external#external'), py_type='app.bsky.embed.external'), entities=None, facets=[Main(features=[Link(uri='https://wn.nr/NHhAcLJ', py_type='app.bsky.richtext.facet#link')], index=ByteSlice(byte_end=59, byte_start=46, py_type='app.bsky.richtext.facet#byteSlice'), py_type='app.bsky.richtext.facet')], labels=None, langs=['en'], reply=None, tags=None, py_type='app.bsky.feed.post'), uri='at://did:plc:263hwj2kmbyeyuigrhwvqetg/app.bsky.feed.post/3lmzwd5recc2d', embed=View(external=ViewExternal(description='This Earth Day, experience perfect comfort that’s good for the Earth and your electric bill. Vornado Energy Smart™ products use DC motors to give you all the power you love from Vornado while using a ...', title='Earth Day Giveaway', uri='https://wn.nr/NHhAcLJ', thumb='https://cdn.bsky.app/img/feed_thumbnail/plain/did:plc:263hwj2kmbyeyuigrhwvqetg/bafkreifcfytyegfpw5faqi77kiklo5qgbfkbag2p24lzqbwltlc2pn4fay@jpeg', py_type='app.bsky.embed.external#viewExternal'), py_type='app.bsky.embed.external#view'), labels=[], like_count=0, quote_count=0, reply_count=0, repost_count=0, threadgate=None, viewer=ViewerState(embedding_disabled=False, like=None, pinned=None, reply_disabled=None, repost=None, thread_muted=False, py_type='app.bsky.feed.defs#viewerState'), py_type='app.bsky.feed.defs#postView'), PostView(author=ProfileViewBasic(did='did:plc:z62e7ozqhv3chk3xndsegrdj', handle='dollycas.bsky.social', associated=None, avatar='https://cdn.bsky.app/img/avatar/plain/did:plc:z62e7ozqhv3chk3xndsegrdj/bafkreiatchhznhb7ijlkpi3f5la5rbjkjjlotrwsvmpnbcwg3x7scuoaq4@jpeg', created_at='2023-12-17T22:18:14.192Z', display_name='Dollycas', labels=[], viewer=ViewerState(blocked_by=False, blocking=None, blocking_by_list=None, followed_by=None, following=None, known_followers=None, muted=False, muted_by_list=None, py_type='app.bsky.actor.defs#viewerState'), py_type='app.bsky.actor.defs#profileViewBasic'), cid='bafyreib62aqxj2nweom6mzwhnzay4cnnpuwjgx5uowc6nlm6c7pjokvq7y', indexed_at='2025-04-17T20:12:40.478Z', record=Record(created_at='2025-04-17T20:12:39.071Z', text='Spotlight: Murder on Oak Street (A South Shore Mystery) by I. M. Foster (Blog Tour/Tour-Wide Giveaway)  \\n\\nsocratesbookreviews.blogspot.com/2025/04/spot...', embed=Main(external=External(description='', title='Spotlight:  Murder on Oak Street (A South Shore Mystery) by I. M. Foster (Blog Tour/Tour-Wide Giveaway)', uri='https://socratesbookreviews.blogspot.com/2025/04/spotlight-murder-on-oak-street-south.html', thumb=BlobRef(mime_type='image/jpeg', size=356727, ref=IpldLink(link='bafkreib56astvwh7wz2ijdb7omxg5gmfexsehqk45ruy7aj7imici5q3zi'), py_type='blob'), py_type='app.bsky.embed.external#external'), py_type='app.bsky.embed.external'), entities=None, facets=[Main(features=[Link(uri='https://socratesbookreviews.blogspot.com/2025/04/spotlight-murder-on-oak-street-south.html', py_type='app.bsky.richtext.facet#link')], index=ByteSlice(byte_end=154, byte_start=106, py_type='app.bsky.richtext.facet#byteSlice'), py_type='app.bsky.richtext.facet')], labels=None, langs=['en'], reply=None, tags=None, py_type='app.bsky.feed.post'), uri='at://did:plc:z62e7ozqhv3chk3xndsegrdj/app.bsky.feed.post/3lmzw524wcs2w', embed=View(external=ViewExternal(description='', title='Spotlight:  Murder on Oak Street (A South Shore Mystery) by I. M. Foster (Blog Tour/Tour-Wide Giveaway)', uri='https://socratesbookreviews.blogspot.com/2025/04/spotlight-murder-on-oak-street-south.html', thumb='https://cdn.bsky.app/img/feed_thumbnail/plain/did:plc:z62e7ozqhv3chk3xndsegrdj/bafkreib56astvwh7wz2ijdb7omxg5gmfexsehqk45ruy7aj7imici5q3zi@jpeg', py_type='app.bsky.embed.external#viewExternal'), py_type='app.bsky.embed.external#view'), labels=[], like_count=0, quote_count=0, reply_count=0, repost_count=0, threadgate=None, viewer=ViewerState(embedding_disabled=False, like=None, pinned=None, reply_disabled=None, repost=None, thread_muted=False, py_type='app.bsky.feed.defs#viewerState'), py_type='app.bsky.feed.defs#postView'), PostView(author=ProfileViewBasic(did='did:plc:x7zxmjbmttzq62b62alkn67q', handle='contestreminder.bsky.social', associated=None, avatar='https://cdn.bsky.app/img/avatar/plain/did:plc:x7zxmjbmttzq62b62alkn67q/bafkreibqu5acsrgmtlay6yrcrwre3mqc5hpqwf4h5yjc7njez4p25h7btu@jpeg', created_at='2024-11-11T12:00:00.381Z', display_name='ContestReminder', labels=[], viewer=ViewerState(blocked_by=False, blocking=None, blocking_by_list=None, followed_by=None, following=None, known_followers=None, muted=False, muted_by_list=None, py_type='app.bsky.actor.defs#viewerState'), py_type='app.bsky.actor.defs#profileViewBasic'), cid='bafyreib72tdlclnqrao7ixfltyjwjs5j2v4pluftptvuj367g3hymbnmo4', indexed_at='2025-04-17T20:11:23.386Z', record=Record(created_at='2025-04-17T20:11:22Z', text='Listen up, #Canada! A contest awaits! 🥳\\n\\nWin Alessia Cara VIP Concert Experience 🎟️ #contest #sweepstakes #giveaway\\n\\n📅 Ends: April 18, 2025\\n✅ Entry Limit: Daily\\n➡️ Enter Now: https://contestreminder.com/contest-69207/\\n\\n🚨 Open to Canadian Residents', embed=Main(external=External(description='Enter to win two premium reserved seats to an Alessia Cara concert, early VIP entry, and a merchandise prize pack valued at $400. Contest ends soon!', title='Alessia Cara Concert Tickets | Win VIP Experience', uri='https://contestreminder.com/contest/win-alessia-cara-vip-concert-experience/', thumb=BlobRef(mime_type='image/png', size=40608, ref=IpldLink(link='bafkreidr7ttsc7k65c5xq74ceixuyhlmzhuokupz6ibulw5urhnafvqfhe'), py_type='blob'), py_type='app.bsky.embed.external#external'), py_type='app.bsky.embed.external'), entities=None, facets=[Main(features=[Link(uri='https://contestreminder.com/contest-69207/', py_type='app.bsky.richtext.facet#link')], index=ByteSlice(byte_end=234, byte_start=192, py_type='app.bsky.richtext.facet#byteSlice'), py_type='app.bsky.richtext.facet'), Main(features=[Tag(tag='Canada', py_type='app.bsky.richtext.facet#tag')], index=ByteSlice(byte_end=18, byte_start=11, py_type='app.bsky.richtext.facet#byteSlice'), py_type='app.bsky.richtext.facet'), Main(features=[Tag(tag='contest', py_type='app.bsky.richtext.facet#tag')], index=ByteSlice(byte_end=100, byte_start=92, py_type='app.bsky.richtext.facet#byteSlice'), py_type='app.bsky.richtext.facet'), Main(features=[Tag(tag='sweepstakes', py_type='app.bsky.richtext.facet#tag')], index=ByteSlice(byte_end=113, byte_start=101, py_type='app.bsky.richtext.facet#byteSlice'), py_type='app.bsky.richtext.facet'), Main(features=[Tag(tag='giveaway', py_type='app.bsky.richtext.facet#tag')], index=ByteSlice(byte_end=123, byte_start=114, py_type='app.bsky.richtext.facet#byteSlice'), py_type='app.bsky.richtext.facet')], labels=None, langs=['en-US'], reply=None, tags=None, py_type='app.bsky.feed.post'), uri='at://did:plc:x7zxmjbmttzq62b62alkn67q/app.bsky.feed.post/3lmzw2ru3mx2u', embed=View(external=ViewExternal(description='Enter to win two premium reserved seats to an Alessia Cara concert, early VIP entry, and a merchandise prize pack valued at $400. Contest ends soon!', title='Alessia Cara Concert Tickets | Win VIP Experience', uri='https://contestreminder.com/contest/win-alessia-cara-vip-concert-experience/', thumb='https://cdn.bsky.app/img/feed_thumbnail/plain/did:plc:x7zxmjbmttzq62b62alkn67q/bafkreidr7ttsc7k65c5xq74ceixuyhlmzhuokupz6ibulw5urhnafvqfhe@jpeg', py_type='app.bsky.embed.external#viewExternal'), py_type='app.bsky.embed.external#view'), labels=[], like_count=0, quote_count=0, reply_count=0, repost_count=0, threadgate=None, viewer=ViewerState(embedding_disabled=False, like=None, pinned=None, reply_disabled=None, repost=None, thread_muted=False, py_type='app.bsky.feed.defs#viewerState'), py_type='app.bsky.feed.defs#postView'), PostView(author=ProfileViewBasic(did='did:plc:pqutwloa7nygyeeeyaqor4tl', handle='fairbudgetdc.bsky.social', associated=None, avatar='https://cdn.bsky.app/img/avatar/plain/did:plc:pqutwloa7nygyeeeyaqor4tl/bafkreida42vliu6lsxddxgaudbum3ilfg74ipq3bfhksxpoqw3qqq32qqa@jpeg', created_at='2024-11-14T20:14:49.722Z', display_name='Fair Budget Coalition', labels=[], viewer=ViewerState(blocked_by=False, blocking=None, blocking_by_list=None, followed_by=None, following=None, known_followers=None, muted=False, muted_by_list=None, py_type='app.bsky.actor.defs#viewerState'), py_type='app.bsky.actor.defs#profileViewBasic'), cid='bafyreieg7lbxm4e3jittl32pdkzhxhohrvsewpzd7cbrtrjrdwa23im2ie', indexed_at='2025-04-17T20:11:15.981Z', record=Record(created_at='2025-04-17T20:11:11.371Z', text='Concerned about an $850 million dollar giveaway to a billionaire team owner, as the mayor makes cuts to vital safety net programs? \\n\\nLearn more about why a stadium is a lousy deal for DC at a forum on 4/29, 6-8 pm. Register at bit.ly/RFKforum \\n\\n#NoBillionairesPlayground', embed=Main(images=[Image(alt='', image=BlobRef(mime_type='image/jpeg', size=512040, ref=IpldLink(link='bafkreib7hwl4nlh732euqpmbnyyuj3l7uhvi76jp6jvbdhcc6zqqrbdb6q'), py_type='blob'), aspect_ratio=AspectRatio(height=1054, width=1232, py_type='app.bsky.embed.defs#aspectRatio'), py_type='app.bsky.embed.images#image'), Image(alt='', image=BlobRef(mime_type='image/jpeg', size=507341, ref=IpldLink(link='bafkreiehnclegcq7frnfudbop5ikz23hxc4jdjwluvjllkpb3io55hanqa'), py_type='blob'), aspect_ratio=AspectRatio(height=2000, width=1545, py_type='app.bsky.embed.defs#aspectRatio'), py_type='app.bsky.embed.images#image')], py_type='app.bsky.embed.images'), entities=None, facets=[Main(features=[Link(uri='http://bit.ly/RFKforum', py_type='app.bsky.richtext.facet#link')], index=ByteSlice(byte_end=242, byte_start=227, py_type='app.bsky.richtext.facet#byteSlice'), py_type='app.bsky.richtext.facet'), Main(features=[Tag(tag='NoBillionairesPlayground', py_type='app.bsky.richtext.facet#tag')], index=ByteSlice(byte_end=270, byte_start=245, py_type='app.bsky.richtext.facet#byteSlice'), py_type='app.bsky.richtext.facet')], labels=None, langs=['en'], reply=None, tags=None, py_type='app.bsky.feed.post'), uri='at://did:plc:pqutwloa7nygyeeeyaqor4tl/app.bsky.feed.post/3lmzw2gj6c22f', embed=View(images=[ViewImage(alt='', fullsize='https://cdn.bsky.app/img/feed_fullsize/plain/did:plc:pqutwloa7nygyeeeyaqor4tl/bafkreib7hwl4nlh732euqpmbnyyuj3l7uhvi76jp6jvbdhcc6zqqrbdb6q@jpeg', thumb='https://cdn.bsky.app/img/feed_thumbnail/plain/did:plc:pqutwloa7nygyeeeyaqor4tl/bafkreib7hwl4nlh732euqpmbnyyuj3l7uhvi76jp6jvbdhcc6zqqrbdb6q@jpeg', aspect_ratio=AspectRatio(height=1054, width=1232, py_type='app.bsky.embed.defs#aspectRatio'), py_type='app.bsky.embed.images#viewImage'), ViewImage(alt='', fullsize='https://cdn.bsky.app/img/feed_fullsize/plain/did:plc:pqutwloa7nygyeeeyaqor4tl/bafkreiehnclegcq7frnfudbop5ikz23hxc4jdjwluvjllkpb3io55hanqa@jpeg', thumb='https://cdn.bsky.app/img/feed_thumbnail/plain/did:plc:pqutwloa7nygyeeeyaqor4tl/bafkreiehnclegcq7frnfudbop5ikz23hxc4jdjwluvjllkpb3io55hanqa@jpeg', aspect_ratio=AspectRatio(height=2000, width=1545, py_type='app.bsky.embed.defs#aspectRatio'), py_type='app.bsky.embed.images#viewImage')], py_type='app.bsky.embed.images#view'), labels=[], like_count=2, quote_count=0, reply_count=0, repost_count=1, threadgate=None, viewer=ViewerState(embedding_disabled=False, like=None, pinned=None, reply_disabled=None, repost=None, thread_muted=False, py_type='app.bsky.feed.defs#viewerState'), py_type='app.bsky.feed.defs#postView'), PostView(author=ProfileViewBasic(did='did:plc:udg7amqfspbdojyphf7vwwqt', handle='bigaarongriff.bsky.social', associated=None, avatar='https://cdn.bsky.app/img/avatar/plain/did:plc:udg7amqfspbdojyphf7vwwqt/bafkreigecnwv3zf5jwruf4ml3miev76l5lz7ljaztspfec6z7cvmdiyvdq@jpeg', created_at='2023-10-22T07:04:43.851Z', display_name='Aaron', labels=[], viewer=ViewerState(blocked_by=False, blocking=None, blocking_by_list=None, followed_by=None, following=None, known_followers=None, muted=False, muted_by_list=None, py_type='app.bsky.actor.defs#viewerState'), py_type='app.bsky.actor.defs#profileViewBasic'), cid='bafyreiaithwq4qjpdmfrm6yqtixtcydiuyzfexfjejwoprnrkyaebtpsza', indexed_at='2025-04-17T20:07:15.187Z', record=Record(created_at='2025-04-17T20:07:15.697Z', text='Johnny Craig holding a MacBook giveaway on tiktok was not on my 2025 bingo card. Gen Z is about to learn a hard lesson', embed=None, entities=None, facets=None, labels=None, langs=['en'], reply=None, tags=None, py_type='app.bsky.feed.post'), uri='at://did:plc:udg7amqfspbdojyphf7vwwqt/app.bsky.feed.post/3lmzvtfqfds2y', embed=None, labels=[], like_count=1, quote_count=0, reply_count=0, repost_count=0, threadgate=None, viewer=ViewerState(embedding_disabled=False, like=None, pinned=None, reply_disabled=None, repost=None, thread_muted=False, py_type='app.bsky.feed.defs#viewerState'), py_type='app.bsky.feed.defs#postView'), PostView(author=ProfileViewBasic(did='did:plc:fpyretuwmcrhrrdkaxmare32', handle='chesterj1.bsky.social', associated=None, avatar='https://cdn.bsky.app/img/avatar/plain/did:plc:fpyretuwmcrhrrdkaxmare32/bafkreifpyqlpeykbpwyfgsfnxxjzw7hnkwqx2akvbcy7v3sfwhgr2vnzze@jpeg', created_at='2024-10-21T17:50:53.306Z', display_name='Jeff Chester', labels=[], viewer=ViewerState(blocked_by=False, blocking=None, blocking_by_list=None, followed_by=None, following=None, known_followers=None, muted=False, muted_by_list=None, py_type='app.bsky.actor.defs#viewerState'), py_type='app.bsky.actor.defs#profileViewBasic'), cid='bafyreigxchd3rsvr5dpmaya3a7dh6lrwvltvj5gtkk3s62a6zpvvfhy45i', indexed_at='2025-04-17T20:04:56.883Z', record=Record(created_at='2025-04-17T20:04:56.483Z', text='Another massive giveaway by Trump of US consumer financial protections to Big Banks, Big Tech by destroying agency designed to protect our money. Safeguards for our retirement, savings, loans--all being shredded to help the wealthiest well-connected.', embed=Main(record=Main(cid='bafyreihhtfc4bp5rcnnk5qspczythiawb3uznwemosory7opcdoe4c7lpu', uri='at://did:plc:uuw6bbgbc6jdknhbebscveou/app.bsky.feed.post/3lmzttdb7sc2a', py_type='com.atproto.repo.strongRef'), py_type='app.bsky.embed.record'), entities=None, facets=None, labels=None, langs=['en'], reply=None, tags=None, py_type='app.bsky.feed.post'), uri='at://did:plc:fpyretuwmcrhrrdkaxmare32/app.bsky.feed.post/3lmzvpaxu7s2q', embed=View(record=ViewRecord(author=ProfileViewBasic(did='did:plc:uuw6bbgbc6jdknhbebscveou', handle='erinwitte-cfa.bsky.social', associated=None, avatar='https://cdn.bsky.app/img/avatar/plain/did:plc:uuw6bbgbc6jdknhbebscveou/bafkreibimajr3vot3bkcktyo4xvoea4ost6n4z6y6n7ncht5aisc72euba@jpeg', created_at='2024-11-18T14:44:15.746Z', display_name='Erin Witte', labels=[], viewer=ViewerState(blocked_by=False, blocking=None, blocking_by_list=None, followed_by=None, following=None, known_followers=None, muted=False, muted_by_list=None, py_type='app.bsky.actor.defs#viewerState'), py_type='app.bsky.actor.defs#profileViewBasic'), cid='bafyreihhtfc4bp5rcnnk5qspczythiawb3uznwemosory7opcdoe4c7lpu', indexed_at='2025-04-17T19:31:25.880Z', uri='at://did:plc:uuw6bbgbc6jdknhbebscveou/app.bsky.feed.post/3lmzttdb7sc2a', value=Record(created_at='2025-04-17T19:31:25.621Z', text='The sabotage of civil servants occurring at the #CFPB is proof positive that the administration is hellbent on violating the law and shirking their congressionally mandated duties. \\n\\nThe layoffs (and the recent “memo”) are a blueprint for fraudsters about which laws to break.', embed=None, entities=None, facets=[Main(features=[Tag(tag='CFPB', py_type='app.bsky.richtext.facet#tag')], index=ByteSlice(byte_end=53, byte_start=48, py_type='app.bsky.richtext.facet#byteSlice'), py_type='app.bsky.richtext.facet')], labels=None, langs=['en'], reply=None, tags=None, py_type='app.bsky.feed.post'), embeds=[], labels=[], like_count=0, quote_count=1, reply_count=0, repost_count=0, py_type='app.bsky.embed.record#viewRecord'), py_type='app.bsky.embed.record#view'), labels=[], like_count=2, quote_count=0, reply_count=0, repost_count=0, threadgate=None, viewer=ViewerState(embedding_disabled=False, like=None, pinned=None, reply_disabled=None, repost=None, thread_muted=False, py_type='app.bsky.feed.defs#viewerState'), py_type='app.bsky.feed.defs#postView'), PostView(author=ProfileViewBasic(did='did:plc:x7zxmjbmttzq62b62alkn67q', handle='contestreminder.bsky.social', associated=None, avatar='https://cdn.bsky.app/img/avatar/plain/did:plc:x7zxmjbmttzq62b62alkn67q/bafkreibqu5acsrgmtlay6yrcrwre3mqc5hpqwf4h5yjc7njez4p25h7btu@jpeg', created_at='2024-11-11T12:00:00.381Z', display_name='ContestReminder', labels=[], viewer=ViewerState(blocked_by=False, blocking=None, blocking_by_list=None, followed_by=None, following=None, known_followers=None, muted=False, muted_by_list=None, py_type='app.bsky.actor.defs#viewerState'), py_type='app.bsky.actor.defs#profileViewBasic'), cid='bafyreigm3smzkunzv6o6ngfizvgb2dhqhgkgjqew4cmcoi5h6uafaudcba', indexed_at='2025-04-17T20:02:30.285Z', record=Record(created_at='2025-04-17T20:02:29Z', text='Win a Paw Patrol: Air Rescue DVD 🎉 #contest #sweepstakes #giveaway\\n\\n📅 Ends: April 28, 2025\\n✅ Entry Limit: Blog\\n➡️ Enter Now: https://contestreminder.com/contest-69658/\\n\\n🚨 Open to U.S. Residents', embed=Main(external=External(description='Enter to win a Paw Patrol: Air Rescue DVD, featuring the PAW Patrol pups in their new air rescue vehicle.', title='Paw Patrol Air Rescue DVD Giveaway', uri='https://contestreminder.com/contest/win-a-paw-patrol-air-rescue-dvd/', thumb=BlobRef(mime_type='image/png', size=40608, ref=IpldLink(link='bafkreidr7ttsc7k65c5xq74ceixuyhlmzhuokupz6ibulw5urhnafvqfhe'), py_type='blob'), py_type='app.bsky.embed.external#external'), py_type='app.bsky.embed.external'), entities=None, facets=[Main(features=[Link(uri='https://contestreminder.com/contest-69658/', py_type='app.bsky.richtext.facet#link')], index=ByteSlice(byte_end=179, byte_start=137, py_type='app.bsky.richtext.facet#byteSlice'), py_type='app.bsky.richtext.facet'), Main(features=[Tag(tag='contest', py_type='app.bsky.richtext.facet#tag')], index=ByteSlice(byte_end=46, byte_start=38, py_type='app.bsky.richtext.facet#byteSlice'), py_type='app.bsky.richtext.facet'), Main(features=[Tag(tag='sweepstakes', py_type='app.bsky.richtext.facet#tag')], index=ByteSlice(byte_end=59, byte_start=47, py_type='app.bsky.richtext.facet#byteSlice'), py_type='app.bsky.richtext.facet'), Main(features=[Tag(tag='giveaway', py_type='app.bsky.richtext.facet#tag')], index=ByteSlice(byte_end=69, byte_start=60, py_type='app.bsky.richtext.facet#byteSlice'), py_type='app.bsky.richtext.facet')], labels=None, langs=['en-US'], reply=None, tags=None, py_type='app.bsky.feed.post'), uri='at://did:plc:x7zxmjbmttzq62b62alkn67q/app.bsky.feed.post/3lmzvkvgltb2f', embed=View(external=ViewExternal(description='Enter to win a Paw Patrol: Air Rescue DVD, featuring the PAW Patrol pups in their new air rescue vehicle.', title='Paw Patrol Air Rescue DVD Giveaway', uri='https://contestreminder.com/contest/win-a-paw-patrol-air-rescue-dvd/', thumb='https://cdn.bsky.app/img/feed_thumbnail/plain/did:plc:x7zxmjbmttzq62b62alkn67q/bafkreidr7ttsc7k65c5xq74ceixuyhlmzhuokupz6ibulw5urhnafvqfhe@jpeg', py_type='app.bsky.embed.external#viewExternal'), py_type='app.bsky.embed.external#view'), labels=[], like_count=0, quote_count=0, reply_count=0, repost_count=0, threadgate=None, viewer=ViewerState(embedding_disabled=False, like=None, pinned=None, reply_disabled=None, repost=None, thread_muted=False, py_type='app.bsky.feed.defs#viewerState'), py_type='app.bsky.feed.defs#postView'), PostView(author=ProfileViewBasic(did='did:plc:cany3v43eaji7wdc5fswqli4', handle='northatlanticseed.bsky.social', associated=None, avatar='https://cdn.bsky.app/img/avatar/plain/did:plc:cany3v43eaji7wdc5fswqli4/bafkreidr3w23hlwtm5e4dkxfi6l7m7z5mjbqfst2cmgrddkme2s6vdsnpy@jpeg', created_at='2024-11-29T18:32:39.645Z', display_name='North Atlantic Seed Co.', labels=[], viewer=ViewerState(blocked_by=False, blocking=None, blocking_by_list=None, followed_by=None, following=None, known_followers=None, muted=False, muted_by_list=None, py_type='app.bsky.actor.defs#viewerState'), py_type='app.bsky.actor.defs#profileViewBasic'), cid='bafyreidldwkiadgbeq6npt4qlarnn77dw5hzi2rrspn4bke4ovyitefrnu', indexed_at='2025-04-17T20:00:58.588Z', record=Record(created_at='2025-04-17T20:00:57.191Z', text=\"NASC Giveaways! 🎉\\n\\nBuy Anything From NASC 4/17-4/21 For your chance to WIN 30+ FREE Seeds & MORE 🔥\\n\\nAND be sure to join our Discord for our Meme Contest ending 4/22 12PM EST 👀\\n\\nPlus we have plenty more breeder giveaways happening through 4/20 so don't miss out! \\n\\nCongrats to recent giveaway winners!\", embed=Main(images=[Image(alt='', image=BlobRef(mime_type='image/png', size=933249, ref=IpldLink(link='bafkreig5qm5vfrxl2f2let3v7d6vsd2afqzkb6eerit2hpxs2jtew4vpnu'), py_type='blob'), aspect_ratio=AspectRatio(height=1080, width=1080, py_type='app.bsky.embed.defs#aspectRatio'), py_type='app.bsky.embed.images#image'), Image(alt='', image=BlobRef(mime_type='image/png', size=833370, ref=IpldLink(link='bafkreiel2zv6ty7ogo2cnborgxu2ufhfbvnn63h7tgcuqssclgknl5nb7u'), py_type='blob'), aspect_ratio=AspectRatio(height=1080, width=1080, py_type='app.bsky.embed.defs#aspectRatio'), py_type='app.bsky.embed.images#image'), Image(alt='', image=BlobRef(mime_type='image/jpeg', size=301235, ref=IpldLink(link='bafkreigk5mxkfadgkgxnv3yuvrfsvx2a2escxxy65mk7ngbquex7xfuiji'), py_type='blob'), aspect_ratio=AspectRatio(height=1179, width=1179, py_type='app.bsky.embed.defs#aspectRatio'), py_type='app.bsky.embed.images#image')], py_type='app.bsky.embed.images'), entities=None, facets=None, labels=None, langs=None, reply=None, tags=None, py_type='app.bsky.feed.post'), uri='at://did:plc:cany3v43eaji7wdc5fswqli4/app.bsky.feed.post/3lmzvi4shof27', embed=View(images=[ViewImage(alt='', fullsize='https://cdn.bsky.app/img/feed_fullsize/plain/did:plc:cany3v43eaji7wdc5fswqli4/bafkreig5qm5vfrxl2f2let3v7d6vsd2afqzkb6eerit2hpxs2jtew4vpnu@jpeg', thumb='https://cdn.bsky.app/img/feed_thumbnail/plain/did:plc:cany3v43eaji7wdc5fswqli4/bafkreig5qm5vfrxl2f2let3v7d6vsd2afqzkb6eerit2hpxs2jtew4vpnu@jpeg', aspect_ratio=AspectRatio(height=1080, width=1080, py_type='app.bsky.embed.defs#aspectRatio'), py_type='app.bsky.embed.images#viewImage'), ViewImage(alt='', fullsize='https://cdn.bsky.app/img/feed_fullsize/plain/did:plc:cany3v43eaji7wdc5fswqli4/bafkreiel2zv6ty7ogo2cnborgxu2ufhfbvnn63h7tgcuqssclgknl5nb7u@jpeg', thumb='https://cdn.bsky.app/img/feed_thumbnail/plain/did:plc:cany3v43eaji7wdc5fswqli4/bafkreiel2zv6ty7ogo2cnborgxu2ufhfbvnn63h7tgcuqssclgknl5nb7u@jpeg', aspect_ratio=AspectRatio(height=1080, width=1080, py_type='app.bsky.embed.defs#aspectRatio'), py_type='app.bsky.embed.images#viewImage'), ViewImage(alt='', fullsize='https://cdn.bsky.app/img/feed_fullsize/plain/did:plc:cany3v43eaji7wdc5fswqli4/bafkreigk5mxkfadgkgxnv3yuvrfsvx2a2escxxy65mk7ngbquex7xfuiji@jpeg', thumb='https://cdn.bsky.app/img/feed_thumbnail/plain/did:plc:cany3v43eaji7wdc5fswqli4/bafkreigk5mxkfadgkgxnv3yuvrfsvx2a2escxxy65mk7ngbquex7xfuiji@jpeg', aspect_ratio=AspectRatio(height=1179, width=1179, py_type='app.bsky.embed.defs#aspectRatio'), py_type='app.bsky.embed.images#viewImage')], py_type='app.bsky.embed.images#view'), labels=[], like_count=1, quote_count=0, reply_count=0, repost_count=0, threadgate=None, viewer=ViewerState(embedding_disabled=False, like=None, pinned=None, reply_disabled=None, repost=None, thread_muted=False, py_type='app.bsky.feed.defs#viewerState'), py_type='app.bsky.feed.defs#postView')], cursor='10', hits_total=None)"
      ]
     },
     "execution_count": 5,
     "metadata": {},
     "output_type": "execute_result"
    }
   ],
   "source": [
    "response"
   ]
  },
  {
   "cell_type": "code",
   "execution_count": 6,
   "metadata": {},
   "outputs": [
    {
     "data": {
      "text/plain": [
       "[{'text': '📢\\xa0App Version 1.100 is rolling out now (2/2)\\n\\nTrying to find more on Bluesky? The search page is now \"Explore,\" with updated trends, suggested accounts, and more!',\n",
       "  'uri': 'at://did:plc:z72i7hdynmk6r22z27h6tvur/app.bsky.feed.post/3lmi3hmjsak24',\n",
       "  'cid': 'bafyreiax6jqg2mg32yeyxb6bz42pwbd6mtqoxeo6rp6e7wwfhw2ef47dh4',\n",
       "  'handle': 'bsky.app'},\n",
       " {'text': '📢\\xa0App Version 1.100 is rolling out now (1/2)\\n\\nChat reactions are here! You can now respond to chat messages (aka “direct messages”) with an emoji ❤️',\n",
       "  'uri': 'at://did:plc:z72i7hdynmk6r22z27h6tvur/app.bsky.feed.post/3lmi3hlglc224',\n",
       "  'cid': 'bafyreihbk62hhazqtq5oyi66nn2hpayjq6n5pwjhskceoxvwoww6hlo6ba',\n",
       "  'handle': 'bsky.app'},\n",
       " {'text': 'Wish that you spent your Friday doing something besides checking if TikTok was banned or not? \\n\\nTry out @skylight.social — a video app built upon the same open network as Bluesky. You can login with your Bluesky account, and all of your followers seamlessly come with you.',\n",
       "  'uri': 'at://did:plc:z72i7hdynmk6r22z27h6tvur/app.bsky.feed.post/3llzh4fl3o226',\n",
       "  'cid': 'bafyreicobacv6kaihelynsknxdao77xggh3z4hfxyasbldmxeij64ua6rm',\n",
       "  'handle': 'bsky.app'},\n",
       " {'text': \"We're listening to your feedback and updating the character count for posts on Bluesky. \\n\\nPosts can now be 299 characters long!\",\n",
       "  'uri': 'at://did:plc:z72i7hdynmk6r22z27h6tvur/app.bsky.feed.post/3llqwu7r34c2e',\n",
       "  'cid': 'bafyreicpq5yak24snyyuqbmhkoqtcoc7bx2y7fpj6vqtlvj67woig4eauq',\n",
       "  'handle': 'bsky.app'},\n",
       " {'text': 'Thank you to everyone who ordered a shirt! The preorder window is now closed.\\n\\nOur team is hard at work bringing them to life. We expect to start shipping by mid April. You will receive a confirmation email as soon as your order is on its way.\\n\\nWe appreciate your patience and support!',\n",
       "  'uri': 'at://did:plc:z72i7hdynmk6r22z27h6tvur/app.bsky.feed.post/3lla2nyxzec2t',\n",
       "  'cid': 'bafyreiblioyl2zpatm7jfzkozybx6mgxg42a5bbikpzqdirnojipifu5kq',\n",
       "  'handle': 'bsky.app'},\n",
       " {'text': 'Only one day left to place an order! \\n\\nworldwithoutcaesars.com',\n",
       "  'uri': 'at://did:plc:z72i7hdynmk6r22z27h6tvur/app.bsky.feed.post/3ll5ddl5k6s2s',\n",
       "  'cid': 'bafyreidaalolouzzp5auw2icfa73stosamvqfizowb6wjivk2d5bi2p3ni',\n",
       "  'handle': 'bsky.app'},\n",
       " {'text': 'Only four days left to place an order! \\n\\nworldwithoutcaesars.com',\n",
       "  'uri': 'at://did:plc:z72i7hdynmk6r22z27h6tvur/app.bsky.feed.post/3lkvoqk7aps2j',\n",
       "  'cid': 'bafyreiha27k3ephvwfvmcadwhjtlrlgtaqrf3nybxmzfgexcqq7lia3npe',\n",
       "  'handle': 'bsky.app'},\n",
       " {'text': \"Publishers have already shared that they're receiving more and higher-quality engagement on Bluesky compared to legacy platforms.\\n\\nReferral metrics help newsrooms more accurately measure Bluesky's role in reaching their audiences.\",\n",
       "  'uri': 'at://did:plc:z72i7hdynmk6r22z27h6tvur/app.bsky.feed.post/3lktlkvngcc2k',\n",
       "  'cid': 'bafyreif2qga6drzxdsmkfftp6eixy4mp7siz776gaxwduinuzt6ehg6o6y',\n",
       "  'handle': 'bsky.app'},\n",
       " {'text': \"We view the Bluesky app as a lobby to the open social web, and we don't demote or throttle links.\\n\\nWe believe it should be easy for you to connect your social following here with your web presence elsewhere.\",\n",
       "  'uri': 'at://did:plc:z72i7hdynmk6r22z27h6tvur/app.bsky.feed.post/3lktlkvneds2k',\n",
       "  'cid': 'bafyreic2zp3hthu2pzv7ll5it7uc3asrfd4blkhcmvos2x7traysbldita',\n",
       "  'handle': 'bsky.app'},\n",
       " {'text': \"We 💙 links!\\n\\nStarting this week, we've made it even easier for newsrooms and more to track how much traffic Bluesky is sending to their sites.\\n\\nFor those setting up analytics, Bluesky's referrer is go.bsky.app.\",\n",
       "  'uri': 'at://did:plc:z72i7hdynmk6r22z27h6tvur/app.bsky.feed.post/3lktlkvn2lc2k',\n",
       "  'cid': 'bafyreidfwmhecwgueu7a5ykkc34bqmqczmmmkrznlanweahyxlrwhuszuq',\n",
       "  'handle': 'bsky.app'}]"
      ]
     },
     "execution_count": 6,
     "metadata": {},
     "output_type": "execute_result"
    }
   ],
   "source": [
    "get_latest_posts(client, 10)"
   ]
  },
  {
   "cell_type": "code",
   "execution_count": 4,
   "metadata": {},
   "outputs": [
    {
     "name": "stdout",
     "output_type": "stream",
     "text": [
      "{'created_at': '2025-03-20T20:14:57.103160+00:00',\n",
      " 'embed': Main(images=[Image(alt='dog', image=BlobRef(mime_type='image/jpeg', size=169278, ref=IpldLink(link='bafkreibahplioamouecglrcqnshcxzdrwawdtwl5h676d2l7k7xbbti3pa'), py_type='blob'), aspect_ratio=None, py_type='app.bsky.embed.images#image')], py_type='app.bsky.embed.images'),\n",
      " 'entities': None,\n",
      " 'facets': None,\n",
      " 'labels': None,\n",
      " 'langs': ['en'],\n",
      " 'py_type': 'app.bsky.feed.post',\n",
      " 'reply': None,\n",
      " 'tags': None,\n",
      " 'text': 'check out this dog!'}\n"
     ]
    }
   ],
   "source": [
    "def post_from_url(client: Client, url: str):\n",
    "    \"\"\"\n",
    "    Retrieve a Bluesky post from its URL\n",
    "    \"\"\"\n",
    "    parts = url.split(\"/\")\n",
    "    rkey = parts[-1]\n",
    "    handle = parts[-3]\n",
    "    return client.get_post(rkey, handle)\n",
    "\n",
    "post = post_from_url(client, \"https://bsky.app/profile/labeler-test.bsky.social/post/3lktj7ewxxv2q\")\n",
    "pprint.pprint(post.value.__dict__)"
   ]
  },
  {
   "cell_type": "code",
   "execution_count": 5,
   "metadata": {},
   "outputs": [
    {
     "data": {
      "text/plain": [
       "'check out this dog!'"
      ]
     },
     "execution_count": 5,
     "metadata": {},
     "output_type": "execute_result"
    }
   ],
   "source": [
    "post.value.text"
   ]
  },
  {
   "cell_type": "code",
   "execution_count": 6,
   "metadata": {},
   "outputs": [
    {
     "name": "stdout",
     "output_type": "stream",
     "text": [
      "Post 0: This is Sigourney Weaver and Alice. Sigourney Weaver is hard at work digging a hole, and Alice has accepted her very avoidable fate. 13/10 for both\n",
      "Post 1: With your help, we sponsored the care Fiyero needed for his seizures. His foster family also officially adopted him!\n",
      " Fiyero’s been a champ at every check-up and is adjusting nicely to his medication. Thanks to you, he’s set for life with humans who already adore him ❤️‍🩹\n",
      "Post 2: CONGRATS FIYERO ❤️\n",
      "Post 3: Marley became one with the burger. 🍔  😂\n",
      "Post 4: This is Marley. He does not simply eat his hamburgers. He inhales them. 13/10\n",
      "Post 5: 🚨 FLIPPER GOT ADOPTED!!! 🚨\n",
      "\n",
      "She also can’t stop showing off her front legs, which you helped straighten and heal. These days, she puts them to good use wrestling with her new sister, Sweetie. According to her rescue, it was love at first sight. Thanks for giving this girl her happily ever after ❤️‍🩹\n",
      "Post 6: new best friends right there!\n",
      "Post 7: You need this little hop\n",
      "Post 8: This is Wallace. He did immediately try to eat his new babysitters, but beginning to test authority is a perfectly normal part of growing up. 12/10\n",
      "Post 9: And you just know Bob WILL be timing your coffee break ⏱️\n",
      "Likes: ['phaves.bsky.social', 'cb-7.bsky.social', 'thaisdf17.bsky.social', 'gianlep.bsky.social', 'tomato-letnic.bsky.social', 'ramanag.bsky.social', 'texassnow.bsky.social', 'antifa75.bsky.social', 'smudgedragon.bsky.social', 'spuncosmos.bsky.social']\n",
      "['Their bath time afterwards must’ve been epic, especially Alice’s lol', 'Sir, it is called a fetish. Nearly everypup has one.\\n😉', '🤩😂', 'My take is that Sigourney has proven herself in previous digs; Alice is just biding her time to treasure glory.🦴🦴🦴', 'Alice sweetie, Amazing', 'I’m not saying that you shouldn’t love them, but they do seem to be very dumb dogs.', \"I have an Alice, his name is Champ. He's a very good boy except when squirrels invade; he then stands at the bottom of the tree and stares into the atmosphere, willing them to descend. It never works, but he is not dissuaded.\", '4th smartest dog breed, folks.', 'gee, the last time Sigourney Weaver wanted some big Holes she made a bunch of kids do it!', 'Oh Alice. ❤️']\n"
     ]
    }
   ],
   "source": [
    "# https://github.com/MarshalX/atproto/blob/main/examples/profile_posts.py\n",
    "prof_feed = client.get_author_feed(actor=\"weratedogs.com\")\n",
    "for i, feed_view in enumerate(prof_feed.feed[:10]):\n",
    "    print(f\"Post {i}:\", feed_view.post.record.text)\n",
    "\n",
    "post = prof_feed.feed[0].post\n",
    "likes_resp = client.get_likes(post.uri, post.cid, limit=10)\n",
    "print(\"Likes:\", [like.actor.handle for like in likes_resp.likes])\n",
    "\n",
    "post_thread_resp = client.get_post_thread(post.uri)\n",
    "print([rep.post.record.text for rep in post_thread_resp.thread.replies[:10]])"
   ]
  },
  {
   "cell_type": "markdown",
   "metadata": {},
   "source": [
    "## Followers/following"
   ]
  },
  {
   "cell_type": "markdown",
   "metadata": {},
   "source": [
    "How might you use this information to investigate/mitigate a harm?"
   ]
  },
  {
   "cell_type": "code",
   "execution_count": 7,
   "metadata": {},
   "outputs": [
    {
     "name": "stdout",
     "output_type": "stream",
     "text": [
      "Followers: ['kelly3010.bsky.social', 'homaksu.bsky.social', 'jennifersamule.bsky.social', 'walkerbn.bsky.social', 'cuneyterdem0.bsky.social', 'shinddha.bsky.social', 'yooperann.bsky.social', 'tor37.bsky.social', 'windowtothesoull.bsky.social', 'twocakesup.bsky.social']\n",
      "Following: ['15outof10.org']\n"
     ]
    }
   ],
   "source": [
    "\n",
    "follower_resp = client.get_followers(\"weratedogs.com\", limit=10)\n",
    "following_resp = client.get_follows(\"weratedogs.com\", limit=10)\n",
    "print(\"Followers:\", [follower.handle for follower in follower_resp.followers])\n",
    "print(\"Following:\", [follow.handle for follow in following_resp.follows])\n",
    "\n"
   ]
  },
  {
   "cell_type": "markdown",
   "metadata": {},
   "source": [
    "## Exercise: Compute average dog ratings\n",
    "The WeRateDogs account includes ratings out of 10 within some of its posts.\n",
    "Write a script that computes the average rating (out of 10) for the 100 most\n",
    "recent posts from this account. (note that not every post will have a rating)"
   ]
  },
  {
   "cell_type": "code",
   "execution_count": 9,
   "metadata": {},
   "outputs": [],
   "source": [
    "import re"
   ]
  },
  {
   "cell_type": "code",
   "execution_count": 6,
   "metadata": {},
   "outputs": [
    {
     "ename": "ModuleNotFoundError",
     "evalue": "No module named 'atproto'",
     "output_type": "error",
     "traceback": [
      "\u001b[31m---------------------------------------------------------------------------\u001b[39m",
      "\u001b[31mModuleNotFoundError\u001b[39m                       Traceback (most recent call last)",
      "\u001b[36mCell\u001b[39m\u001b[36m \u001b[39m\u001b[32mIn[6]\u001b[39m\u001b[32m, line 5\u001b[39m\n\u001b[32m      3\u001b[39m \u001b[38;5;28;01mimport\u001b[39;00m\u001b[38;5;250m \u001b[39m\u001b[34;01mtime\u001b[39;00m \n\u001b[32m      4\u001b[39m \u001b[38;5;28;01mimport\u001b[39;00m\u001b[38;5;250m \u001b[39m\u001b[34;01mjson\u001b[39;00m \n\u001b[32m----> \u001b[39m\u001b[32m5\u001b[39m \u001b[38;5;28;01mfrom\u001b[39;00m\u001b[38;5;250m \u001b[39m\u001b[34;01matproto\u001b[39;00m\u001b[38;5;250m \u001b[39m\u001b[38;5;28;01mimport\u001b[39;00m Client\n\u001b[32m      6\u001b[39m \u001b[38;5;28;01mfrom\u001b[39;00m\u001b[38;5;250m \u001b[39m\u001b[34;01mdotenv\u001b[39;00m\u001b[38;5;250m \u001b[39m\u001b[38;5;28;01mimport\u001b[39;00m load_dotenv\n\u001b[32m      7\u001b[39m \u001b[38;5;28;01mimport\u001b[39;00m\u001b[38;5;250m \u001b[39m\u001b[34;01mos\u001b[39;00m \n",
      "\u001b[31mModuleNotFoundError\u001b[39m: No module named 'atproto'"
     ]
    }
   ],
   "source": [
    "import pandas as pd \n",
    "import re\n",
    "import time \n",
    "import json \n",
    "from atproto import Client\n",
    "from dotenv import load_dotenv\n",
    "import os \n",
    "\n",
    "load_dotenv(override=True)\n",
    "USERNAME = os.getenv(\"USERNAME\")\n",
    "PW = os.getenv(\"PW\")\n",
    "\n",
    "client = Client()\n",
    "client.login(USERNAME, PW)\n",
    "\n",
    "df_keywords = pd.read_csv(\"./giveaway-labeler/giveaway-words.csv\")\n",
    "giveaway_words = df_keywords['word'].dropna().tolist()\n",
    "cta_words = df_keywords['call-to-action'].dropna().tolist()\n",
    "\n",
    "df_urls = pd.read_csv(\"./bluesky_giveaway_labels.csv\")\n",
    "post_urls = df_urls['URL'].dropna().tolist()\n",
    "\n",
    "confirmed_matches = []\n",
    "\n",
    "for url in post_urls:\n",
    "    try:\n",
    "        parts = url.split('/post/')\n",
    "        did = parts[0].split('/')[-1]\n",
    "        rkey = parts[1]\n",
    "\n",
    "        post = client.com.atproto.repo.get_record({\n",
    "            \"repo\": did,\n",
    "            \"collection\": \"app.bsky.feed.post\",\n",
    "            \"rkey\": rkey\n",
    "        })\n",
    "\n",
    "        text = post['value'].get('text', '')\n",
    "\n",
    "        has_giveaway = any(re.search(rf\"\\b{re.escape(word)}\\b\", text, re.IGNORECASE) for word in giveaway_words)\n",
    "        has_cta = any(re.search(rf\"\\b{re.escape(cta)}\\b\", text, re.IGNORECASE) for cta in cta_words)\n",
    "\n",
    "        if has_giveaway and has_cta:\n",
    "            actor_info = client.app.bsky.actor.get_profile({'actor':did})\n",
    "            confirmed_matches.append({\n",
    "                \"url\": url,\n",
    "                \"did\": did,\n",
    "                \"rkey\": rkey,\n",
    "                \"text\": text,\n",
    "                \"followers_count\": actor_info.get(\"followersCount\"),\n",
    "                \"follows_count\": actor_info.get(\"followsCount\"),\n",
    "                \"posts_count\": actor_info.get(\"postsCount\"),\n",
    "                \"created_at\": actor_info.get(\"createdAt\"),\n",
    "            })\n",
    "\n",
    "            time.sleep(0.4)\n",
    "\n",
    "    except Exception as e:\n",
    "        print(f\"Error processing URL {url}: {e}\")\n",
    "        continue\n",
    "\n",
    "print(f\"Confirmed {len(confirmed_matches)} posts with BOTH a giveaway word and a CTA.\")"
   ]
  },
  {
   "cell_type": "code",
   "execution_count": 10,
   "metadata": {},
   "outputs": [],
   "source": [
    "def extract_score(text):\n",
    "    # This pattern looks for:\n",
    "    # \\d+ - one or more digits\n",
    "    # \\s* - optional whitespace\n",
    "    # / - literal forward slash\n",
    "    # \\s* - optional whitespace\n",
    "    # 10 - literal \"10\"\n",
    "    pattern = r'(\\d+)\\s*/\\s*10'\n",
    "    match = re.search(pattern, text)\n",
    "    if match:\n",
    "        return int(match.group(1))\n",
    "    return None"
   ]
  },
  {
   "cell_type": "code",
   "execution_count": 13,
   "metadata": {},
   "outputs": [
    {
     "name": "stdout",
     "output_type": "stream",
     "text": [
      "The average rating is: 13.0\n"
     ]
    }
   ],
   "source": [
    "def compute_avg_dog_rating(num_posts):\n",
    "    # TODO: complete\n",
    "    total_score = 0\n",
    "    num_scores = 0\n",
    "    for i, feed_view in enumerate(prof_feed.feed[:num_posts]):\n",
    "        score = extract_score(feed_view.post.record.text)\n",
    "        if score is not None:\n",
    "            # print(f\"Found score: {score}/10\")\n",
    "            total_score += score\n",
    "            num_scores += 1\n",
    "        # else:\n",
    "            # print(\"No score found in the format X/10\")\n",
    "    return total_score / num_scores if num_scores > 0 else 0\n",
    "\n",
    "print(\"The average rating is:\", compute_avg_dog_rating(100))"
   ]
  },
  {
   "cell_type": "markdown",
   "metadata": {},
   "source": [
    "## Exercise: Dog names\n",
    "Collect the names of dogs within the latest 100 posts and print them to the\n",
    "console. Hint: see if you can identify a pattern in the posts."
   ]
  },
  {
   "cell_type": "code",
   "execution_count": 15,
   "metadata": {},
   "outputs": [],
   "source": [
    "def extract_names(text):\n",
    "    # This pattern looks for:\n",
    "    # (?<![\\.\\?\\!]\\s) - negative lookbehind for period/question mark/exclamation followed by whitespace\n",
    "    # (?<!\\A) - negative lookbehind for start of string\n",
    "    # \\b[A-Z][a-zA-Z]*\\b - word boundary, capital letter, followed by any letters, word boundary\n",
    "    pattern = r'(?<![\\.\\?\\!]\\s)(?<!\\A)\\b[A-Z][a-zA-Z]*\\b'\n",
    "    \n",
    "    matches = re.finditer(pattern, text)\n",
    "    return [match.group() for match in matches]"
   ]
  },
  {
   "cell_type": "code",
   "execution_count": 16,
   "metadata": {},
   "outputs": [
    {
     "name": "stdout",
     "output_type": "stream",
     "text": [
      "Here are the dog_names: ['George', 'SeniorPupSaturday', 'Fiyero', 'Dasia', 'The', 'Farmers', 'Dog', 'Top', 'Dogs', 'Dill', 'GIANT', 'Roger', 'Roger', 'ER', 'Panda', 'We', 'Panda', 'Panda', 'I', 'Ellie', 'Flipper', 'ALL', 'Good', 'Lucie', 'Muamba', 'Ollie', 'Heckles', 'ONLY', 'April', 'Top', 'WORST', 'Dogs', 'Joey', 'Bambi', 'Top', 'Dogs', 'March', 'Pippa', 'SeniorPupSaturday', 'Thank', 'Butterfly', 'Butterfly', 'Top', 'Dogs', 'Leon', 'Hubie', 'Fig', 'Oreo', 'FBI', 'Choco', 'We', 'ADOPTED', 'Choco', 'Rex']\n"
     ]
    }
   ],
   "source": [
    "def collect_dog_names(num_posts):\n",
    "    # TODO: complete\n",
    "    all_names = []\n",
    "    for i, feed_view in enumerate(prof_feed.feed[:num_posts]):\n",
    "        names = extract_names(feed_view.post.record.text)\n",
    "        if names:\n",
    "            all_names.extend(names)\n",
    "    return all_names\n",
    "\n",
    "print(\"Here are the dog_names:\", collect_dog_names(100))"
   ]
  },
  {
   "cell_type": "markdown",
   "metadata": {},
   "source": [
    "## Exercise: Soliciting donations\n",
    "Some posts from the WeRateDogs account ask for donations -- usually for\n",
    "covering medical costs for the featured dogs. Within the latest 100 posts, print\n",
    "the text content of those that fall into this category"
   ]
  },
  {
   "cell_type": "code",
   "execution_count": null,
   "metadata": {},
   "outputs": [],
   "source": [
    "def donation_posts(num_posts):\n",
    "    # TODO: complete\n",
    "    return []\n",
    "\n",
    "for post_text in donation_posts(100):\n",
    "    print(post_text)"
   ]
  }
 ],
 "metadata": {
  "kernelspec": {
   "display_name": "Python 3",
   "language": "python",
   "name": "python3"
  },
  "language_info": {
   "codemirror_mode": {
    "name": "ipython",
    "version": 3
   },
   "file_extension": ".py",
   "mimetype": "text/x-python",
   "name": "python",
   "nbconvert_exporter": "python",
   "pygments_lexer": "ipython3",
   "version": "3.12.6"
  }
 },
 "nbformat": 4,
 "nbformat_minor": 2
}
