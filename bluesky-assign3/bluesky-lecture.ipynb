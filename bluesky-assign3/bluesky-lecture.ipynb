{
 "cells": [
  {
   "cell_type": "markdown",
   "metadata": {},
   "source": [
    "# Practice with the Python ATProtoSDK\n",
    "This ipython notebook will walk you through the basics of working with the\n",
    "ATProto python sdk. The content here heavily draws on [these examples](https://github.com/MarshalX/atproto/tree/main/examples)"
   ]
  },
  {
   "cell_type": "code",
   "execution_count": 1,
   "metadata": {},
   "outputs": [],
   "source": [
    "from atproto import Client\n",
    "from dotenv import load_dotenv\n",
    "import os\n",
    "import pprint\n",
    "\n",
    "\n",
    "load_dotenv(override=True)\n",
    "USERNAME = os.getenv(\"USERNAME\")\n",
    "PW = os.getenv(\"PW\")"
   ]
  },
  {
   "cell_type": "markdown",
   "metadata": {},
   "source": [
    "## Logging into your account"
   ]
  },
  {
   "cell_type": "code",
   "execution_count": null,
   "metadata": {},
   "outputs": [
    {
     "name": "stdout",
     "output_type": "stream",
     "text": [
      "{'associated': ProfileAssociated(chat=None, feedgens=0, labeler=True, lists=0, starter_packs=0, py_type='app.bsky.actor.defs#profileAssociated'),\n",
      " 'avatar': 'https://cdn.bsky.app/img/avatar/plain/did:plc:yzpplgm5kftdgpf2wsnrbgdn/bafkreih3fpryxoepb44fzyr3sfn32fr7fqqka4kle6h4not7jlwtdvzghe@jpeg',\n",
      " 'banner': None,\n",
      " 'created_at': '2025-02-13T17:12:12.845Z',\n",
      " 'description': None,\n",
      " 'did': 'did:plc:yzpplgm5kftdgpf2wsnrbgdn',\n",
      " 'display_name': '',\n",
      " 'followers_count': 0,\n",
      " 'follows_count': 1,\n",
      " 'handle': 'trustylabeler.bsky.social',\n",
      " 'indexed_at': '2025-02-13T17:12:12.845Z',\n",
      " 'joined_via_starter_pack': None,\n",
      " 'labels': [],\n",
      " 'pinned_post': None,\n",
      " 'posts_count': 0,\n",
      " 'py_type': 'app.bsky.actor.defs#profileViewDetailed',\n",
      " 'viewer': ViewerState(blocked_by=False, blocking=None, blocking_by_list=None, followed_by=None, following=None, known_followers=None, muted=False, muted_by_list=None, py_type='app.bsky.actor.defs#viewerState')}\n"
     ]
    }
   ],
   "source": [
    "client = Client()\n",
    "profile = client.login(USERNAME, PW)\n",
    "pprint.pprint(profile.__dict__)\n",
    "# https://bsky.social/xrpc/com.atproto.sync.bafkreihijcc5i4pjtect2ou6wzv2b4jnc657f24iz6e3zl7k5amhh3bmh4\n",
    "https://bsky.social/xrpc/com.atproto.repo.getBlob?did=did:plc:yzpplgm5kftdgpf2wsnrbgdn&cid=bafkreihijcc5i4pjtect2ou6wzv2b4jnc657f24iz6e3zl7k5amhh3bmh4"
   ]
  },
  {
   "cell_type": "markdown",
   "metadata": {},
   "source": [
    "## Working with posts"
   ]
  },
  {
   "cell_type": "code",
   "execution_count": 3,
   "metadata": {},
   "outputs": [
    {
     "name": "stdout",
     "output_type": "stream",
     "text": [
      "{'created_at': '2025-03-20T20:14:57.103160+00:00',\n",
      " 'embed': Main(images=[Image(alt='dog', image=BlobRef(mime_type='image/jpeg', size=169278, ref=IpldLink(link='bafkreibahplioamouecglrcqnshcxzdrwawdtwl5h676d2l7k7xbbti3pa'), py_type='blob'), aspect_ratio=None, py_type='app.bsky.embed.images#image')], py_type='app.bsky.embed.images'),\n",
      " 'entities': None,\n",
      " 'facets': None,\n",
      " 'labels': None,\n",
      " 'langs': ['en'],\n",
      " 'py_type': 'app.bsky.feed.post',\n",
      " 'reply': None,\n",
      " 'tags': None,\n",
      " 'text': 'check out this dog!'}\n"
     ]
    }
   ],
   "source": [
    "def post_from_url(client: Client, url: str):\n",
    "    \"\"\"\n",
    "    Retrieve a Bluesky post from its URL\n",
    "    \"\"\"\n",
    "    parts = url.split(\"/\")\n",
    "    rkey = parts[-1]\n",
    "    handle = parts[-3]\n",
    "    return client.get_post(rkey, handle)\n",
    "\n",
    "post = post_from_url(client, \"https://bsky.app/profile/labeler-test.bsky.social/post/3lktj7ewxxv2q\")\n",
    "pprint.pprint(post.value.__dict__)"
   ]
  },
  {
   "cell_type": "code",
   "execution_count": 4,
   "metadata": {},
   "outputs": [
    {
     "data": {
      "text/plain": [
       "'check out this dog!'"
      ]
     },
     "execution_count": 4,
     "metadata": {},
     "output_type": "execute_result"
    }
   ],
   "source": [
    "post.value.text"
   ]
  },
  {
   "cell_type": "code",
   "execution_count": 5,
   "metadata": {},
   "outputs": [
    {
     "name": "stdout",
     "output_type": "stream",
     "text": [
      "Post 0: This is Autumn. She was born without one paw. Gets along just fine with three, but still sometimes uses a prosthetic leg when she wants to blend in. 13/10\n",
      "Post 1: We have a tough update on Marceline 💔 \n",
      "\n",
      "The mass removed from her jaw was recently confirmed to be a rare, aggressive bone tumor. This means that at 2 years old, Marceline’s time is limited. It may be months or years. Thanks to you, she is able to live every day with joy. That means everything ❤️‍🩹\n",
      "Post 2: ‪sweet angel 🥺❤️‬\n",
      "Post 3: Bah! We only rate dogs. This is a sheep. Please look up what a dog is, and only send us that. Thank you… 12/10 (IG: onathestandardpoodle)\n",
      "Post 4: another great pick\n",
      "Post 5: This is Max. He has our sticker on his window. You are now legally obligated to tell your dog Max said hi. (we're serious) Get the sticker below!\n",
      "\n",
      "www.weratedogs.com?utm_source=b...\n",
      "Post 6: This is Tenney. She has a case of the zoomies. And also the agility of a running back. 13/10\n",
      "Post 7: This is Samson. He thought he was getting a simple piece of cheese. And then discovered the miracle that is mozzarella sticks. 13/10\n",
      "Post 8: With your support, Viva got the surgery and care she needed to recover.\n",
      "\n",
      "She then went to a foster home — and ended up staying for good! Viva came to her human on the sixth anniversary of her mom’s passing, which she said was a sign. When it’s meant to be, the universe just knows ❤️‍🩹\n",
      "Post 9: so happy for her 🥹❤️\n",
      "Likes: ['susidriscoll18.bsky.social', 'kimotetetata.bsky.social', 'nonisheehan.bsky.social', 'tibbi.bsky.social', 'nlgw.bsky.social', 'alexistv.bsky.social', 'abbyrocky.bsky.social', 'georgeinmaine.bsky.social', 'anicant.bsky.social', 'raatz.bsky.social']\n",
      "['Autumn is working undercover, trying to take down the duck mafia. Don’t blow her cover.', 'Lol!', 'Bless her ❤️❤️❤️', 'She can have my leg anytime she needs it.', 'A paws-thetic leg?', \"That's the cutest duck-dog I've ever seen 💜\", '🥰😇', 'What a good girl! 😍', 'I only see a duck. Where’s the dog??', '😍']\n"
     ]
    }
   ],
   "source": [
    "# https://github.com/MarshalX/atproto/blob/main/examples/profile_posts.py\n",
    "prof_feed = client.get_author_feed(actor=\"weratedogs.com\")\n",
    "for i, feed_view in enumerate(prof_feed.feed[:10]):\n",
    "    print(f\"Post {i}:\", feed_view.post.record.text)\n",
    "\n",
    "post = prof_feed.feed[0].post\n",
    "likes_resp = client.get_likes(post.uri, post.cid, limit=10)\n",
    "print(\"Likes:\", [like.actor.handle for like in likes_resp.likes])\n",
    "\n",
    "post_thread_resp = client.get_post_thread(post.uri)\n",
    "print([rep.post.record.text for rep in post_thread_resp.thread.replies[:10]])"
   ]
  },
  {
   "cell_type": "markdown",
   "metadata": {},
   "source": [
    "## Followers/following"
   ]
  },
  {
   "cell_type": "markdown",
   "metadata": {},
   "source": [
    "How might you use this information to investigate/mitigate a harm?"
   ]
  },
  {
   "cell_type": "code",
   "execution_count": 7,
   "metadata": {},
   "outputs": [
    {
     "name": "stdout",
     "output_type": "stream",
     "text": [
      "Followers: ['kelly3010.bsky.social', 'homaksu.bsky.social', 'jennifersamule.bsky.social', 'walkerbn.bsky.social', 'cuneyterdem0.bsky.social', 'shinddha.bsky.social', 'yooperann.bsky.social', 'tor37.bsky.social', 'windowtothesoull.bsky.social', 'twocakesup.bsky.social']\n",
      "Following: ['15outof10.org']\n"
     ]
    }
   ],
   "source": [
    "\n",
    "follower_resp = client.get_followers(\"weratedogs.com\", limit=10)\n",
    "following_resp = client.get_follows(\"weratedogs.com\", limit=10)\n",
    "print(\"Followers:\", [follower.handle for follower in follower_resp.followers])\n",
    "print(\"Following:\", [follow.handle for follow in following_resp.follows])\n",
    "\n"
   ]
  },
  {
   "cell_type": "markdown",
   "metadata": {},
   "source": [
    "## Exercise: Compute average dog ratings\n",
    "The WeRateDogs account includes ratings out of 10 within some of its posts.\n",
    "Write a script that computes the average rating (out of 10) for the 100 most\n",
    "recent posts from this account. (note that not every post will have a rating)"
   ]
  },
  {
   "cell_type": "code",
   "execution_count": 9,
   "metadata": {},
   "outputs": [],
   "source": [
    "import re"
   ]
  },
  {
   "cell_type": "code",
   "execution_count": 10,
   "metadata": {},
   "outputs": [],
   "source": [
    "def extract_score(text):\n",
    "    # This pattern looks for:\n",
    "    # \\d+ - one or more digits\n",
    "    # \\s* - optional whitespace\n",
    "    # / - literal forward slash\n",
    "    # \\s* - optional whitespace\n",
    "    # 10 - literal \"10\"\n",
    "    pattern = r'(\\d+)\\s*/\\s*10'\n",
    "    match = re.search(pattern, text)\n",
    "    if match:\n",
    "        return int(match.group(1))\n",
    "    return None"
   ]
  },
  {
   "cell_type": "code",
   "execution_count": 13,
   "metadata": {},
   "outputs": [
    {
     "name": "stdout",
     "output_type": "stream",
     "text": [
      "The average rating is: 13.0\n"
     ]
    }
   ],
   "source": [
    "def compute_avg_dog_rating(num_posts):\n",
    "    # TODO: complete\n",
    "    total_score = 0\n",
    "    num_scores = 0\n",
    "    for i, feed_view in enumerate(prof_feed.feed[:num_posts]):\n",
    "        score = extract_score(feed_view.post.record.text)\n",
    "        if score is not None:\n",
    "            # print(f\"Found score: {score}/10\")\n",
    "            total_score += score\n",
    "            num_scores += 1\n",
    "        # else:\n",
    "            # print(\"No score found in the format X/10\")\n",
    "    return total_score / num_scores if num_scores > 0 else 0\n",
    "\n",
    "print(\"The average rating is:\", compute_avg_dog_rating(100))"
   ]
  },
  {
   "cell_type": "markdown",
   "metadata": {},
   "source": [
    "## Exercise: Dog names\n",
    "Collect the names of dogs within the latest 100 posts and print them to the\n",
    "console. Hint: see if you can identify a pattern in the posts."
   ]
  },
  {
   "cell_type": "code",
   "execution_count": 15,
   "metadata": {},
   "outputs": [],
   "source": [
    "def extract_names(text):\n",
    "    # This pattern looks for:\n",
    "    # (?<![\\.\\?\\!]\\s) - negative lookbehind for period/question mark/exclamation followed by whitespace\n",
    "    # (?<!\\A) - negative lookbehind for start of string\n",
    "    # \\b[A-Z][a-zA-Z]*\\b - word boundary, capital letter, followed by any letters, word boundary\n",
    "    pattern = r'(?<![\\.\\?\\!]\\s)(?<!\\A)\\b[A-Z][a-zA-Z]*\\b'\n",
    "    \n",
    "    matches = re.finditer(pattern, text)\n",
    "    return [match.group() for match in matches]"
   ]
  },
  {
   "cell_type": "code",
   "execution_count": 16,
   "metadata": {},
   "outputs": [
    {
     "name": "stdout",
     "output_type": "stream",
     "text": [
      "Here are the dog_names: ['George', 'SeniorPupSaturday', 'Fiyero', 'Dasia', 'The', 'Farmers', 'Dog', 'Top', 'Dogs', 'Dill', 'GIANT', 'Roger', 'Roger', 'ER', 'Panda', 'We', 'Panda', 'Panda', 'I', 'Ellie', 'Flipper', 'ALL', 'Good', 'Lucie', 'Muamba', 'Ollie', 'Heckles', 'ONLY', 'April', 'Top', 'WORST', 'Dogs', 'Joey', 'Bambi', 'Top', 'Dogs', 'March', 'Pippa', 'SeniorPupSaturday', 'Thank', 'Butterfly', 'Butterfly', 'Top', 'Dogs', 'Leon', 'Hubie', 'Fig', 'Oreo', 'FBI', 'Choco', 'We', 'ADOPTED', 'Choco', 'Rex']\n"
     ]
    }
   ],
   "source": [
    "def collect_dog_names(num_posts):\n",
    "    # TODO: complete\n",
    "    all_names = []\n",
    "    for i, feed_view in enumerate(prof_feed.feed[:num_posts]):\n",
    "        names = extract_names(feed_view.post.record.text)\n",
    "        if names:\n",
    "            all_names.extend(names)\n",
    "    return all_names\n",
    "\n",
    "print(\"Here are the dog_names:\", collect_dog_names(100))"
   ]
  },
  {
   "cell_type": "markdown",
   "metadata": {},
   "source": [
    "## Exercise: Soliciting donations\n",
    "Some posts from the WeRateDogs account ask for donations -- usually for\n",
    "covering medical costs for the featured dogs. Within the latest 100 posts, print\n",
    "the text content of those that fall into this category"
   ]
  },
  {
   "cell_type": "code",
   "execution_count": null,
   "metadata": {},
   "outputs": [],
   "source": [
    "def donation_posts(num_posts):\n",
    "    # TODO: complete\n",
    "    return []\n",
    "\n",
    "for post_text in donation_posts(100):\n",
    "    print(post_text)"
   ]
  }
 ],
 "metadata": {
  "kernelspec": {
   "display_name": "Python 3",
   "language": "python",
   "name": "python3"
  },
  "language_info": {
   "codemirror_mode": {
    "name": "ipython",
    "version": 3
   },
   "file_extension": ".py",
   "mimetype": "text/x-python",
   "name": "python",
   "nbconvert_exporter": "python",
   "pygments_lexer": "ipython3",
   "version": "3.12.6"
  }
 },
 "nbformat": 4,
 "nbformat_minor": 2
}
