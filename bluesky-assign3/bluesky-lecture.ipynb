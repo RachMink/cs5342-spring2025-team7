{
 "cells": [
  {
   "cell_type": "markdown",
   "metadata": {},
   "source": [
    "# Practice with the Python ATProtoSDK\n",
    "This ipython notebook will walk you through the basics of working with the\n",
    "ATProto python sdk. The content here heavily draws on [these examples](https://github.com/MarshalX/atproto/tree/main/examples)"
   ]
  },
  {
   "cell_type": "code",
   "execution_count": 1,
   "metadata": {},
   "outputs": [],
   "source": [
    "from atproto import Client\n",
    "from dotenv import load_dotenv\n",
    "import os\n",
    "import pprint\n",
    "\n",
    "\n",
    "load_dotenv(override=True)\n",
    "USERNAME = os.getenv(\"USERNAME\")\n",
    "PW = os.getenv(\"PW\")"
   ]
  },
  {
   "cell_type": "markdown",
   "metadata": {},
   "source": [
    "## Logging into your account"
   ]
  },
  {
   "cell_type": "code",
   "execution_count": null,
   "metadata": {},
   "outputs": [
    {
     "name": "stdout",
     "output_type": "stream",
     "text": [
      "{'associated': ProfileAssociated(chat=None, feedgens=0, labeler=True, lists=0, starter_packs=0, py_type='app.bsky.actor.defs#profileAssociated'),\n",
      " 'avatar': 'https://cdn.bsky.app/img/avatar/plain/did:plc:yzpplgm5kftdgpf2wsnrbgdn/bafkreih3fpryxoepb44fzyr3sfn32fr7fqqka4kle6h4not7jlwtdvzghe@jpeg',\n",
      " 'banner': None,\n",
      " 'created_at': '2025-02-13T17:12:12.845Z',\n",
      " 'description': None,\n",
      " 'did': 'did:plc:yzpplgm5kftdgpf2wsnrbgdn',\n",
      " 'display_name': '',\n",
      " 'followers_count': 0,\n",
      " 'follows_count': 1,\n",
      " 'handle': 'trustylabeler.bsky.social',\n",
      " 'indexed_at': '2025-02-13T17:12:12.845Z',\n",
      " 'joined_via_starter_pack': None,\n",
      " 'labels': [],\n",
      " 'pinned_post': None,\n",
      " 'posts_count': 0,\n",
      " 'py_type': 'app.bsky.actor.defs#profileViewDetailed',\n",
      " 'viewer': ViewerState(blocked_by=False, blocking=None, blocking_by_list=None, followed_by=None, following=None, known_followers=None, muted=False, muted_by_list=None, py_type='app.bsky.actor.defs#viewerState')}\n"
     ]
    }
   ],
   "source": [
    "client = Client()\n",
    "profile = client.login(USERNAME, PW)\n",
    "pprint.pprint(profile.__dict__)"
   ]
  },
  {
   "cell_type": "markdown",
   "metadata": {},
   "source": [
    "## Working with posts"
   ]
  },
  {
   "cell_type": "code",
   "execution_count": 11,
   "metadata": {},
   "outputs": [],
   "source": [
    "def get_latest_posts(client, limit=100):\n",
    "    feed = client.app.bsky.feed.get_timeline({'limit': limit})\n",
    "    posts = feed['feed']\n",
    "    return [{\n",
    "        'text': post['post']['record']['text'],\n",
    "        'uri': post['post']['uri'],\n",
    "        'cid': post['post']['cid'],\n",
    "        'handle': post['post']['author']['handle']\n",
    "    } for post in posts]"
   ]
  },
  {
   "cell_type": "code",
   "execution_count": 30,
   "metadata": {},
   "outputs": [],
   "source": [
    "response = client.app.bsky.feed.search_posts({'q': 'giveaway', 'limit': 10})"
   ]
  },
  {
   "cell_type": "code",
   "execution_count": 31,
   "metadata": {},
   "outputs": [
    {
     "data": {
      "text/plain": [
       "Response(posts=[PostView(author=ProfileViewBasic(did='did:plc:hslirr7h6d7livppaxty435b', handle='newsen.bsky.social', associated=None, avatar='https://cdn.bsky.app/img/avatar/plain/did:plc:hslirr7h6d7livppaxty435b/bafkreid4fvcye57t753arwjpz6ugrjpgpximwd5l5ngnm5c3g56nnb5qle@jpeg', created_at='2024-11-22T04:58:02.753Z', display_name='Thiard News@F4F', labels=[], viewer=ViewerState(blocked_by=False, blocking=None, blocking_by_list=None, followed_by=None, following=None, known_followers=None, muted=False, muted_by_list=None, py_type='app.bsky.actor.defs#viewerState'), py_type='app.bsky.actor.defs#profileViewBasic'), cid='bafyreif3dpjwve347bjispfz2mnv23flrdlmj5bwlg352cutlzozxal574', indexed_at='2025-04-15T23:31:19.427Z', record=Record(created_at='2025-04-15T23:31:16Z', text='Celebrate the YouTube Release of a New Voice Comic with a Special Giveaway! #Japan #Tokyo #Voice_Comic #KRT #Amemiya_Sora', embed=Main(external=External(description=\"Don't miss your chance to win signed art from renowned voice actors during the voice comic video's YouTube release celebration!\", title='Celebrate the YouTube Release of a New Voice Comic with a Special Giveaway!', uri='https://third-news.com/article/ba28615e-1a51-11f0-8987-9ca3ba0a67df', thumb=BlobRef(mime_type='image/webp', size=126520, ref=IpldLink(link='bafkreibviar4y5wyhcrwjyve55ypojrofqjme4mccoyl7l7sr7nd2az2de'), py_type='blob'), py_type='app.bsky.embed.external#external'), py_type='app.bsky.embed.external'), entities=None, facets=[Main(features=[Tag(tag='Japan', py_type='app.bsky.richtext.facet#tag')], index=ByteSlice(byte_end=82, byte_start=75, py_type='app.bsky.richtext.facet#byteSlice'), py_type='app.bsky.richtext.facet'), Main(features=[Tag(tag='Tokyo', py_type='app.bsky.richtext.facet#tag')], index=ByteSlice(byte_end=89, byte_start=82, py_type='app.bsky.richtext.facet#byteSlice'), py_type='app.bsky.richtext.facet'), Main(features=[Tag(tag='Voice_Comic', py_type='app.bsky.richtext.facet#tag')], index=ByteSlice(byte_end=102, byte_start=89, py_type='app.bsky.richtext.facet#byteSlice'), py_type='app.bsky.richtext.facet'), Main(features=[Tag(tag='KRT', py_type='app.bsky.richtext.facet#tag')], index=ByteSlice(byte_end=107, byte_start=102, py_type='app.bsky.richtext.facet#byteSlice'), py_type='app.bsky.richtext.facet'), Main(features=[Tag(tag='Amemiya_Sora', py_type='app.bsky.richtext.facet#tag')], index=ByteSlice(byte_end=121, byte_start=107, py_type='app.bsky.richtext.facet#byteSlice'), py_type='app.bsky.richtext.facet')], labels=None, langs=None, reply=None, tags=None, py_type='app.bsky.feed.post'), uri='at://did:plc:hslirr7h6d7livppaxty435b/app.bsky.feed.post/3lmvacgrufu2h', embed=View(external=ViewExternal(description=\"Don't miss your chance to win signed art from renowned voice actors during the voice comic video's YouTube release celebration!\", title='Celebrate the YouTube Release of a New Voice Comic with a Special Giveaway!', uri='https://third-news.com/article/ba28615e-1a51-11f0-8987-9ca3ba0a67df', thumb='https://cdn.bsky.app/img/feed_thumbnail/plain/did:plc:hslirr7h6d7livppaxty435b/bafkreibviar4y5wyhcrwjyve55ypojrofqjme4mccoyl7l7sr7nd2az2de@jpeg', py_type='app.bsky.embed.external#viewExternal'), py_type='app.bsky.embed.external#view'), labels=[], like_count=0, quote_count=0, reply_count=0, repost_count=0, threadgate=None, viewer=ViewerState(embedding_disabled=False, like=None, pinned=None, reply_disabled=None, repost=None, thread_muted=False, py_type='app.bsky.feed.defs#viewerState'), py_type='app.bsky.feed.defs#postView'), PostView(author=ProfileViewBasic(did='did:plc:c3xbkfgtzsq3pkiw22g5gpha', handle='divineafk.bsky.social', associated=None, avatar='https://cdn.bsky.app/img/avatar/plain/did:plc:c3xbkfgtzsq3pkiw22g5gpha/bafkreibng5jbahugcr3fy7iu7lylkvp55pj5jrbfyo3ta74qlxwwrd6tmq@jpeg', created_at='2025-04-05T05:40:33.293Z', display_name='', labels=[], viewer=ViewerState(blocked_by=False, blocking=None, blocking_by_list=None, followed_by=None, following=None, known_followers=None, muted=False, muted_by_list=None, py_type='app.bsky.actor.defs#viewerState'), py_type='app.bsky.actor.defs#profileViewBasic'), cid='bafyreic3lfmzngskpolvj6dsjyypu7dpl4ghjcannaniok6g3ase3zcuo4', indexed_at='2025-04-15T23:30:22.581Z', record=Record(created_at='2025-04-15T23:30:22.759Z', text='Ty 4 the giveaway', embed=Main(images=[Image(alt='', image=BlobRef(mime_type='image/jpeg', size=260061, ref=IpldLink(link='bafkreichn5vmcdcc5quoeo7g4obfgrhxkbqdpsgcvxprt65l3yzoqisn5u'), py_type='blob'), aspect_ratio=AspectRatio(height=1710, width=1080, py_type='app.bsky.embed.defs#aspectRatio'), py_type='app.bsky.embed.images#image')], py_type='app.bsky.embed.images'), entities=None, facets=None, labels=None, langs=['en'], reply=ReplyRef(parent=Main(cid='bafyreif6z4juqx7yktwi7oln4bpgmft5pag5vglsaohbemkdc5evfh57my', uri='at://did:plc:ptp3w4r2sqkqxp3w5m2xumai/app.bsky.feed.post/3lmtqrrkbdc2a', py_type='com.atproto.repo.strongRef'), root=Main(cid='bafyreif6z4juqx7yktwi7oln4bpgmft5pag5vglsaohbemkdc5evfh57my', uri='at://did:plc:ptp3w4r2sqkqxp3w5m2xumai/app.bsky.feed.post/3lmtqrrkbdc2a', py_type='com.atproto.repo.strongRef'), py_type='app.bsky.feed.post#replyRef'), tags=None, py_type='app.bsky.feed.post'), uri='at://did:plc:c3xbkfgtzsq3pkiw22g5gpha/app.bsky.feed.post/3lmvaarck2k2d', embed=View(images=[ViewImage(alt='', fullsize='https://cdn.bsky.app/img/feed_fullsize/plain/did:plc:c3xbkfgtzsq3pkiw22g5gpha/bafkreichn5vmcdcc5quoeo7g4obfgrhxkbqdpsgcvxprt65l3yzoqisn5u@jpeg', thumb='https://cdn.bsky.app/img/feed_thumbnail/plain/did:plc:c3xbkfgtzsq3pkiw22g5gpha/bafkreichn5vmcdcc5quoeo7g4obfgrhxkbqdpsgcvxprt65l3yzoqisn5u@jpeg', aspect_ratio=AspectRatio(height=1710, width=1080, py_type='app.bsky.embed.defs#aspectRatio'), py_type='app.bsky.embed.images#viewImage')], py_type='app.bsky.embed.images#view'), labels=[], like_count=0, quote_count=0, reply_count=0, repost_count=0, threadgate=None, viewer=ViewerState(embedding_disabled=False, like=None, pinned=None, reply_disabled=None, repost=None, thread_muted=False, py_type='app.bsky.feed.defs#viewerState'), py_type='app.bsky.feed.defs#postView'), PostView(author=ProfileViewBasic(did='did:plc:evcgiztrmbzluursyyx5v2sz', handle='liltristi.bsky.social', associated=None, avatar='https://cdn.bsky.app/img/avatar/plain/did:plc:evcgiztrmbzluursyyx5v2sz/bafkreiazbxmtz5lfbgq7usazy7gtx5xmgolecboxxxvivrbzfxmqw4s6pu@jpeg', created_at='2024-12-05T00:03:53.746Z', display_name='Mx. Link Neopolition', labels=[Label(cts='2024-12-05T00:03:55.034Z', src='did:plc:evcgiztrmbzluursyyx5v2sz', uri='at://did:plc:evcgiztrmbzluursyyx5v2sz/app.bsky.actor.profile/self', val='!no-unauthenticated', cid='bafyreih5ua2vwpiajywk7rzmy3jg4x4xnfi7ltdfhnmsrxvksnhhvxltxa', exp=None, neg=None, sig=None, ver=None, py_type='com.atproto.label.defs#label')], viewer=ViewerState(blocked_by=False, blocking=None, blocking_by_list=None, followed_by=None, following=None, known_followers=None, muted=False, muted_by_list=None, py_type='app.bsky.actor.defs#viewerState'), py_type='app.bsky.actor.defs#profileViewBasic'), cid='bafyreia2hpsb2cq4v45oqvzftil3z4rd3imjlyj3kd6xl62a5xkdinjy34', indexed_at='2025-04-15T23:29:31.680Z', record=Record(created_at='2025-04-15T23:29:39.727Z', text='Good luck to everyone and thank you so much Throne, not just for this giveaway, but for EVERYTHING you do for us!\\n\\nAlways appreciated, but never expected: throne.com/liltristi', embed=None, entities=None, facets=[Main(features=[Link(uri='https://throne.com/liltristi', py_type='app.bsky.richtext.facet#link')], index=ByteSlice(byte_end=175, byte_start=155, py_type='app.bsky.richtext.facet#byteSlice'), py_type='app.bsky.richtext.facet')], labels=None, langs=['en'], reply=ReplyRef(parent=Main(cid='bafyreib7s3tjcnpkqcp2qln5pmqcmfone6b6hau4yojnou2ezvmjptjsly', uri='at://did:plc:gqbnrqcblsjtcs4dgrw5itbw/app.bsky.feed.post/3lmv6lcviyl2t', py_type='com.atproto.repo.strongRef'), root=Main(cid='bafyreib7s3tjcnpkqcp2qln5pmqcmfone6b6hau4yojnou2ezvmjptjsly', uri='at://did:plc:gqbnrqcblsjtcs4dgrw5itbw/app.bsky.feed.post/3lmv6lcviyl2t', py_type='com.atproto.repo.strongRef'), py_type='app.bsky.feed.post#replyRef'), tags=None, py_type='app.bsky.feed.post'), uri='at://did:plc:evcgiztrmbzluursyyx5v2sz/app.bsky.feed.post/3lmva7ib7os2u', embed=None, labels=[], like_count=1, quote_count=0, reply_count=0, repost_count=0, threadgate=None, viewer=ViewerState(embedding_disabled=False, like=None, pinned=None, reply_disabled=None, repost=None, thread_muted=False, py_type='app.bsky.feed.defs#viewerState'), py_type='app.bsky.feed.defs#postView'), PostView(author=ProfileViewBasic(did='did:plc:jyhzrxpk7iawlvsj6qnqgdhu', handle='legacybookish.bsky.social', associated=None, avatar='https://cdn.bsky.app/img/avatar/plain/did:plc:jyhzrxpk7iawlvsj6qnqgdhu/bafkreihe7pbwdqv235inl4rcfhrah5bfncnkfw7rug2vplus6dnumztiou@jpeg', created_at='2024-10-19T13:59:37.310Z', display_name='', labels=[], viewer=ViewerState(blocked_by=False, blocking=None, blocking_by_list=None, followed_by=None, following=None, known_followers=None, muted=False, muted_by_list=None, py_type='app.bsky.actor.defs#viewerState'), py_type='app.bsky.actor.defs#profileViewBasic'), cid='bafyreifz5lds2sncgnlw75hu6i6atyet3gjjokobkedv5yvqnj4ys2fbry', indexed_at='2025-04-15T23:28:28.183Z', record=Record(created_at='2025-04-15T23:28:24.575Z', text='Giveaway happening this week! enter by commenting. #books #BookTwitter #readers #BOOKGIVEAWAY', embed=Main(images=[Image(alt='', image=BlobRef(mime_type='image/jpeg', size=587690, ref=IpldLink(link='bafkreic3iymruigxlyzad7vonaqfuunjgi3533cltxrcmb2aq2jht257eu'), py_type='blob'), aspect_ratio=AspectRatio(height=628, width=1200, py_type='app.bsky.embed.defs#aspectRatio'), py_type='app.bsky.embed.images#image')], py_type='app.bsky.embed.images'), entities=None, facets=[Main(features=[Tag(tag='books', py_type='app.bsky.richtext.facet#tag')], index=ByteSlice(byte_end=57, byte_start=51, py_type='app.bsky.richtext.facet#byteSlice'), py_type='app.bsky.richtext.facet'), Main(features=[Tag(tag='BookTwitter', py_type='app.bsky.richtext.facet#tag')], index=ByteSlice(byte_end=70, byte_start=58, py_type='app.bsky.richtext.facet#byteSlice'), py_type='app.bsky.richtext.facet'), Main(features=[Tag(tag='readers', py_type='app.bsky.richtext.facet#tag')], index=ByteSlice(byte_end=79, byte_start=71, py_type='app.bsky.richtext.facet#byteSlice'), py_type='app.bsky.richtext.facet'), Main(features=[Tag(tag='BOOKGIVEAWAY', py_type='app.bsky.richtext.facet#tag')], index=ByteSlice(byte_end=93, byte_start=80, py_type='app.bsky.richtext.facet#byteSlice'), py_type='app.bsky.richtext.facet')], labels=None, langs=['en'], reply=None, tags=None, py_type='app.bsky.feed.post'), uri='at://did:plc:jyhzrxpk7iawlvsj6qnqgdhu/app.bsky.feed.post/3lmva5am4rs2a', embed=View(images=[ViewImage(alt='', fullsize='https://cdn.bsky.app/img/feed_fullsize/plain/did:plc:jyhzrxpk7iawlvsj6qnqgdhu/bafkreic3iymruigxlyzad7vonaqfuunjgi3533cltxrcmb2aq2jht257eu@jpeg', thumb='https://cdn.bsky.app/img/feed_thumbnail/plain/did:plc:jyhzrxpk7iawlvsj6qnqgdhu/bafkreic3iymruigxlyzad7vonaqfuunjgi3533cltxrcmb2aq2jht257eu@jpeg', aspect_ratio=AspectRatio(height=628, width=1200, py_type='app.bsky.embed.defs#aspectRatio'), py_type='app.bsky.embed.images#viewImage')], py_type='app.bsky.embed.images#view'), labels=[], like_count=0, quote_count=0, reply_count=0, repost_count=0, threadgate=None, viewer=ViewerState(embedding_disabled=False, like=None, pinned=None, reply_disabled=None, repost=None, thread_muted=False, py_type='app.bsky.feed.defs#viewerState'), py_type='app.bsky.feed.defs#postView'), PostView(author=ProfileViewBasic(did='did:plc:raoteitk547yebaoxwsukva7', handle='funa-ch.bsky.social', associated=ProfileAssociated(chat=ProfileAssociatedChat(allow_incoming='all', py_type='app.bsky.actor.defs#profileAssociatedChat'), feedgens=None, labeler=None, lists=None, starter_packs=None, py_type='app.bsky.actor.defs#profileAssociated'), avatar='https://cdn.bsky.app/img/avatar/plain/did:plc:raoteitk547yebaoxwsukva7/bafkreiajxcnfl6irf2agjkrs4ptwnjrekkbxfbonaxasp77nmxpcaewqiu@jpeg', created_at='2024-10-17T23:20:10.206Z', display_name='Funa | Fairy Penguin VTuber 🦋🐧', labels=[], viewer=ViewerState(blocked_by=False, blocking=None, blocking_by_list=None, followed_by=None, following=None, known_followers=None, muted=False, muted_by_list=None, py_type='app.bsky.actor.defs#viewerState'), py_type='app.bsky.actor.defs#profileViewBasic'), cid='bafyreicr2u5szkqk5jyko2s2uamqkob3h5wyjehomyfebod7iwjjgaxhsy', indexed_at='2025-04-15T23:26:40.384Z', record=Record(created_at='2025-04-15T23:26:40.396Z', text='So cool to see Pandy to do a giveaway!\\n\\nOh, you might be the 1st 3D modeler streamer i watched ^^', embed=None, entities=None, facets=None, labels=None, langs=['en'], reply=ReplyRef(parent=Main(cid='bafyreidwe6b7wkpo732y6dntvdybpockxsvokz3k2snppxnlsjxbqvkizq', uri='at://did:plc:cgbewui2gxqa4z5obwq3im43/app.bsky.feed.post/3lkf6bv5ic22a', py_type='com.atproto.repo.strongRef'), root=Main(cid='bafyreidwe6b7wkpo732y6dntvdybpockxsvokz3k2snppxnlsjxbqvkizq', uri='at://did:plc:cgbewui2gxqa4z5obwq3im43/app.bsky.feed.post/3lkf6bv5ic22a', py_type='com.atproto.repo.strongRef'), py_type='app.bsky.feed.post#replyRef'), tags=None, py_type='app.bsky.feed.post'), uri='at://did:plc:raoteitk547yebaoxwsukva7/app.bsky.feed.post/3lmva25ahr22k', embed=None, labels=[], like_count=0, quote_count=0, reply_count=0, repost_count=0, threadgate=None, viewer=ViewerState(embedding_disabled=False, like=None, pinned=None, reply_disabled=None, repost=None, thread_muted=False, py_type='app.bsky.feed.defs#viewerState'), py_type='app.bsky.feed.defs#postView'), PostView(author=ProfileViewBasic(did='did:plc:cmejls3nggayhjh6ebofsuca', handle='kirbyconrod.bsky.social', associated=ProfileAssociated(chat=ProfileAssociatedChat(allow_incoming='following', py_type='app.bsky.actor.defs#profileAssociatedChat'), feedgens=None, labeler=None, lists=None, starter_packs=None, py_type='app.bsky.actor.defs#profileAssociated'), avatar='https://cdn.bsky.app/img/avatar/plain/did:plc:cmejls3nggayhjh6ebofsuca/bafkreiav2it6gzs3i7vvlvuuwjatkztt55qu37oxnl52rahk2jq4cwouem@jpeg', created_at='2023-05-03T14:12:03.412Z', display_name='Kirby Conrod ', labels=[], viewer=ViewerState(blocked_by=False, blocking=None, blocking_by_list=None, followed_by=None, following=None, known_followers=None, muted=False, muted_by_list=None, py_type='app.bsky.actor.defs#viewerState'), py_type='app.bsky.actor.defs#profileViewBasic'), cid='bafyreihlyzxz4tpxuywmklhvah5srfknoqxkj52t3c5mnpwkx34q3nrovm', indexed_at='2025-04-15T23:23:29.678Z', record=Record(created_at='2025-04-15T23:23:30.205Z', text=\"lol yes that's probably the giveaway, i guess i couldve cropped slightly more\", embed=None, entities=None, facets=None, labels=None, langs=['en'], reply=ReplyRef(parent=Main(cid='bafyreibsumb2r7mj5sy2lr2g5lcltygeledmjbwvh36n52ci5wk2vhbxg4', uri='at://did:plc:feurvzujr3ob42yazso5mdc6/app.bsky.feed.post/3lmv7seu7z226', py_type='com.atproto.repo.strongRef'), root=Main(cid='bafyreidtaoam52wxag5l7smb2no746jevlsk4yf7dw4xhbouowacm4nigq', uri='at://did:plc:cmejls3nggayhjh6ebofsuca/app.bsky.feed.post/3lmv72rl6tc26', py_type='com.atproto.repo.strongRef'), py_type='app.bsky.feed.post#replyRef'), tags=None, py_type='app.bsky.feed.post'), uri='at://did:plc:cmejls3nggayhjh6ebofsuca/app.bsky.feed.post/3lmv7uhubf226', embed=None, labels=[], like_count=0, quote_count=0, reply_count=0, repost_count=0, threadgate=None, viewer=ViewerState(embedding_disabled=False, like=None, pinned=None, reply_disabled=None, repost=None, thread_muted=False, py_type='app.bsky.feed.defs#viewerState'), py_type='app.bsky.feed.defs#postView'), PostView(author=ProfileViewBasic(did='did:plc:x7zxmjbmttzq62b62alkn67q', handle='contestreminder.bsky.social', associated=None, avatar='https://cdn.bsky.app/img/avatar/plain/did:plc:x7zxmjbmttzq62b62alkn67q/bafkreibqu5acsrgmtlay6yrcrwre3mqc5hpqwf4h5yjc7njez4p25h7btu@jpeg', created_at='2024-11-11T12:00:00.381Z', display_name='ContestReminder', labels=[], viewer=ViewerState(blocked_by=False, blocking=None, blocking_by_list=None, followed_by=None, following=None, known_followers=None, muted=False, muted_by_list=None, py_type='app.bsky.actor.defs#viewerState'), py_type='app.bsky.actor.defs#profileViewBasic'), cid='bafyreigbunblu6yheeiqiagfzqjnfns6rywvw6a6j7jb5hyyzlu65ddfkm', indexed_at='2025-04-15T23:21:19.591Z', record=Record(created_at='2025-04-15T23:21:19Z', text=\"Win a $3,000 Chicago Trip for Two to Explore the City 🗺️ #contest #sweepstakes #giveaway #vacation\\n\\n📅 Ends: April 22, 2025\\n✅ Entry Limit: Single\\n➡️ Enter Now: https://contestreminder.com/contest-69236/\\n\\n🚨 Open to U.S. Residents \\n\\n👇 Tag a friend you'd bring along! 👇\", embed=Main(external=External(description=\"Enter to win a $3,000 trip for two to Chicago and experience the city's best attractions. Tubby Todd's Chicago Playdate Giveaway is your chance to explore Chicago with the one you love.\", title='$3,000 Chicago Trip for Two', uri='https://contestreminder.com/contest/win-a-3000-chicago-trip-for-two-to-explore-the-city/', thumb=BlobRef(mime_type='image/png', size=40608, ref=IpldLink(link='bafkreidr7ttsc7k65c5xq74ceixuyhlmzhuokupz6ibulw5urhnafvqfhe'), py_type='blob'), py_type='app.bsky.embed.external#external'), py_type='app.bsky.embed.external'), entities=None, facets=[Main(features=[Link(uri='https://contestreminder.com/contest-69236/', py_type='app.bsky.richtext.facet#link')], index=ByteSlice(byte_end=215, byte_start=173, py_type='app.bsky.richtext.facet#byteSlice'), py_type='app.bsky.richtext.facet'), Main(features=[Tag(tag='contest', py_type='app.bsky.richtext.facet#tag')], index=ByteSlice(byte_end=70, byte_start=62, py_type='app.bsky.richtext.facet#byteSlice'), py_type='app.bsky.richtext.facet'), Main(features=[Tag(tag='sweepstakes', py_type='app.bsky.richtext.facet#tag')], index=ByteSlice(byte_end=83, byte_start=71, py_type='app.bsky.richtext.facet#byteSlice'), py_type='app.bsky.richtext.facet'), Main(features=[Tag(tag='giveaway', py_type='app.bsky.richtext.facet#tag')], index=ByteSlice(byte_end=93, byte_start=84, py_type='app.bsky.richtext.facet#byteSlice'), py_type='app.bsky.richtext.facet'), Main(features=[Tag(tag='vacation', py_type='app.bsky.richtext.facet#tag')], index=ByteSlice(byte_end=103, byte_start=94, py_type='app.bsky.richtext.facet#byteSlice'), py_type='app.bsky.richtext.facet')], labels=None, langs=['en-US'], reply=None, tags=None, py_type='app.bsky.feed.post'), uri='at://did:plc:x7zxmjbmttzq62b62alkn67q/app.bsky.feed.post/3lmv7ql7wpe2w', embed=View(external=ViewExternal(description=\"Enter to win a $3,000 trip for two to Chicago and experience the city's best attractions. Tubby Todd's Chicago Playdate Giveaway is your chance to explore Chicago with the one you love.\", title='$3,000 Chicago Trip for Two', uri='https://contestreminder.com/contest/win-a-3000-chicago-trip-for-two-to-explore-the-city/', thumb='https://cdn.bsky.app/img/feed_thumbnail/plain/did:plc:x7zxmjbmttzq62b62alkn67q/bafkreidr7ttsc7k65c5xq74ceixuyhlmzhuokupz6ibulw5urhnafvqfhe@jpeg', py_type='app.bsky.embed.external#viewExternal'), py_type='app.bsky.embed.external#view'), labels=[], like_count=0, quote_count=0, reply_count=0, repost_count=0, threadgate=None, viewer=ViewerState(embedding_disabled=False, like=None, pinned=None, reply_disabled=None, repost=None, thread_muted=False, py_type='app.bsky.feed.defs#viewerState'), py_type='app.bsky.feed.defs#postView'), PostView(author=ProfileViewBasic(did='did:plc:i2szlscfpbuflgdeoqu2acpv', handle='maerlande.bsky.social', associated=None, avatar='https://cdn.bsky.app/img/avatar/plain/did:plc:i2szlscfpbuflgdeoqu2acpv/bafkreihswocwnagufmdowma5pnfjiimkhmvkpfv3gui3kf2f7qv2rdhxtq@jpeg', created_at='2024-12-01T16:29:34.545Z', display_name='Don Allen', labels=[], viewer=ViewerState(blocked_by=False, blocking=None, blocking_by_list=None, followed_by=None, following=None, known_followers=None, muted=False, muted_by_list=None, py_type='app.bsky.actor.defs#viewerState'), py_type='app.bsky.actor.defs#profileViewBasic'), cid='bafyreialerhsgwi3cqqeixecy2dup4exjkpbxmysrifeqt2z7g7lapyfdy', indexed_at='2025-04-15T23:18:59.285Z', record=Record(created_at='2025-04-15T23:19:00.221Z', text='When in doubt, trolls use ad hominem.  Dead giveaway.', embed=None, entities=None, facets=None, labels=None, langs=['en'], reply=ReplyRef(parent=Main(cid='bafyreiegoauhueiym6isgimtuox3xo6yxbztnsfh4t3t32te6co6xjy56e', uri='at://did:plc:dwaviv5qqezuxe6uvpelgdgq/app.bsky.feed.post/3lmv6ig7ez222', py_type='com.atproto.repo.strongRef'), root=Main(cid='bafyreiegoauhueiym6isgimtuox3xo6yxbztnsfh4t3t32te6co6xjy56e', uri='at://did:plc:dwaviv5qqezuxe6uvpelgdgq/app.bsky.feed.post/3lmv6ig7ez222', py_type='com.atproto.repo.strongRef'), py_type='app.bsky.feed.post#replyRef'), tags=None, py_type='app.bsky.feed.post'), uri='at://did:plc:i2szlscfpbuflgdeoqu2acpv/app.bsky.feed.post/3lmv7mgez522p', embed=None, labels=[], like_count=1, quote_count=0, reply_count=0, repost_count=0, threadgate=None, viewer=ViewerState(embedding_disabled=False, like=None, pinned=None, reply_disabled=None, repost=None, thread_muted=False, py_type='app.bsky.feed.defs#viewerState'), py_type='app.bsky.feed.defs#postView'), PostView(author=ProfileViewBasic(did='did:plc:mzragqqkfdxox4yrchllsyvm', handle='xodus-prime.bsky.social', associated=None, avatar='https://cdn.bsky.app/img/avatar/plain/did:plc:mzragqqkfdxox4yrchllsyvm/bafkreieqnlxtlaznrkundjqfb6rjqf4avhnl2bu7monbe727iwzuh7ht6m@jpeg', created_at='2024-11-07T02:41:21.183Z', display_name='Xodus Prime', labels=[], viewer=ViewerState(blocked_by=False, blocking=None, blocking_by_list=None, followed_by=None, following=None, known_followers=None, muted=False, muted_by_list=None, py_type='app.bsky.actor.defs#viewerState'), py_type='app.bsky.actor.defs#profileViewBasic'), cid='bafyreigqb7nqjznjovvx5w46xit3k5upkxz5diio6er27mi4ojfb7szbry', indexed_at='2025-04-15T23:11:21.287Z', record=Record(created_at='2025-04-15T23:11:20.248Z', text='The red beard is always a giveaway. Usually they’re also missing front teeth.', embed=None, entities=None, facets=None, labels=None, langs=['en'], reply=ReplyRef(parent=Main(cid='bafyreiadsp4qmiphypdpu6noyfd2kgd5bqqbh26sactemjprw6si4q3pvu', uri='at://did:plc:yfmm2rols7l6larrbr4ohaih/app.bsky.feed.post/3lmv2dw4fk22f', py_type='com.atproto.repo.strongRef'), root=Main(cid='bafyreibsast45w3vut22mjuwspfnc2slxkktvnqtdwawec6lfxpprdudbm', uri='at://did:plc:xgiwtxbtt6xc7low5vdz7dq4/app.bsky.feed.post/3lmv2af7xv22p', py_type='com.atproto.repo.strongRef'), py_type='app.bsky.feed.post#replyRef'), tags=None, py_type='app.bsky.feed.post'), uri='at://did:plc:mzragqqkfdxox4yrchllsyvm/app.bsky.feed.post/3lmv76ppqqs2t', embed=None, labels=[], like_count=0, quote_count=0, reply_count=0, repost_count=0, threadgate=None, viewer=ViewerState(embedding_disabled=False, like=None, pinned=None, reply_disabled=None, repost=None, thread_muted=False, py_type='app.bsky.feed.defs#viewerState'), py_type='app.bsky.feed.defs#postView')], cursor='10', hits_total=None)"
      ]
     },
     "execution_count": 31,
     "metadata": {},
     "output_type": "execute_result"
    }
   ],
   "source": [
    "response"
   ]
  },
  {
   "cell_type": "code",
   "execution_count": 12,
   "metadata": {},
   "outputs": [
    {
     "data": {
      "text/plain": [
       "[{'text': '📢\\xa0App Version 1.100 is rolling out now (2/2)\\n\\nTrying to find more on Bluesky? The search page is now \"Explore,\" with updated trends, suggested accounts, and more!',\n",
       "  'uri': 'at://did:plc:z72i7hdynmk6r22z27h6tvur/app.bsky.feed.post/3lmi3hmjsak24',\n",
       "  'cid': 'bafyreiax6jqg2mg32yeyxb6bz42pwbd6mtqoxeo6rp6e7wwfhw2ef47dh4',\n",
       "  'handle': ProfileViewBasic(did='did:plc:z72i7hdynmk6r22z27h6tvur', handle='bsky.app', associated=ProfileAssociated(chat=ProfileAssociatedChat(allow_incoming='none', py_type='app.bsky.actor.defs#profileAssociatedChat'), feedgens=None, labeler=None, lists=None, starter_packs=None, py_type='app.bsky.actor.defs#profileAssociated'), avatar='https://cdn.bsky.app/img/avatar/plain/did:plc:z72i7hdynmk6r22z27h6tvur/bafkreihagr2cmvl2jt4mgx3sppwe2it3fwolkrbtjrhcnwjk4jdijhsoze@jpeg', created_at='2023-04-12T04:53:57.057Z', display_name='Bluesky', labels=[], viewer=ViewerState(blocked_by=False, blocking=None, blocking_by_list=None, followed_by=None, following='at://did:plc:yzpplgm5kftdgpf2wsnrbgdn/app.bsky.graph.follow/3li36oddve32u', known_followers=None, muted=False, muted_by_list=None, py_type='app.bsky.actor.defs#viewerState'), py_type='app.bsky.actor.defs#profileViewBasic')},\n",
       " {'text': '📢\\xa0App Version 1.100 is rolling out now (1/2)\\n\\nChat reactions are here! You can now respond to chat messages (aka “direct messages”) with an emoji ❤️',\n",
       "  'uri': 'at://did:plc:z72i7hdynmk6r22z27h6tvur/app.bsky.feed.post/3lmi3hlglc224',\n",
       "  'cid': 'bafyreihbk62hhazqtq5oyi66nn2hpayjq6n5pwjhskceoxvwoww6hlo6ba',\n",
       "  'handle': ProfileViewBasic(did='did:plc:z72i7hdynmk6r22z27h6tvur', handle='bsky.app', associated=ProfileAssociated(chat=ProfileAssociatedChat(allow_incoming='none', py_type='app.bsky.actor.defs#profileAssociatedChat'), feedgens=None, labeler=None, lists=None, starter_packs=None, py_type='app.bsky.actor.defs#profileAssociated'), avatar='https://cdn.bsky.app/img/avatar/plain/did:plc:z72i7hdynmk6r22z27h6tvur/bafkreihagr2cmvl2jt4mgx3sppwe2it3fwolkrbtjrhcnwjk4jdijhsoze@jpeg', created_at='2023-04-12T04:53:57.057Z', display_name='Bluesky', labels=[], viewer=ViewerState(blocked_by=False, blocking=None, blocking_by_list=None, followed_by=None, following='at://did:plc:yzpplgm5kftdgpf2wsnrbgdn/app.bsky.graph.follow/3li36oddve32u', known_followers=None, muted=False, muted_by_list=None, py_type='app.bsky.actor.defs#viewerState'), py_type='app.bsky.actor.defs#profileViewBasic')},\n",
       " {'text': 'Wish that you spent your Friday doing something besides checking if TikTok was banned or not? \\n\\nTry out @skylight.social — a video app built upon the same open network as Bluesky. You can login with your Bluesky account, and all of your followers seamlessly come with you.',\n",
       "  'uri': 'at://did:plc:z72i7hdynmk6r22z27h6tvur/app.bsky.feed.post/3llzh4fl3o226',\n",
       "  'cid': 'bafyreicobacv6kaihelynsknxdao77xggh3z4hfxyasbldmxeij64ua6rm',\n",
       "  'handle': ProfileViewBasic(did='did:plc:z72i7hdynmk6r22z27h6tvur', handle='bsky.app', associated=ProfileAssociated(chat=ProfileAssociatedChat(allow_incoming='none', py_type='app.bsky.actor.defs#profileAssociatedChat'), feedgens=None, labeler=None, lists=None, starter_packs=None, py_type='app.bsky.actor.defs#profileAssociated'), avatar='https://cdn.bsky.app/img/avatar/plain/did:plc:z72i7hdynmk6r22z27h6tvur/bafkreihagr2cmvl2jt4mgx3sppwe2it3fwolkrbtjrhcnwjk4jdijhsoze@jpeg', created_at='2023-04-12T04:53:57.057Z', display_name='Bluesky', labels=[], viewer=ViewerState(blocked_by=False, blocking=None, blocking_by_list=None, followed_by=None, following='at://did:plc:yzpplgm5kftdgpf2wsnrbgdn/app.bsky.graph.follow/3li36oddve32u', known_followers=None, muted=False, muted_by_list=None, py_type='app.bsky.actor.defs#viewerState'), py_type='app.bsky.actor.defs#profileViewBasic')},\n",
       " {'text': \"We're listening to your feedback and updating the character count for posts on Bluesky. \\n\\nPosts can now be 299 characters long!\",\n",
       "  'uri': 'at://did:plc:z72i7hdynmk6r22z27h6tvur/app.bsky.feed.post/3llqwu7r34c2e',\n",
       "  'cid': 'bafyreicpq5yak24snyyuqbmhkoqtcoc7bx2y7fpj6vqtlvj67woig4eauq',\n",
       "  'handle': ProfileViewBasic(did='did:plc:z72i7hdynmk6r22z27h6tvur', handle='bsky.app', associated=ProfileAssociated(chat=ProfileAssociatedChat(allow_incoming='none', py_type='app.bsky.actor.defs#profileAssociatedChat'), feedgens=None, labeler=None, lists=None, starter_packs=None, py_type='app.bsky.actor.defs#profileAssociated'), avatar='https://cdn.bsky.app/img/avatar/plain/did:plc:z72i7hdynmk6r22z27h6tvur/bafkreihagr2cmvl2jt4mgx3sppwe2it3fwolkrbtjrhcnwjk4jdijhsoze@jpeg', created_at='2023-04-12T04:53:57.057Z', display_name='Bluesky', labels=[], viewer=ViewerState(blocked_by=False, blocking=None, blocking_by_list=None, followed_by=None, following='at://did:plc:yzpplgm5kftdgpf2wsnrbgdn/app.bsky.graph.follow/3li36oddve32u', known_followers=None, muted=False, muted_by_list=None, py_type='app.bsky.actor.defs#viewerState'), py_type='app.bsky.actor.defs#profileViewBasic')},\n",
       " {'text': 'Thank you to everyone who ordered a shirt! The preorder window is now closed.\\n\\nOur team is hard at work bringing them to life. We expect to start shipping by mid April. You will receive a confirmation email as soon as your order is on its way.\\n\\nWe appreciate your patience and support!',\n",
       "  'uri': 'at://did:plc:z72i7hdynmk6r22z27h6tvur/app.bsky.feed.post/3lla2nyxzec2t',\n",
       "  'cid': 'bafyreiblioyl2zpatm7jfzkozybx6mgxg42a5bbikpzqdirnojipifu5kq',\n",
       "  'handle': ProfileViewBasic(did='did:plc:z72i7hdynmk6r22z27h6tvur', handle='bsky.app', associated=ProfileAssociated(chat=ProfileAssociatedChat(allow_incoming='none', py_type='app.bsky.actor.defs#profileAssociatedChat'), feedgens=None, labeler=None, lists=None, starter_packs=None, py_type='app.bsky.actor.defs#profileAssociated'), avatar='https://cdn.bsky.app/img/avatar/plain/did:plc:z72i7hdynmk6r22z27h6tvur/bafkreihagr2cmvl2jt4mgx3sppwe2it3fwolkrbtjrhcnwjk4jdijhsoze@jpeg', created_at='2023-04-12T04:53:57.057Z', display_name='Bluesky', labels=[], viewer=ViewerState(blocked_by=False, blocking=None, blocking_by_list=None, followed_by=None, following='at://did:plc:yzpplgm5kftdgpf2wsnrbgdn/app.bsky.graph.follow/3li36oddve32u', known_followers=None, muted=False, muted_by_list=None, py_type='app.bsky.actor.defs#viewerState'), py_type='app.bsky.actor.defs#profileViewBasic')},\n",
       " {'text': 'Only one day left to place an order! \\n\\nworldwithoutcaesars.com',\n",
       "  'uri': 'at://did:plc:z72i7hdynmk6r22z27h6tvur/app.bsky.feed.post/3ll5ddl5k6s2s',\n",
       "  'cid': 'bafyreidaalolouzzp5auw2icfa73stosamvqfizowb6wjivk2d5bi2p3ni',\n",
       "  'handle': ProfileViewBasic(did='did:plc:z72i7hdynmk6r22z27h6tvur', handle='bsky.app', associated=ProfileAssociated(chat=ProfileAssociatedChat(allow_incoming='none', py_type='app.bsky.actor.defs#profileAssociatedChat'), feedgens=None, labeler=None, lists=None, starter_packs=None, py_type='app.bsky.actor.defs#profileAssociated'), avatar='https://cdn.bsky.app/img/avatar/plain/did:plc:z72i7hdynmk6r22z27h6tvur/bafkreihagr2cmvl2jt4mgx3sppwe2it3fwolkrbtjrhcnwjk4jdijhsoze@jpeg', created_at='2023-04-12T04:53:57.057Z', display_name='Bluesky', labels=[], viewer=ViewerState(blocked_by=False, blocking=None, blocking_by_list=None, followed_by=None, following='at://did:plc:yzpplgm5kftdgpf2wsnrbgdn/app.bsky.graph.follow/3li36oddve32u', known_followers=None, muted=False, muted_by_list=None, py_type='app.bsky.actor.defs#viewerState'), py_type='app.bsky.actor.defs#profileViewBasic')},\n",
       " {'text': 'Only four days left to place an order! \\n\\nworldwithoutcaesars.com',\n",
       "  'uri': 'at://did:plc:z72i7hdynmk6r22z27h6tvur/app.bsky.feed.post/3lkvoqk7aps2j',\n",
       "  'cid': 'bafyreiha27k3ephvwfvmcadwhjtlrlgtaqrf3nybxmzfgexcqq7lia3npe',\n",
       "  'handle': ProfileViewBasic(did='did:plc:z72i7hdynmk6r22z27h6tvur', handle='bsky.app', associated=ProfileAssociated(chat=ProfileAssociatedChat(allow_incoming='none', py_type='app.bsky.actor.defs#profileAssociatedChat'), feedgens=None, labeler=None, lists=None, starter_packs=None, py_type='app.bsky.actor.defs#profileAssociated'), avatar='https://cdn.bsky.app/img/avatar/plain/did:plc:z72i7hdynmk6r22z27h6tvur/bafkreihagr2cmvl2jt4mgx3sppwe2it3fwolkrbtjrhcnwjk4jdijhsoze@jpeg', created_at='2023-04-12T04:53:57.057Z', display_name='Bluesky', labels=[], viewer=ViewerState(blocked_by=False, blocking=None, blocking_by_list=None, followed_by=None, following='at://did:plc:yzpplgm5kftdgpf2wsnrbgdn/app.bsky.graph.follow/3li36oddve32u', known_followers=None, muted=False, muted_by_list=None, py_type='app.bsky.actor.defs#viewerState'), py_type='app.bsky.actor.defs#profileViewBasic')},\n",
       " {'text': \"Publishers have already shared that they're receiving more and higher-quality engagement on Bluesky compared to legacy platforms.\\n\\nReferral metrics help newsrooms more accurately measure Bluesky's role in reaching their audiences.\",\n",
       "  'uri': 'at://did:plc:z72i7hdynmk6r22z27h6tvur/app.bsky.feed.post/3lktlkvngcc2k',\n",
       "  'cid': 'bafyreif2qga6drzxdsmkfftp6eixy4mp7siz776gaxwduinuzt6ehg6o6y',\n",
       "  'handle': ProfileViewBasic(did='did:plc:z72i7hdynmk6r22z27h6tvur', handle='bsky.app', associated=ProfileAssociated(chat=ProfileAssociatedChat(allow_incoming='none', py_type='app.bsky.actor.defs#profileAssociatedChat'), feedgens=None, labeler=None, lists=None, starter_packs=None, py_type='app.bsky.actor.defs#profileAssociated'), avatar='https://cdn.bsky.app/img/avatar/plain/did:plc:z72i7hdynmk6r22z27h6tvur/bafkreihagr2cmvl2jt4mgx3sppwe2it3fwolkrbtjrhcnwjk4jdijhsoze@jpeg', created_at='2023-04-12T04:53:57.057Z', display_name='Bluesky', labels=[], viewer=ViewerState(blocked_by=False, blocking=None, blocking_by_list=None, followed_by=None, following='at://did:plc:yzpplgm5kftdgpf2wsnrbgdn/app.bsky.graph.follow/3li36oddve32u', known_followers=None, muted=False, muted_by_list=None, py_type='app.bsky.actor.defs#viewerState'), py_type='app.bsky.actor.defs#profileViewBasic')},\n",
       " {'text': \"We view the Bluesky app as a lobby to the open social web, and we don't demote or throttle links.\\n\\nWe believe it should be easy for you to connect your social following here with your web presence elsewhere.\",\n",
       "  'uri': 'at://did:plc:z72i7hdynmk6r22z27h6tvur/app.bsky.feed.post/3lktlkvneds2k',\n",
       "  'cid': 'bafyreic2zp3hthu2pzv7ll5it7uc3asrfd4blkhcmvos2x7traysbldita',\n",
       "  'handle': ProfileViewBasic(did='did:plc:z72i7hdynmk6r22z27h6tvur', handle='bsky.app', associated=ProfileAssociated(chat=ProfileAssociatedChat(allow_incoming='none', py_type='app.bsky.actor.defs#profileAssociatedChat'), feedgens=None, labeler=None, lists=None, starter_packs=None, py_type='app.bsky.actor.defs#profileAssociated'), avatar='https://cdn.bsky.app/img/avatar/plain/did:plc:z72i7hdynmk6r22z27h6tvur/bafkreihagr2cmvl2jt4mgx3sppwe2it3fwolkrbtjrhcnwjk4jdijhsoze@jpeg', created_at='2023-04-12T04:53:57.057Z', display_name='Bluesky', labels=[], viewer=ViewerState(blocked_by=False, blocking=None, blocking_by_list=None, followed_by=None, following='at://did:plc:yzpplgm5kftdgpf2wsnrbgdn/app.bsky.graph.follow/3li36oddve32u', known_followers=None, muted=False, muted_by_list=None, py_type='app.bsky.actor.defs#viewerState'), py_type='app.bsky.actor.defs#profileViewBasic')},\n",
       " {'text': \"We 💙 links!\\n\\nStarting this week, we've made it even easier for newsrooms and more to track how much traffic Bluesky is sending to their sites.\\n\\nFor those setting up analytics, Bluesky's referrer is go.bsky.app.\",\n",
       "  'uri': 'at://did:plc:z72i7hdynmk6r22z27h6tvur/app.bsky.feed.post/3lktlkvn2lc2k',\n",
       "  'cid': 'bafyreidfwmhecwgueu7a5ykkc34bqmqczmmmkrznlanweahyxlrwhuszuq',\n",
       "  'handle': ProfileViewBasic(did='did:plc:z72i7hdynmk6r22z27h6tvur', handle='bsky.app', associated=ProfileAssociated(chat=ProfileAssociatedChat(allow_incoming='none', py_type='app.bsky.actor.defs#profileAssociatedChat'), feedgens=None, labeler=None, lists=None, starter_packs=None, py_type='app.bsky.actor.defs#profileAssociated'), avatar='https://cdn.bsky.app/img/avatar/plain/did:plc:z72i7hdynmk6r22z27h6tvur/bafkreihagr2cmvl2jt4mgx3sppwe2it3fwolkrbtjrhcnwjk4jdijhsoze@jpeg', created_at='2023-04-12T04:53:57.057Z', display_name='Bluesky', labels=[], viewer=ViewerState(blocked_by=False, blocking=None, blocking_by_list=None, followed_by=None, following='at://did:plc:yzpplgm5kftdgpf2wsnrbgdn/app.bsky.graph.follow/3li36oddve32u', known_followers=None, muted=False, muted_by_list=None, py_type='app.bsky.actor.defs#viewerState'), py_type='app.bsky.actor.defs#profileViewBasic')}]"
      ]
     },
     "execution_count": 12,
     "metadata": {},
     "output_type": "execute_result"
    }
   ],
   "source": [
    "get_latest_posts(client, 10)"
   ]
  },
  {
   "cell_type": "code",
   "execution_count": 4,
   "metadata": {},
   "outputs": [
    {
     "name": "stdout",
     "output_type": "stream",
     "text": [
      "{'created_at': '2025-03-20T20:14:57.103160+00:00',\n",
      " 'embed': Main(images=[Image(alt='dog', image=BlobRef(mime_type='image/jpeg', size=169278, ref=IpldLink(link='bafkreibahplioamouecglrcqnshcxzdrwawdtwl5h676d2l7k7xbbti3pa'), py_type='blob'), aspect_ratio=None, py_type='app.bsky.embed.images#image')], py_type='app.bsky.embed.images'),\n",
      " 'entities': None,\n",
      " 'facets': None,\n",
      " 'labels': None,\n",
      " 'langs': ['en'],\n",
      " 'py_type': 'app.bsky.feed.post',\n",
      " 'reply': None,\n",
      " 'tags': None,\n",
      " 'text': 'check out this dog!'}\n"
     ]
    }
   ],
   "source": [
    "def post_from_url(client: Client, url: str):\n",
    "    \"\"\"\n",
    "    Retrieve a Bluesky post from its URL\n",
    "    \"\"\"\n",
    "    parts = url.split(\"/\")\n",
    "    rkey = parts[-1]\n",
    "    handle = parts[-3]\n",
    "    return client.get_post(rkey, handle)\n",
    "\n",
    "post = post_from_url(client, \"https://bsky.app/profile/labeler-test.bsky.social/post/3lktj7ewxxv2q\")\n",
    "pprint.pprint(post.value.__dict__)"
   ]
  },
  {
   "cell_type": "code",
   "execution_count": 5,
   "metadata": {},
   "outputs": [
    {
     "data": {
      "text/plain": [
       "'check out this dog!'"
      ]
     },
     "execution_count": 5,
     "metadata": {},
     "output_type": "execute_result"
    }
   ],
   "source": [
    "post.value.text"
   ]
  },
  {
   "cell_type": "code",
   "execution_count": 6,
   "metadata": {},
   "outputs": [
    {
     "name": "stdout",
     "output_type": "stream",
     "text": [
      "Post 0: This is Sigourney Weaver and Alice. Sigourney Weaver is hard at work digging a hole, and Alice has accepted her very avoidable fate. 13/10 for both\n",
      "Post 1: With your help, we sponsored the care Fiyero needed for his seizures. His foster family also officially adopted him!\n",
      " Fiyero’s been a champ at every check-up and is adjusting nicely to his medication. Thanks to you, he’s set for life with humans who already adore him ❤️‍🩹\n",
      "Post 2: CONGRATS FIYERO ❤️\n",
      "Post 3: Marley became one with the burger. 🍔  😂\n",
      "Post 4: This is Marley. He does not simply eat his hamburgers. He inhales them. 13/10\n",
      "Post 5: 🚨 FLIPPER GOT ADOPTED!!! 🚨\n",
      "\n",
      "She also can’t stop showing off her front legs, which you helped straighten and heal. These days, she puts them to good use wrestling with her new sister, Sweetie. According to her rescue, it was love at first sight. Thanks for giving this girl her happily ever after ❤️‍🩹\n",
      "Post 6: new best friends right there!\n",
      "Post 7: You need this little hop\n",
      "Post 8: This is Wallace. He did immediately try to eat his new babysitters, but beginning to test authority is a perfectly normal part of growing up. 12/10\n",
      "Post 9: And you just know Bob WILL be timing your coffee break ⏱️\n",
      "Likes: ['phaves.bsky.social', 'cb-7.bsky.social', 'thaisdf17.bsky.social', 'gianlep.bsky.social', 'tomato-letnic.bsky.social', 'ramanag.bsky.social', 'texassnow.bsky.social', 'antifa75.bsky.social', 'smudgedragon.bsky.social', 'spuncosmos.bsky.social']\n",
      "['Their bath time afterwards must’ve been epic, especially Alice’s lol', 'Sir, it is called a fetish. Nearly everypup has one.\\n😉', '🤩😂', 'My take is that Sigourney has proven herself in previous digs; Alice is just biding her time to treasure glory.🦴🦴🦴', 'Alice sweetie, Amazing', 'I’m not saying that you shouldn’t love them, but they do seem to be very dumb dogs.', \"I have an Alice, his name is Champ. He's a very good boy except when squirrels invade; he then stands at the bottom of the tree and stares into the atmosphere, willing them to descend. It never works, but he is not dissuaded.\", '4th smartest dog breed, folks.', 'gee, the last time Sigourney Weaver wanted some big Holes she made a bunch of kids do it!', 'Oh Alice. ❤️']\n"
     ]
    }
   ],
   "source": [
    "# https://github.com/MarshalX/atproto/blob/main/examples/profile_posts.py\n",
    "prof_feed = client.get_author_feed(actor=\"weratedogs.com\")\n",
    "for i, feed_view in enumerate(prof_feed.feed[:10]):\n",
    "    print(f\"Post {i}:\", feed_view.post.record.text)\n",
    "\n",
    "post = prof_feed.feed[0].post\n",
    "likes_resp = client.get_likes(post.uri, post.cid, limit=10)\n",
    "print(\"Likes:\", [like.actor.handle for like in likes_resp.likes])\n",
    "\n",
    "post_thread_resp = client.get_post_thread(post.uri)\n",
    "print([rep.post.record.text for rep in post_thread_resp.thread.replies[:10]])"
   ]
  },
  {
   "cell_type": "markdown",
   "metadata": {},
   "source": [
    "## Followers/following"
   ]
  },
  {
   "cell_type": "markdown",
   "metadata": {},
   "source": [
    "How might you use this information to investigate/mitigate a harm?"
   ]
  },
  {
   "cell_type": "code",
   "execution_count": 7,
   "metadata": {},
   "outputs": [
    {
     "name": "stdout",
     "output_type": "stream",
     "text": [
      "Followers: ['kelly3010.bsky.social', 'homaksu.bsky.social', 'jennifersamule.bsky.social', 'walkerbn.bsky.social', 'cuneyterdem0.bsky.social', 'shinddha.bsky.social', 'yooperann.bsky.social', 'tor37.bsky.social', 'windowtothesoull.bsky.social', 'twocakesup.bsky.social']\n",
      "Following: ['15outof10.org']\n"
     ]
    }
   ],
   "source": [
    "\n",
    "follower_resp = client.get_followers(\"weratedogs.com\", limit=10)\n",
    "following_resp = client.get_follows(\"weratedogs.com\", limit=10)\n",
    "print(\"Followers:\", [follower.handle for follower in follower_resp.followers])\n",
    "print(\"Following:\", [follow.handle for follow in following_resp.follows])\n",
    "\n"
   ]
  },
  {
   "cell_type": "markdown",
   "metadata": {},
   "source": [
    "## Exercise: Compute average dog ratings\n",
    "The WeRateDogs account includes ratings out of 10 within some of its posts.\n",
    "Write a script that computes the average rating (out of 10) for the 100 most\n",
    "recent posts from this account. (note that not every post will have a rating)"
   ]
  },
  {
   "cell_type": "code",
   "execution_count": 9,
   "metadata": {},
   "outputs": [],
   "source": [
    "import re"
   ]
  },
  {
   "cell_type": "code",
   "execution_count": null,
   "metadata": {},
   "outputs": [
    {
     "ename": "SyntaxError",
     "evalue": "invalid syntax (2591856962.py, line 1)",
     "output_type": "error",
     "traceback": [
      "  \u001b[36mCell\u001b[39m\u001b[36m \u001b[39m\u001b[32mIn[7]\u001b[39m\u001b[32m, line 1\u001b[39m\n\u001b[31m    \u001b[39m\u001b[31mpip install atproto\u001b[39m\n        ^\n\u001b[31mSyntaxError\u001b[39m\u001b[31m:\u001b[39m invalid syntax\n"
     ]
    }
   ],
   "source": [
    "pip install atproto\n",
    "pip install dotenv"
   ]
  },
  {
   "cell_type": "code",
   "execution_count": 6,
   "metadata": {},
   "outputs": [
    {
     "ename": "ModuleNotFoundError",
     "evalue": "No module named 'atproto'",
     "output_type": "error",
     "traceback": [
      "\u001b[31m---------------------------------------------------------------------------\u001b[39m",
      "\u001b[31mModuleNotFoundError\u001b[39m                       Traceback (most recent call last)",
      "\u001b[36mCell\u001b[39m\u001b[36m \u001b[39m\u001b[32mIn[6]\u001b[39m\u001b[32m, line 5\u001b[39m\n\u001b[32m      3\u001b[39m \u001b[38;5;28;01mimport\u001b[39;00m\u001b[38;5;250m \u001b[39m\u001b[34;01mtime\u001b[39;00m \n\u001b[32m      4\u001b[39m \u001b[38;5;28;01mimport\u001b[39;00m\u001b[38;5;250m \u001b[39m\u001b[34;01mjson\u001b[39;00m \n\u001b[32m----> \u001b[39m\u001b[32m5\u001b[39m \u001b[38;5;28;01mfrom\u001b[39;00m\u001b[38;5;250m \u001b[39m\u001b[34;01matproto\u001b[39;00m\u001b[38;5;250m \u001b[39m\u001b[38;5;28;01mimport\u001b[39;00m Client\n\u001b[32m      6\u001b[39m \u001b[38;5;28;01mfrom\u001b[39;00m\u001b[38;5;250m \u001b[39m\u001b[34;01mdotenv\u001b[39;00m\u001b[38;5;250m \u001b[39m\u001b[38;5;28;01mimport\u001b[39;00m load_dotenv\n\u001b[32m      7\u001b[39m \u001b[38;5;28;01mimport\u001b[39;00m\u001b[38;5;250m \u001b[39m\u001b[34;01mos\u001b[39;00m \n",
      "\u001b[31mModuleNotFoundError\u001b[39m: No module named 'atproto'"
     ]
    }
   ],
   "source": [
    "import pandas as pd \n",
    "import re\n",
    "import time \n",
    "import json \n",
    "from atproto import Client\n",
    "from dotenv import load_dotenv\n",
    "import os \n",
    "\n",
    "load_dotenv(override=True)\n",
    "USERNAME = os.getenv(\"USERNAME\")\n",
    "PW = os.getenv(\"PW\")\n",
    "\n",
    "client = Client()\n",
    "client.login(USERNAME, PW)\n",
    "\n",
    "df_keywords = pd.read_csv(\"./giveaway-labeler/giveaway-words.csv\")\n",
    "giveaway_words = df_keywords['word'].dropna().tolist()\n",
    "cta_words = df_keywords['call-to-action'].dropna().tolist()\n",
    "\n",
    "df_urls = pd.read_csv(\"./bluesky_giveaway_labels.csv\")\n",
    "post_urls = df_urls['URL'].dropna().tolist()\n",
    "\n",
    "confirmed_matches = []\n",
    "\n",
    "for url in post_urls:\n",
    "    try:\n",
    "        parts = url.split('/post/')\n",
    "        did = parts[0].split('/')[-1]\n",
    "        rkey = parts[1]\n",
    "\n",
    "        post = client.com.atproto.repo.get_record({\n",
    "            \"repo\": did,\n",
    "            \"collection\": \"app.bsky.feed.post\",\n",
    "            \"rkey\": rkey\n",
    "        })\n",
    "\n",
    "        text = post['value'].get('text', '')\n",
    "\n",
    "        has_giveaway = any(re.search(rf\"\\b{re.escape(word)}\\b\", text, re.IGNORECASE) for word in giveaway_words)\n",
    "        has_cta = any(re.search(rf\"\\b{re.escape(cta)}\\b\", text, re.IGNORECASE) for cta in cta_words)\n",
    "\n",
    "        if has_giveaway and has_cta:\n",
    "            actor_info = client.app.bsky.actor.get_profile({'actor':did})\n",
    "            confirmed_matches.append({\n",
    "                \"url\": url,\n",
    "                \"did\": did,\n",
    "                \"rkey\": rkey,\n",
    "                \"text\": text,\n",
    "                \"followers_count\": actor_info.get(\"followersCount\"),\n",
    "                \"follows_count\": actor_info.get(\"followsCount\"),\n",
    "                \"posts_count\": actor_info.get(\"postsCount\"),\n",
    "                \"created_at\": actor_info.get(\"createdAt\"),\n",
    "            })\n",
    "\n",
    "            time.sleep(0.4)\n",
    "\n",
    "    except Exception as e:\n",
    "        print(f\"Error processing URL {url}: {e}\")\n",
    "        continue\n",
    "\n",
    "print(f\"Confirmed {len(confirmed_matches)} posts with BOTH a giveaway word and a CTA.\")"
   ]
  },
  {
   "cell_type": "code",
   "execution_count": 10,
   "metadata": {},
   "outputs": [],
   "source": [
    "def extract_score(text):\n",
    "    # This pattern looks for:\n",
    "    # \\d+ - one or more digits\n",
    "    # \\s* - optional whitespace\n",
    "    # / - literal forward slash\n",
    "    # \\s* - optional whitespace\n",
    "    # 10 - literal \"10\"\n",
    "    pattern = r'(\\d+)\\s*/\\s*10'\n",
    "    match = re.search(pattern, text)\n",
    "    if match:\n",
    "        return int(match.group(1))\n",
    "    return None"
   ]
  },
  {
   "cell_type": "code",
   "execution_count": 13,
   "metadata": {},
   "outputs": [
    {
     "name": "stdout",
     "output_type": "stream",
     "text": [
      "The average rating is: 13.0\n"
     ]
    }
   ],
   "source": [
    "def compute_avg_dog_rating(num_posts):\n",
    "    # TODO: complete\n",
    "    total_score = 0\n",
    "    num_scores = 0\n",
    "    for i, feed_view in enumerate(prof_feed.feed[:num_posts]):\n",
    "        score = extract_score(feed_view.post.record.text)\n",
    "        if score is not None:\n",
    "            # print(f\"Found score: {score}/10\")\n",
    "            total_score += score\n",
    "            num_scores += 1\n",
    "        # else:\n",
    "            # print(\"No score found in the format X/10\")\n",
    "    return total_score / num_scores if num_scores > 0 else 0\n",
    "\n",
    "print(\"The average rating is:\", compute_avg_dog_rating(100))"
   ]
  },
  {
   "cell_type": "markdown",
   "metadata": {},
   "source": [
    "## Exercise: Dog names\n",
    "Collect the names of dogs within the latest 100 posts and print them to the\n",
    "console. Hint: see if you can identify a pattern in the posts."
   ]
  },
  {
   "cell_type": "code",
   "execution_count": 15,
   "metadata": {},
   "outputs": [],
   "source": [
    "def extract_names(text):\n",
    "    # This pattern looks for:\n",
    "    # (?<![\\.\\?\\!]\\s) - negative lookbehind for period/question mark/exclamation followed by whitespace\n",
    "    # (?<!\\A) - negative lookbehind for start of string\n",
    "    # \\b[A-Z][a-zA-Z]*\\b - word boundary, capital letter, followed by any letters, word boundary\n",
    "    pattern = r'(?<![\\.\\?\\!]\\s)(?<!\\A)\\b[A-Z][a-zA-Z]*\\b'\n",
    "    \n",
    "    matches = re.finditer(pattern, text)\n",
    "    return [match.group() for match in matches]"
   ]
  },
  {
   "cell_type": "code",
   "execution_count": 16,
   "metadata": {},
   "outputs": [
    {
     "name": "stdout",
     "output_type": "stream",
     "text": [
      "Here are the dog_names: ['George', 'SeniorPupSaturday', 'Fiyero', 'Dasia', 'The', 'Farmers', 'Dog', 'Top', 'Dogs', 'Dill', 'GIANT', 'Roger', 'Roger', 'ER', 'Panda', 'We', 'Panda', 'Panda', 'I', 'Ellie', 'Flipper', 'ALL', 'Good', 'Lucie', 'Muamba', 'Ollie', 'Heckles', 'ONLY', 'April', 'Top', 'WORST', 'Dogs', 'Joey', 'Bambi', 'Top', 'Dogs', 'March', 'Pippa', 'SeniorPupSaturday', 'Thank', 'Butterfly', 'Butterfly', 'Top', 'Dogs', 'Leon', 'Hubie', 'Fig', 'Oreo', 'FBI', 'Choco', 'We', 'ADOPTED', 'Choco', 'Rex']\n"
     ]
    }
   ],
   "source": [
    "def collect_dog_names(num_posts):\n",
    "    # TODO: complete\n",
    "    all_names = []\n",
    "    for i, feed_view in enumerate(prof_feed.feed[:num_posts]):\n",
    "        names = extract_names(feed_view.post.record.text)\n",
    "        if names:\n",
    "            all_names.extend(names)\n",
    "    return all_names\n",
    "\n",
    "print(\"Here are the dog_names:\", collect_dog_names(100))"
   ]
  },
  {
   "cell_type": "markdown",
   "metadata": {},
   "source": [
    "## Exercise: Soliciting donations\n",
    "Some posts from the WeRateDogs account ask for donations -- usually for\n",
    "covering medical costs for the featured dogs. Within the latest 100 posts, print\n",
    "the text content of those that fall into this category"
   ]
  },
  {
   "cell_type": "code",
   "execution_count": null,
   "metadata": {},
   "outputs": [],
   "source": [
    "def donation_posts(num_posts):\n",
    "    # TODO: complete\n",
    "    return []\n",
    "\n",
    "for post_text in donation_posts(100):\n",
    "    print(post_text)"
   ]
  }
 ],
 "metadata": {
  "kernelspec": {
   "display_name": "Python 3",
   "language": "python",
   "name": "python3"
  },
  "language_info": {
   "codemirror_mode": {
    "name": "ipython",
    "version": 3
   },
   "file_extension": ".py",
   "mimetype": "text/x-python",
   "name": "python",
   "nbconvert_exporter": "python",
   "pygments_lexer": "ipython3",
   "version": "3.11.2"
  }
 },
 "nbformat": 4,
 "nbformat_minor": 2
}
