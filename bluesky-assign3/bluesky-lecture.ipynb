{
 "cells": [
  {
   "cell_type": "markdown",
   "metadata": {},
   "source": [
    "# Practice with the Python ATProtoSDK\n",
    "This ipython notebook will walk you through the basics of working with the\n",
    "ATProto python sdk. The content here heavily draws on [these examples](https://github.com/MarshalX/atproto/tree/main/examples)"
   ]
  },
  {
   "cell_type": "code",
   "execution_count": 1,
   "metadata": {},
   "outputs": [],
   "source": [
    "from atproto import Client\n",
    "from dotenv import load_dotenv\n",
    "import os\n",
    "import pprint\n",
    "\n",
    "\n",
    "load_dotenv(override=True)\n",
    "USERNAME = os.getenv(\"USERNAME\")\n",
    "PW = os.getenv(\"PW\")"
   ]
  },
  {
   "cell_type": "markdown",
   "metadata": {},
   "source": [
    "## Logging into your account"
   ]
  },
  {
   "cell_type": "code",
   "execution_count": 2,
   "metadata": {},
   "outputs": [
    {
     "name": "stdout",
     "output_type": "stream",
     "text": [
      "{'associated': ProfileAssociated(chat=None, feedgens=0, labeler=True, lists=0, starter_packs=0, py_type='app.bsky.actor.defs#profileAssociated'),\n",
      " 'avatar': 'https://cdn.bsky.app/img/avatar/plain/did:plc:yzpplgm5kftdgpf2wsnrbgdn/bafkreih3fpryxoepb44fzyr3sfn32fr7fqqka4kle6h4not7jlwtdvzghe@jpeg',\n",
      " 'banner': None,\n",
      " 'created_at': '2025-02-13T17:12:12.845Z',\n",
      " 'description': None,\n",
      " 'did': 'did:plc:yzpplgm5kftdgpf2wsnrbgdn',\n",
      " 'display_name': '',\n",
      " 'followers_count': 1,\n",
      " 'follows_count': 1,\n",
      " 'handle': 'trustylabeler.bsky.social',\n",
      " 'indexed_at': '2025-02-13T17:12:12.845Z',\n",
      " 'joined_via_starter_pack': None,\n",
      " 'labels': [],\n",
      " 'pinned_post': None,\n",
      " 'posts_count': 0,\n",
      " 'py_type': 'app.bsky.actor.defs#profileViewDetailed',\n",
      " 'viewer': ViewerState(blocked_by=False, blocking=None, blocking_by_list=None, followed_by=None, following=None, known_followers=None, muted=False, muted_by_list=None, py_type='app.bsky.actor.defs#viewerState')}\n"
     ]
    }
   ],
   "source": [
    "client = Client()\n",
    "profile = client.login(USERNAME, PW)\n",
    "pprint.pprint(profile.__dict__)"
   ]
  },
  {
   "cell_type": "markdown",
   "metadata": {},
   "source": [
    "## Working with posts"
   ]
  },
  {
   "cell_type": "code",
   "execution_count": 3,
   "metadata": {},
   "outputs": [],
   "source": [
    "def get_latest_posts(client, limit=100):\n",
    "    feed = client.app.bsky.feed.get_timeline({'limit': limit})\n",
    "    posts = feed['feed']\n",
    "    return [{\n",
    "        'text': post['post']['record']['text'],\n",
    "        'uri': post['post']['uri'],\n",
    "        'cid': post['post']['cid'],\n",
    "        'handle': post['post']['author']['handle']\n",
    "    } for post in posts]"
   ]
  },
  {
   "cell_type": "code",
   "execution_count": 4,
   "metadata": {},
   "outputs": [],
   "source": [
    "response = client.app.bsky.feed.search_posts({'q': 'giveaway', 'limit': 10})"
   ]
  },
  {
   "cell_type": "code",
   "execution_count": 5,
   "metadata": {},
   "outputs": [
    {
     "data": {
      "text/plain": [
       "Response(posts=[PostView(author=ProfileViewBasic(did='did:plc:z62e7ozqhv3chk3xndsegrdj', handle='dollycas.bsky.social', associated=None, avatar='https://cdn.bsky.app/img/avatar/plain/did:plc:z62e7ozqhv3chk3xndsegrdj/bafkreiatchhznhb7ijlkpi3f5la5rbjkjjlotrwsvmpnbcwg3x7scuoaq4@jpeg', created_at='2023-12-17T22:18:14.192Z', display_name='Dollycas', labels=[], viewer=ViewerState(blocked_by=False, blocking=None, blocking_by_list=None, followed_by=None, following=None, known_followers=None, muted=False, muted_by_list=None, py_type='app.bsky.actor.defs#viewerState'), py_type='app.bsky.actor.defs#profileViewBasic'), cid='bafyreifjem2xv2z5yte5rseqjkojpqx5lmlxvgp4anvnq27d5sl3rkhiny', indexed_at='2025-04-27T15:18:51.482Z', record=Record(created_at='2025-04-27T15:18:46.038Z', text='Welcome to Christy’s Cozy Corners\\nHairless Hassles (A Mobile Cat Groomer Mystery) by Ruth J. Hartman | Author Interview with eBook Giveaway 5/4\\n\\nchristyscozycorners.com/2025/04/hair...', embed=Main(external=External(description='Welcome to my stop on the Great Escapes Virtual Book Tour for Hairless Hassles (A Mobile Cat Groomer Mystery) by Ruth J. Hartman. Stop by each blog on the tour for interviews, guest posts, spotlights,...', title=\"Hairless Hassles (A Mobile Cat Groomer Mystery) by Ruth J. Hartman | Author Interview with eBook Giveaway 5/4 - Christy's Cozy Corners\", uri='https://christyscozycorners.com/2025/04/hairless-hassles-mystery-interview/', thumb=BlobRef(mime_type='image/jpeg', size=251680, ref=IpldLink(link='bafkreifxlw2stdllg5p5t4qlmsliqsvduckcwnt5tdlkah7esasaqinhxq'), py_type='blob'), py_type='app.bsky.embed.external#external'), py_type='app.bsky.embed.external'), entities=None, facets=[Main(features=[Link(uri='https://christyscozycorners.com/2025/04/hairless-hassles-mystery-interview/', py_type='app.bsky.richtext.facet#link')], index=ByteSlice(byte_end=186, byte_start=147, py_type='app.bsky.richtext.facet#byteSlice'), py_type='app.bsky.richtext.facet')], labels=None, langs=['en'], reply=None, tags=None, py_type='app.bsky.feed.post'), uri='at://did:plc:z62e7ozqhv3chk3xndsegrdj/app.bsky.feed.post/3lnskeqkxjk24', embed=View(external=ViewExternal(description='Welcome to my stop on the Great Escapes Virtual Book Tour for Hairless Hassles (A Mobile Cat Groomer Mystery) by Ruth J. Hartman. Stop by each blog on the tour for interviews, guest posts, spotlights,...', title=\"Hairless Hassles (A Mobile Cat Groomer Mystery) by Ruth J. Hartman | Author Interview with eBook Giveaway 5/4 - Christy's Cozy Corners\", uri='https://christyscozycorners.com/2025/04/hairless-hassles-mystery-interview/', thumb='https://cdn.bsky.app/img/feed_thumbnail/plain/did:plc:z62e7ozqhv3chk3xndsegrdj/bafkreifxlw2stdllg5p5t4qlmsliqsvduckcwnt5tdlkah7esasaqinhxq@jpeg', py_type='app.bsky.embed.external#viewExternal'), py_type='app.bsky.embed.external#view'), labels=[], like_count=0, quote_count=0, reply_count=0, repost_count=0, threadgate=None, viewer=ViewerState(embedding_disabled=False, like=None, pinned=None, reply_disabled=None, repost=None, thread_muted=False, py_type='app.bsky.feed.defs#viewerState'), py_type='app.bsky.feed.defs#postView'), PostView(author=ProfileViewBasic(did='did:plc:3leyzx6unk5obzcms6sit57m', handle='mr-gemuetlich.bsky.social', associated=None, avatar='https://cdn.bsky.app/img/avatar/plain/did:plc:3leyzx6unk5obzcms6sit57m/bafkreie37evuuvdjsmfqzniqpd33wsorbrv4yg6rpssk42h4mzqvtznaz4@jpeg', created_at='2024-12-28T13:34:44.242Z', display_name='', labels=[], viewer=ViewerState(blocked_by=False, blocking=None, blocking_by_list=None, followed_by=None, following=None, known_followers=None, muted=False, muted_by_list=None, py_type='app.bsky.actor.defs#viewerState'), py_type='app.bsky.actor.defs#profileViewBasic'), cid='bafyreighfbf6ynlyljvcbny7d76gfcazrbtdxtdsmlsogzdjlh2ip5ctr4', indexed_at='2025-04-27T15:17:28.888Z', record=Record(created_at='2025-04-27T15:17:20.333Z', text=\"I'm entering the @funtrainvr.bsky.social giveaway to win a FREE Meta Quest 3 Virtual Reality Headset! gleam.io/KEuAt/fun-tr...\", embed=Main(external=External(description=\"We're the team behind The Twilight Zone VR, Tarzan VR, and The Exorcist: Legion VR! To promote our upcoming games, BlackGate and Jungle Man, we're hosting this Meta Quest 3 giveaway! Good luck!\", title='Fun Train - Meta Quest 3 Giveaway!', uri='https://gleam.io/KEuAt/fun-train-meta-quest-3-giveaway', thumb=BlobRef(mime_type='image/jpeg', size=582004, ref=IpldLink(link='bafkreicub4qlksiyjzqlpnyagdy6cymqjf5msedpa3ecsf3f5etfspwjre'), py_type='blob'), py_type='app.bsky.embed.external#external'), py_type='app.bsky.embed.external'), entities=None, facets=[Main(features=[Mention(did='did:plc:j6rcrgx2ule6f4eir7wymac4', py_type='app.bsky.richtext.facet#mention')], index=ByteSlice(byte_end=40, byte_start=17, py_type='app.bsky.richtext.facet#byteSlice'), py_type='app.bsky.richtext.facet'), Main(features=[Link(uri='https://gleam.io/KEuAt/fun-train-meta-quest-3-giveaway', py_type='app.bsky.richtext.facet#link')], index=ByteSlice(byte_end=126, byte_start=102, py_type='app.bsky.richtext.facet#byteSlice'), py_type='app.bsky.richtext.facet')], labels=None, langs=['de'], reply=None, tags=None, py_type='app.bsky.feed.post'), uri='at://did:plc:3leyzx6unk5obzcms6sit57m/app.bsky.feed.post/3lnskc6thac2d', embed=View(external=ViewExternal(description=\"We're the team behind The Twilight Zone VR, Tarzan VR, and The Exorcist: Legion VR! To promote our upcoming games, BlackGate and Jungle Man, we're hosting this Meta Quest 3 giveaway! Good luck!\", title='Fun Train - Meta Quest 3 Giveaway!', uri='https://gleam.io/KEuAt/fun-train-meta-quest-3-giveaway', thumb='https://cdn.bsky.app/img/feed_thumbnail/plain/did:plc:3leyzx6unk5obzcms6sit57m/bafkreicub4qlksiyjzqlpnyagdy6cymqjf5msedpa3ecsf3f5etfspwjre@jpeg', py_type='app.bsky.embed.external#viewExternal'), py_type='app.bsky.embed.external#view'), labels=[], like_count=0, quote_count=0, reply_count=0, repost_count=0, threadgate=None, viewer=ViewerState(embedding_disabled=False, like=None, pinned=None, reply_disabled=None, repost=None, thread_muted=False, py_type='app.bsky.feed.defs#viewerState'), py_type='app.bsky.feed.defs#postView'), PostView(author=ProfileViewBasic(did='did:plc:cpdeswkuypjb4lqg4sfmklhp', handle='jucarys.bsky.social', associated=None, avatar='https://cdn.bsky.app/img/avatar/plain/did:plc:cpdeswkuypjb4lqg4sfmklhp/bafkreigr2mb6v7h5sx62rs22kplb2fmyoi3khrqnxadbmkcibezsnh3z2y@jpeg', created_at='2023-07-01T19:53:08.590Z', display_name='Julie Kristine 📖📚', labels=[Label(cts='1970-01-01T00:00:00.000Z', src='did:plc:cpdeswkuypjb4lqg4sfmklhp', uri='at://did:plc:cpdeswkuypjb4lqg4sfmklhp/app.bsky.actor.profile/self', val='!no-unauthenticated', cid='bafyreiabx2bx3odr2t5en6oxc6evpbgcfoh7gqolxzv6srsbai4bx6m4xy', exp=None, neg=None, sig=None, ver=None, py_type='com.atproto.label.defs#label')], viewer=ViewerState(blocked_by=False, blocking=None, blocking_by_list=None, followed_by=None, following=None, known_followers=None, muted=False, muted_by_list=None, py_type='app.bsky.actor.defs#viewerState'), py_type='app.bsky.actor.defs#profileViewBasic'), cid='bafyreicejfjnqjqhffkkhr4ux2hif5xnl3gi3imqxj7fzpp54i6cp6kpsi', indexed_at='2025-04-27T15:15:18.589Z', record=Record(created_at='2025-04-27T15:15:16.892Z', text=\"I won an ebook bundle giveaway 😍 so excited to hopefully discover some new-to-me authors, once my books arrive! \\n\\nNot like I haven't got nearly 500 unread books on Kindle or anything... 🙈\", embed=Main(images=[Image(alt='', image=BlobRef(mime_type='image/jpeg', size=159196, ref=IpldLink(link='bafkreibh6meveco3jcbanp4dnjjpd7g7j5k5j7aafpfzubranw37364bxq'), py_type='blob'), aspect_ratio=AspectRatio(height=1327, width=1290, py_type='app.bsky.embed.defs#aspectRatio'), py_type='app.bsky.embed.images#image')], py_type='app.bsky.embed.images'), entities=None, facets=None, labels=None, langs=['en'], reply=None, tags=None, py_type='app.bsky.feed.post'), uri='at://did:plc:cpdeswkuypjb4lqg4sfmklhp/app.bsky.feed.post/3lnsk6j4r2k24', embed=View(images=[ViewImage(alt='', fullsize='https://cdn.bsky.app/img/feed_fullsize/plain/did:plc:cpdeswkuypjb4lqg4sfmklhp/bafkreibh6meveco3jcbanp4dnjjpd7g7j5k5j7aafpfzubranw37364bxq@jpeg', thumb='https://cdn.bsky.app/img/feed_thumbnail/plain/did:plc:cpdeswkuypjb4lqg4sfmklhp/bafkreibh6meveco3jcbanp4dnjjpd7g7j5k5j7aafpfzubranw37364bxq@jpeg', aspect_ratio=AspectRatio(height=1327, width=1290, py_type='app.bsky.embed.defs#aspectRatio'), py_type='app.bsky.embed.images#viewImage')], py_type='app.bsky.embed.images#view'), labels=[], like_count=0, quote_count=0, reply_count=0, repost_count=0, threadgate=None, viewer=ViewerState(embedding_disabled=False, like=None, pinned=None, reply_disabled=None, repost=None, thread_muted=False, py_type='app.bsky.feed.defs#viewerState'), py_type='app.bsky.feed.defs#postView'), PostView(author=ProfileViewBasic(did='did:plc:z62e7ozqhv3chk3xndsegrdj', handle='dollycas.bsky.social', associated=None, avatar='https://cdn.bsky.app/img/avatar/plain/did:plc:z62e7ozqhv3chk3xndsegrdj/bafkreiatchhznhb7ijlkpi3f5la5rbjkjjlotrwsvmpnbcwg3x7scuoaq4@jpeg', created_at='2023-12-17T22:18:14.192Z', display_name='Dollycas', labels=[], viewer=ViewerState(blocked_by=False, blocking=None, blocking_by_list=None, followed_by=None, following=None, known_followers=None, muted=False, muted_by_list=None, py_type='app.bsky.actor.defs#viewerState'), py_type='app.bsky.actor.defs#profileViewBasic'), cid='bafyreifvadg7i7v3zr7i6tca3fy5xuvk7ry72ulfugwk2ga2izej63efp4', indexed_at='2025-04-27T15:14:45.587Z', record=Record(created_at='2025-04-27T15:14:40.233Z', text=\"Sunday, April 27, 2025\\nMurder at Meadows Lake Clubhouse - A Guest Post, Excerpt, & Giveaway\\nI'm pleased to welcome Soup to Cozy Up With Kathy. You can find Soup on the pages of the Soup the Paranormal Kitten Mystery series...\\n\\ncozyupwithkathy.blogspot.com/2025/04/murd...\", embed=Main(external=External(description=\"I'm pleased to welcome Soup to Cozy Up With Kathy. You can find Soup on the pages of the Soup the Paranormal Kitten Mystery series. Murder a...\", title='Murder at Meadows Lake Clubhouse - A Guest Post, Excerpt, & Giveaway', uri='https://cozyupwithkathy.blogspot.com/2025/04/murder-at-meadows-lake-clubhouse-guest.html', thumb=BlobRef(mime_type='image/jpeg', size=310572, ref=IpldLink(link='bafkreie4dj2fhh6j2xcsgjtnwyjg6idahugd5r4fjspktdd4aqkun2noau'), py_type='blob'), py_type='app.bsky.embed.external#external'), py_type='app.bsky.embed.external'), entities=None, facets=[Main(features=[Link(uri='https://cozyupwithkathy.blogspot.com/2025/04/murder-at-meadows-lake-clubhouse-guest.html', py_type='app.bsky.richtext.facet#link')], index=ByteSlice(byte_end=271, byte_start=227, py_type='app.bsky.richtext.facet#byteSlice'), py_type='app.bsky.richtext.facet')], labels=None, langs=['en'], reply=None, tags=None, py_type='app.bsky.feed.post'), uri='at://did:plc:z62e7ozqhv3chk3xndsegrdj/app.bsky.feed.post/3lnsk5g5llc24', embed=View(external=ViewExternal(description=\"I'm pleased to welcome Soup to Cozy Up With Kathy. You can find Soup on the pages of the Soup the Paranormal Kitten Mystery series. Murder a...\", title='Murder at Meadows Lake Clubhouse - A Guest Post, Excerpt, & Giveaway', uri='https://cozyupwithkathy.blogspot.com/2025/04/murder-at-meadows-lake-clubhouse-guest.html', thumb='https://cdn.bsky.app/img/feed_thumbnail/plain/did:plc:z62e7ozqhv3chk3xndsegrdj/bafkreie4dj2fhh6j2xcsgjtnwyjg6idahugd5r4fjspktdd4aqkun2noau@jpeg', py_type='app.bsky.embed.external#viewExternal'), py_type='app.bsky.embed.external#view'), labels=[], like_count=0, quote_count=0, reply_count=0, repost_count=0, threadgate=None, viewer=ViewerState(embedding_disabled=False, like=None, pinned=None, reply_disabled=None, repost=None, thread_muted=False, py_type='app.bsky.feed.defs#viewerState'), py_type='app.bsky.feed.defs#postView'), PostView(author=ProfileViewBasic(did='did:plc:22yrum5ryon6dtovvwjttkt3', handle='wofava.bsky.social', associated=None, avatar='https://cdn.bsky.app/img/avatar/plain/did:plc:22yrum5ryon6dtovvwjttkt3/bafkreihj24md2o2v25btowxqa4e3f76nh7su7nidkh5mkp2wgr7wn7uihm@jpeg', created_at='2024-11-14T01:08:32.774Z', display_name='WOFAVA', labels=[], viewer=ViewerState(blocked_by=False, blocking=None, blocking_by_list=None, followed_by=None, following=None, known_followers=None, muted=False, muted_by_list=None, py_type='app.bsky.actor.defs#viewerState'), py_type='app.bsky.actor.defs#profileViewBasic'), cid='bafyreiaytuj33gywb4uhnqgtqvxf4eb6a3zqyzptlqknd767lmeyx4i6iq', indexed_at='2025-04-27T15:13:05.889Z', record=Record(created_at='2025-04-27T15:13:03.047Z', text='Thank you WofAs for showing up to join Leader Jeffries and Senator Booker on the steps of the U.S. Capitol. We have to PUSH BACK against the GOP’s tax giveaway to multi billionaires and giant corporations. Slash taxes for hardworking Americans and our families, not the ultra-wealthy! #takeaction', embed=Main(video=BlobRef(mime_type='video/mp4', size=8291546, ref=IpldLink(link='bafkreia2znlxqerzktvlfvyjc4j7oiso2rjjqa4m367p3if7y3q5pvtgmq'), py_type='blob'), alt=None, aspect_ratio=AspectRatio(height=1920, width=1080, py_type='app.bsky.embed.defs#aspectRatio'), captions=None, py_type='app.bsky.embed.video'), entities=None, facets=[Main(features=[Tag(tag='takeaction', py_type='app.bsky.richtext.facet#tag')], index=ByteSlice(byte_end=298, byte_start=287, py_type='app.bsky.richtext.facet#byteSlice'), py_type='app.bsky.richtext.facet')], labels=None, langs=['en'], reply=None, tags=None, py_type='app.bsky.feed.post'), uri='at://did:plc:22yrum5ryon6dtovvwjttkt3/app.bsky.feed.post/3lnsk2jhvac2x', embed=View(cid='bafkreia2znlxqerzktvlfvyjc4j7oiso2rjjqa4m367p3if7y3q5pvtgmq', playlist='https://video.bsky.app/watch/did%3Aplc%3A22yrum5ryon6dtovvwjttkt3/bafkreia2znlxqerzktvlfvyjc4j7oiso2rjjqa4m367p3if7y3q5pvtgmq/playlist.m3u8', alt=None, aspect_ratio=AspectRatio(height=1920, width=1080, py_type='app.bsky.embed.defs#aspectRatio'), thumbnail='https://video.bsky.app/watch/did%3Aplc%3A22yrum5ryon6dtovvwjttkt3/bafkreia2znlxqerzktvlfvyjc4j7oiso2rjjqa4m367p3if7y3q5pvtgmq/thumbnail.jpg', py_type='app.bsky.embed.video#view'), labels=[], like_count=0, quote_count=0, reply_count=0, repost_count=0, threadgate=None, viewer=ViewerState(embedding_disabled=False, like=None, pinned=None, reply_disabled=None, repost=None, thread_muted=False, py_type='app.bsky.feed.defs#viewerState'), py_type='app.bsky.feed.defs#postView'), PostView(author=ProfileViewBasic(did='did:plc:bgncnrmpadljrq2t5g2kiexg', handle='themousierge.bsky.social', associated=None, avatar='https://cdn.bsky.app/img/avatar/plain/did:plc:bgncnrmpadljrq2t5g2kiexg/bafkreigal5pcqd743cgilgszsichgrroba4gqejxoz2w24cbfxm3rgd7ju@jpeg', created_at='2024-10-19T01:58:58.208Z', display_name='TheMousierge', labels=[], viewer=ViewerState(blocked_by=False, blocking=None, blocking_by_list=None, followed_by=None, following=None, known_followers=None, muted=False, muted_by_list=None, py_type='app.bsky.actor.defs#viewerState'), py_type='app.bsky.actor.defs#profileViewBasic'), cid='bafyreibc7zettbjplgs74bdddunzwztzu75fqiciegmao6vcsftzknvdsu', indexed_at='2025-04-27T15:12:18.080Z', record=Record(created_at='2025-04-27T15:12:17.771Z', text='🎊 The April 2025 Giveaway is on at TheMousierge.com! 🛎\\n\\n🎉 Win a $25CAD credit at The Mousierge shops! 🛍 \\n\\nMultiple ways to enter daily!\\n\\n#disney #disneyfan #disneylife #disneyparks\\xa0 #disneyworld\\xa0 #disneyland\\xa0#disneyobsessed #disneypassholder #dvcmember #disneybound', embed=Main(video=BlobRef(mime_type='video/mp4', size=1295379, ref=IpldLink(link='bafkreieqdr5t3t7sbwkeqtx4gk3m5k7mg2tutsco2d4qvndgjogq7p34de'), py_type='blob'), alt=None, aspect_ratio=AspectRatio(height=1920, width=1080, py_type='app.bsky.embed.defs#aspectRatio'), captions=None, py_type='app.bsky.embed.video'), entities=None, facets=[Main(features=[Link(uri='https://TheMousierge.com', py_type='app.bsky.richtext.facet#link')], index=ByteSlice(byte_end=54, byte_start=38, py_type='app.bsky.richtext.facet#byteSlice'), py_type='app.bsky.richtext.facet'), Main(features=[Tag(tag='disney', py_type='app.bsky.richtext.facet#tag')], index=ByteSlice(byte_end=156, byte_start=149, py_type='app.bsky.richtext.facet#byteSlice'), py_type='app.bsky.richtext.facet'), Main(features=[Tag(tag='disneyfan', py_type='app.bsky.richtext.facet#tag')], index=ByteSlice(byte_end=167, byte_start=157, py_type='app.bsky.richtext.facet#byteSlice'), py_type='app.bsky.richtext.facet'), Main(features=[Tag(tag='disneylife', py_type='app.bsky.richtext.facet#tag')], index=ByteSlice(byte_end=179, byte_start=168, py_type='app.bsky.richtext.facet#byteSlice'), py_type='app.bsky.richtext.facet'), Main(features=[Tag(tag='disneyparks', py_type='app.bsky.richtext.facet#tag')], index=ByteSlice(byte_end=192, byte_start=180, py_type='app.bsky.richtext.facet#byteSlice'), py_type='app.bsky.richtext.facet'), Main(features=[Tag(tag='disneyworld', py_type='app.bsky.richtext.facet#tag')], index=ByteSlice(byte_end=207, byte_start=195, py_type='app.bsky.richtext.facet#byteSlice'), py_type='app.bsky.richtext.facet'), Main(features=[Tag(tag='disneyland', py_type='app.bsky.richtext.facet#tag')], index=ByteSlice(byte_end=221, byte_start=210, py_type='app.bsky.richtext.facet#byteSlice'), py_type='app.bsky.richtext.facet'), Main(features=[Tag(tag='disneyobsessed', py_type='app.bsky.richtext.facet#tag')], index=ByteSlice(byte_end=238, byte_start=223, py_type='app.bsky.richtext.facet#byteSlice'), py_type='app.bsky.richtext.facet'), Main(features=[Tag(tag='disneypassholder', py_type='app.bsky.richtext.facet#tag')], index=ByteSlice(byte_end=256, byte_start=239, py_type='app.bsky.richtext.facet#byteSlice'), py_type='app.bsky.richtext.facet'), Main(features=[Tag(tag='dvcmember', py_type='app.bsky.richtext.facet#tag')], index=ByteSlice(byte_end=267, byte_start=257, py_type='app.bsky.richtext.facet#byteSlice'), py_type='app.bsky.richtext.facet'), Main(features=[Tag(tag='disneybound', py_type='app.bsky.richtext.facet#tag')], index=ByteSlice(byte_end=280, byte_start=268, py_type='app.bsky.richtext.facet#byteSlice'), py_type='app.bsky.richtext.facet')], labels=None, langs=['en'], reply=None, tags=None, py_type='app.bsky.feed.post'), uri='at://did:plc:bgncnrmpadljrq2t5g2kiexg/app.bsky.feed.post/3lnsjz6byjs2j', embed=View(cid='bafkreieqdr5t3t7sbwkeqtx4gk3m5k7mg2tutsco2d4qvndgjogq7p34de', playlist='https://video.bsky.app/watch/did%3Aplc%3Abgncnrmpadljrq2t5g2kiexg/bafkreieqdr5t3t7sbwkeqtx4gk3m5k7mg2tutsco2d4qvndgjogq7p34de/playlist.m3u8', alt=None, aspect_ratio=AspectRatio(height=1920, width=1080, py_type='app.bsky.embed.defs#aspectRatio'), thumbnail='https://video.bsky.app/watch/did%3Aplc%3Abgncnrmpadljrq2t5g2kiexg/bafkreieqdr5t3t7sbwkeqtx4gk3m5k7mg2tutsco2d4qvndgjogq7p34de/thumbnail.jpg', py_type='app.bsky.embed.video#view'), labels=[], like_count=0, quote_count=0, reply_count=0, repost_count=0, threadgate=None, viewer=ViewerState(embedding_disabled=False, like=None, pinned=None, reply_disabled=None, repost=None, thread_muted=False, py_type='app.bsky.feed.defs#viewerState'), py_type='app.bsky.feed.defs#postView'), PostView(author=ProfileViewBasic(did='did:plc:uqx46kkmsglvacomzfk3nqtv', handle='perryannee.bsky.social', associated=None, avatar='https://cdn.bsky.app/img/avatar/plain/did:plc:uqx46kkmsglvacomzfk3nqtv/bafkreid3ihbu7dvhj6lzy4rbq3t7qe2o55muoonnhvtaiym5sushrifz5i@jpeg', created_at='2024-11-16T08:11:08.371Z', display_name='', labels=[], viewer=ViewerState(blocked_by=False, blocking=None, blocking_by_list=None, followed_by=None, following=None, known_followers=None, muted=False, muted_by_list=None, py_type='app.bsky.actor.defs#viewerState'), py_type='app.bsky.actor.defs#profileViewBasic'), cid='bafyreiemkbczdbvjg5mz54lh2kb7qwxx6dpq37r2wxp3xzpzbluboqmpha', indexed_at='2025-04-27T15:12:15.385Z', record=Record(created_at='2025-04-27T15:12:11.948Z', text='Have you entered this giveaway from @ececticevelyn yet? wn.nr/G34hpGb', embed=Main(external=External(description=\"Enter The Writer's Blog Spring Book Lovers Giveaway for a chance to win a $15 Amazon gift card to purchase your next favorite book.\", title='Spring Book Lovers Cash Giveaway ends June 19 ‣ The Writers Blog', uri='https://wn.nr/G34hpGb', thumb=BlobRef(mime_type='image/jpeg', size=588888, ref=IpldLink(link='bafkreihd4pukkvwksr5z4fsavgxre64sjr6cwn63wpdvx2tfrnjshgxxwu'), py_type='blob'), py_type='app.bsky.embed.external#external'), py_type='app.bsky.embed.external'), entities=None, facets=[Main(features=[Link(uri='https://wn.nr/G34hpGb', py_type='app.bsky.richtext.facet#link')], index=ByteSlice(byte_end=69, byte_start=56, py_type='app.bsky.richtext.facet#byteSlice'), py_type='app.bsky.richtext.facet')], labels=None, langs=['en'], reply=None, tags=None, py_type='app.bsky.feed.post'), uri='at://did:plc:uqx46kkmsglvacomzfk3nqtv/app.bsky.feed.post/3lnsjyyqbz22g', embed=View(external=ViewExternal(description=\"Enter The Writer's Blog Spring Book Lovers Giveaway for a chance to win a $15 Amazon gift card to purchase your next favorite book.\", title='Spring Book Lovers Cash Giveaway ends June 19 ‣ The Writers Blog', uri='https://wn.nr/G34hpGb', thumb='https://cdn.bsky.app/img/feed_thumbnail/plain/did:plc:uqx46kkmsglvacomzfk3nqtv/bafkreihd4pukkvwksr5z4fsavgxre64sjr6cwn63wpdvx2tfrnjshgxxwu@jpeg', py_type='app.bsky.embed.external#viewExternal'), py_type='app.bsky.embed.external#view'), labels=[], like_count=0, quote_count=0, reply_count=0, repost_count=0, threadgate=None, viewer=ViewerState(embedding_disabled=False, like=None, pinned=None, reply_disabled=None, repost=None, thread_muted=False, py_type='app.bsky.feed.defs#viewerState'), py_type='app.bsky.feed.defs#postView'), PostView(author=ProfileViewBasic(did='did:plc:je72gdw2tuf36rwahtaqjdg3', handle='tscatterton57.bsky.social', associated=None, avatar='https://cdn.bsky.app/img/avatar/plain/did:plc:je72gdw2tuf36rwahtaqjdg3/bafkreigbytbvpwir352wjweogbmnenndnt3dyj6mc43ycaevaeyr2bfvte@jpeg', created_at='2024-11-29T20:11:54.547Z', display_name='Tammy Catterton', labels=[], viewer=ViewerState(blocked_by=False, blocking=None, blocking_by_list=None, followed_by=None, following=None, known_followers=None, muted=False, muted_by_list=None, py_type='app.bsky.actor.defs#viewerState'), py_type='app.bsky.actor.defs#profileViewBasic'), cid='bafyreidsjqbmpmjxpibj27ubs2ln426nupdxh6mjwm36raqed7wb2juknm', indexed_at='2025-04-27T15:08:37.486Z', record=Record(created_at='2025-04-27T15:08:34.689Z', text='Gear Up Giveaway -$500 Amazon Gift Card*1 Ends 4/29/2025\\n\\n-$300 CAMEL Tent*2\\n\\n-$200 CAMEL Jacket*3\\n\\n-$100 CAMEL Camping Chair*4 wn.nr/UXbrr4w', embed=Main(external=External(description=\"Our Gear Up Giveaway EXTENDED! ! You now have one more chance to win the ultimate outdoor bundle! We're giving away $2100 worth of premium outdoor gear to 10 lucky winners! -$500 Amazon Gift Card*1 -$...\", title='Gear Up Giveaway', uri='https://wn.nr/UXbrr4w', thumb=BlobRef(mime_type='image/jpeg', size=476530, ref=IpldLink(link='bafkreicdzuytxc6dy7ntktn3lbpybdkcrkrjix3yhcilpexghuirl7mp7q'), py_type='blob'), py_type='app.bsky.embed.external#external'), py_type='app.bsky.embed.external'), entities=None, facets=[Main(features=[Link(uri='https://wn.nr/UXbrr4w', py_type='app.bsky.richtext.facet#link')], index=ByteSlice(byte_end=141, byte_start=128, py_type='app.bsky.richtext.facet#byteSlice'), py_type='app.bsky.richtext.facet')], labels=None, langs=['en'], reply=None, tags=None, py_type='app.bsky.feed.post'), uri='at://did:plc:je72gdw2tuf36rwahtaqjdg3/app.bsky.feed.post/3lnsjsjk2222x', embed=View(external=ViewExternal(description=\"Our Gear Up Giveaway EXTENDED! ! You now have one more chance to win the ultimate outdoor bundle! We're giving away $2100 worth of premium outdoor gear to 10 lucky winners! -$500 Amazon Gift Card*1 -$...\", title='Gear Up Giveaway', uri='https://wn.nr/UXbrr4w', thumb='https://cdn.bsky.app/img/feed_thumbnail/plain/did:plc:je72gdw2tuf36rwahtaqjdg3/bafkreicdzuytxc6dy7ntktn3lbpybdkcrkrjix3yhcilpexghuirl7mp7q@jpeg', py_type='app.bsky.embed.external#viewExternal'), py_type='app.bsky.embed.external#view'), labels=[], like_count=0, quote_count=0, reply_count=0, repost_count=0, threadgate=None, viewer=ViewerState(embedding_disabled=False, like=None, pinned=None, reply_disabled=None, repost=None, thread_muted=False, py_type='app.bsky.feed.defs#viewerState'), py_type='app.bsky.feed.defs#postView'), PostView(author=ProfileViewBasic(did='did:plc:v6txb5try6mnste5s3ucn3ma', handle='mrschureads.bsky.social', associated=None, avatar='https://cdn.bsky.app/img/avatar/plain/did:plc:v6txb5try6mnste5s3ucn3ma/bafkreifjys4okcxhkgfvz7viotalornyji37iybl2iqf2rwhpsng2sknlm@jpeg', created_at='2023-12-23T17:50:58.373Z', display_name='John Schu', labels=[], viewer=ViewerState(blocked_by=False, blocking=None, blocking_by_list=None, followed_by=None, following=None, known_followers=None, muted=False, muted_by_list=None, py_type='app.bsky.actor.defs#viewerState'), py_type='app.bsky.actor.defs#profileViewBasic'), cid='bafyreifv6wbt7wuw4kmuxskeufm4xoym5e4rxoyaqu5xvkr2afgcyalv7q', indexed_at='2025-04-27T15:05:28.888Z', record=Record(created_at='2025-04-27T15:05:25.364Z', text=\"Dear Friends in the Winchester, VA Area: I'll be at Winchester Book Gallery on Tuesday for a Meet & Greet & Giveaway! winchesterbookgallery.com/event/2025-0...\", embed=Main(images=[Image(alt='', image=BlobRef(mime_type='image/jpeg', size=632286, ref=IpldLink(link='bafkreiaqztggcgkzndlier3qxoapcpus4stxclzn66wwghbqfuwdcbwi3a'), py_type='blob'), aspect_ratio=AspectRatio(height=1423, width=1536, py_type='app.bsky.embed.defs#aspectRatio'), py_type='app.bsky.embed.images#image'), Image(alt='', image=BlobRef(mime_type='image/jpeg', size=841528, ref=IpldLink(link='bafkreie5d22hrmpnay42pxf62dg4gi645ky77hotuh5rj3vhcmwsje7fca'), py_type='blob'), aspect_ratio=AspectRatio(height=1999, width=1337, py_type='app.bsky.embed.defs#aspectRatio'), py_type='app.bsky.embed.images#image')], py_type='app.bsky.embed.images'), entities=None, facets=[Main(features=[Link(uri='https://winchesterbookgallery.com/event/2025-04-29/meet-greet-giveaway-john-schu', py_type='app.bsky.richtext.facet#link')], index=ByteSlice(byte_end=159, byte_start=118, py_type='app.bsky.richtext.facet#byteSlice'), py_type='app.bsky.richtext.facet')], labels=None, langs=['en'], reply=None, tags=None, py_type='app.bsky.feed.post'), uri='at://did:plc:v6txb5try6mnste5s3ucn3ma/app.bsky.feed.post/3lnsjmuyp222p', embed=View(images=[ViewImage(alt='', fullsize='https://cdn.bsky.app/img/feed_fullsize/plain/did:plc:v6txb5try6mnste5s3ucn3ma/bafkreiaqztggcgkzndlier3qxoapcpus4stxclzn66wwghbqfuwdcbwi3a@jpeg', thumb='https://cdn.bsky.app/img/feed_thumbnail/plain/did:plc:v6txb5try6mnste5s3ucn3ma/bafkreiaqztggcgkzndlier3qxoapcpus4stxclzn66wwghbqfuwdcbwi3a@jpeg', aspect_ratio=AspectRatio(height=1423, width=1536, py_type='app.bsky.embed.defs#aspectRatio'), py_type='app.bsky.embed.images#viewImage'), ViewImage(alt='', fullsize='https://cdn.bsky.app/img/feed_fullsize/plain/did:plc:v6txb5try6mnste5s3ucn3ma/bafkreie5d22hrmpnay42pxf62dg4gi645ky77hotuh5rj3vhcmwsje7fca@jpeg', thumb='https://cdn.bsky.app/img/feed_thumbnail/plain/did:plc:v6txb5try6mnste5s3ucn3ma/bafkreie5d22hrmpnay42pxf62dg4gi645ky77hotuh5rj3vhcmwsje7fca@jpeg', aspect_ratio=AspectRatio(height=1999, width=1337, py_type='app.bsky.embed.defs#aspectRatio'), py_type='app.bsky.embed.images#viewImage')], py_type='app.bsky.embed.images#view'), labels=[], like_count=2, quote_count=0, reply_count=0, repost_count=0, threadgate=None, viewer=ViewerState(embedding_disabled=False, like=None, pinned=None, reply_disabled=None, repost=None, thread_muted=False, py_type='app.bsky.feed.defs#viewerState'), py_type='app.bsky.feed.defs#postView'), PostView(author=ProfileViewBasic(did='did:plc:rphu55g5l6cljzzbgan44ag6', handle='mizoreyren.com', associated=None, avatar='https://cdn.bsky.app/img/avatar/plain/did:plc:rphu55g5l6cljzzbgan44ag6/bafkreifesgiczphh5movml5slkfkvlies64u35psrb5lgosp7nn4vtcw2e@jpeg', created_at='2023-11-13T19:43:03.461Z', display_name='Mizorey Ren ~ Artist / Vtuber ➡️ Art giveaway', labels=[], viewer=ViewerState(blocked_by=False, blocking=None, blocking_by_list=None, followed_by=None, following=None, known_followers=None, muted=False, muted_by_list=None, py_type='app.bsky.actor.defs#viewerState'), py_type='app.bsky.actor.defs#profileViewBasic'), cid='bafyreiaw5vjuqn3dvffkpv7gr4wcab7ld24yihgdfk763kbsa2nllpanry', indexed_at='2025-04-27T15:04:07.483Z', record=Record(created_at='2025-04-27T15:04:03.669Z', text='We are at #nerdwaukee today in the #PilotProject from 11am-5pm\\nToday is also the last day for the art giveaway!', embed=Main(images=[Image(alt='', image=BlobRef(mime_type='image/jpeg', size=809168, ref=IpldLink(link='bafkreifbxvnred6pzfjipngnc3eok5opvzrbuii6vgzluxcmhjduki2akq'), py_type='blob'), aspect_ratio=AspectRatio(height=2000, width=2000, py_type='app.bsky.embed.defs#aspectRatio'), py_type='app.bsky.embed.images#image'), Image(alt='', image=BlobRef(mime_type='image/jpeg', size=708322, ref=IpldLink(link='bafkreicapiwo774wmeywsmhzi6ewgs6v4jtgzfosfwjdfhsln462foz5za'), py_type='blob'), aspect_ratio=AspectRatio(height=2000, width=2000, py_type='app.bsky.embed.defs#aspectRatio'), py_type='app.bsky.embed.images#image')], py_type='app.bsky.embed.images'), entities=None, facets=[Main(features=[Tag(tag='nerdwaukee', py_type='app.bsky.richtext.facet#tag')], index=ByteSlice(byte_end=21, byte_start=10, py_type='app.bsky.richtext.facet#byteSlice'), py_type='app.bsky.richtext.facet'), Main(features=[Tag(tag='PilotProject', py_type='app.bsky.richtext.facet#tag')], index=ByteSlice(byte_end=48, byte_start=35, py_type='app.bsky.richtext.facet#byteSlice'), py_type='app.bsky.richtext.facet')], labels=None, langs=['en'], reply=None, tags=None, py_type='app.bsky.feed.post'), uri='at://did:plc:rphu55g5l6cljzzbgan44ag6/app.bsky.feed.post/3lnsjkh3lqk2c', embed=View(images=[ViewImage(alt='', fullsize='https://cdn.bsky.app/img/feed_fullsize/plain/did:plc:rphu55g5l6cljzzbgan44ag6/bafkreifbxvnred6pzfjipngnc3eok5opvzrbuii6vgzluxcmhjduki2akq@jpeg', thumb='https://cdn.bsky.app/img/feed_thumbnail/plain/did:plc:rphu55g5l6cljzzbgan44ag6/bafkreifbxvnred6pzfjipngnc3eok5opvzrbuii6vgzluxcmhjduki2akq@jpeg', aspect_ratio=AspectRatio(height=2000, width=2000, py_type='app.bsky.embed.defs#aspectRatio'), py_type='app.bsky.embed.images#viewImage'), ViewImage(alt='', fullsize='https://cdn.bsky.app/img/feed_fullsize/plain/did:plc:rphu55g5l6cljzzbgan44ag6/bafkreicapiwo774wmeywsmhzi6ewgs6v4jtgzfosfwjdfhsln462foz5za@jpeg', thumb='https://cdn.bsky.app/img/feed_thumbnail/plain/did:plc:rphu55g5l6cljzzbgan44ag6/bafkreicapiwo774wmeywsmhzi6ewgs6v4jtgzfosfwjdfhsln462foz5za@jpeg', aspect_ratio=AspectRatio(height=2000, width=2000, py_type='app.bsky.embed.defs#aspectRatio'), py_type='app.bsky.embed.images#viewImage')], py_type='app.bsky.embed.images#view'), labels=[], like_count=0, quote_count=0, reply_count=0, repost_count=0, threadgate=None, viewer=ViewerState(embedding_disabled=False, like=None, pinned=None, reply_disabled=None, repost=None, thread_muted=False, py_type='app.bsky.feed.defs#viewerState'), py_type='app.bsky.feed.defs#postView')], cursor='10', hits_total=None)"
      ]
     },
     "execution_count": 5,
     "metadata": {},
     "output_type": "execute_result"
    }
   ],
   "source": [
    "response"
   ]
  },
  {
   "cell_type": "code",
   "execution_count": 6,
   "metadata": {},
   "outputs": [
    {
     "data": {
      "text/plain": [
       "[{'text': '📢\\xa0App Version 1.100 is rolling out now (2/2)\\n\\nTrying to find more on Bluesky? The search page is now \"Explore,\" with updated trends, suggested accounts, and more!',\n",
       "  'uri': 'at://did:plc:z72i7hdynmk6r22z27h6tvur/app.bsky.feed.post/3lmi3hmjsak24',\n",
       "  'cid': 'bafyreiax6jqg2mg32yeyxb6bz42pwbd6mtqoxeo6rp6e7wwfhw2ef47dh4',\n",
       "  'handle': 'bsky.app'},\n",
       " {'text': '📢\\xa0App Version 1.100 is rolling out now (1/2)\\n\\nChat reactions are here! You can now respond to chat messages (aka “direct messages”) with an emoji ❤️',\n",
       "  'uri': 'at://did:plc:z72i7hdynmk6r22z27h6tvur/app.bsky.feed.post/3lmi3hlglc224',\n",
       "  'cid': 'bafyreihbk62hhazqtq5oyi66nn2hpayjq6n5pwjhskceoxvwoww6hlo6ba',\n",
       "  'handle': 'bsky.app'},\n",
       " {'text': 'Wish that you spent your Friday doing something besides checking if TikTok was banned or not? \\n\\nTry out @skylight.social — a video app built upon the same open network as Bluesky. You can login with your Bluesky account, and all of your followers seamlessly come with you.',\n",
       "  'uri': 'at://did:plc:z72i7hdynmk6r22z27h6tvur/app.bsky.feed.post/3llzh4fl3o226',\n",
       "  'cid': 'bafyreicobacv6kaihelynsknxdao77xggh3z4hfxyasbldmxeij64ua6rm',\n",
       "  'handle': 'bsky.app'},\n",
       " {'text': \"We're listening to your feedback and updating the character count for posts on Bluesky. \\n\\nPosts can now be 299 characters long!\",\n",
       "  'uri': 'at://did:plc:z72i7hdynmk6r22z27h6tvur/app.bsky.feed.post/3llqwu7r34c2e',\n",
       "  'cid': 'bafyreicpq5yak24snyyuqbmhkoqtcoc7bx2y7fpj6vqtlvj67woig4eauq',\n",
       "  'handle': 'bsky.app'},\n",
       " {'text': 'Thank you to everyone who ordered a shirt! The preorder window is now closed.\\n\\nOur team is hard at work bringing them to life. We expect to start shipping by mid April. You will receive a confirmation email as soon as your order is on its way.\\n\\nWe appreciate your patience and support!',\n",
       "  'uri': 'at://did:plc:z72i7hdynmk6r22z27h6tvur/app.bsky.feed.post/3lla2nyxzec2t',\n",
       "  'cid': 'bafyreiblioyl2zpatm7jfzkozybx6mgxg42a5bbikpzqdirnojipifu5kq',\n",
       "  'handle': 'bsky.app'},\n",
       " {'text': 'Only one day left to place an order! \\n\\nworldwithoutcaesars.com',\n",
       "  'uri': 'at://did:plc:z72i7hdynmk6r22z27h6tvur/app.bsky.feed.post/3ll5ddl5k6s2s',\n",
       "  'cid': 'bafyreidaalolouzzp5auw2icfa73stosamvqfizowb6wjivk2d5bi2p3ni',\n",
       "  'handle': 'bsky.app'},\n",
       " {'text': 'Only four days left to place an order! \\n\\nworldwithoutcaesars.com',\n",
       "  'uri': 'at://did:plc:z72i7hdynmk6r22z27h6tvur/app.bsky.feed.post/3lkvoqk7aps2j',\n",
       "  'cid': 'bafyreiha27k3ephvwfvmcadwhjtlrlgtaqrf3nybxmzfgexcqq7lia3npe',\n",
       "  'handle': 'bsky.app'},\n",
       " {'text': \"Publishers have already shared that they're receiving more and higher-quality engagement on Bluesky compared to legacy platforms.\\n\\nReferral metrics help newsrooms more accurately measure Bluesky's role in reaching their audiences.\",\n",
       "  'uri': 'at://did:plc:z72i7hdynmk6r22z27h6tvur/app.bsky.feed.post/3lktlkvngcc2k',\n",
       "  'cid': 'bafyreif2qga6drzxdsmkfftp6eixy4mp7siz776gaxwduinuzt6ehg6o6y',\n",
       "  'handle': 'bsky.app'},\n",
       " {'text': \"We view the Bluesky app as a lobby to the open social web, and we don't demote or throttle links.\\n\\nWe believe it should be easy for you to connect your social following here with your web presence elsewhere.\",\n",
       "  'uri': 'at://did:plc:z72i7hdynmk6r22z27h6tvur/app.bsky.feed.post/3lktlkvneds2k',\n",
       "  'cid': 'bafyreic2zp3hthu2pzv7ll5it7uc3asrfd4blkhcmvos2x7traysbldita',\n",
       "  'handle': 'bsky.app'},\n",
       " {'text': \"We 💙 links!\\n\\nStarting this week, we've made it even easier for newsrooms and more to track how much traffic Bluesky is sending to their sites.\\n\\nFor those setting up analytics, Bluesky's referrer is go.bsky.app.\",\n",
       "  'uri': 'at://did:plc:z72i7hdynmk6r22z27h6tvur/app.bsky.feed.post/3lktlkvn2lc2k',\n",
       "  'cid': 'bafyreidfwmhecwgueu7a5ykkc34bqmqczmmmkrznlanweahyxlrwhuszuq',\n",
       "  'handle': 'bsky.app'}]"
      ]
     },
     "execution_count": 6,
     "metadata": {},
     "output_type": "execute_result"
    }
   ],
   "source": [
    "get_latest_posts(client, 10)"
   ]
  },
  {
   "cell_type": "code",
   "execution_count": 5,
   "metadata": {},
   "outputs": [
    {
     "name": "stdout",
     "output_type": "stream",
     "text": [
      "{'created_at': '2025-04-23T20:15:16.989Z',\n",
      " 'embed': Main(images=[Image(alt='', image=BlobRef(mime_type='image/jpeg', size=116423, ref=IpldLink(link='bafkreihl2qur52fojq7ti76peqfsu6uamfohecrxddj7nasv3hy3ehczt4'), py_type='blob'), aspect_ratio=AspectRatio(height=679, width=679, py_type='app.bsky.embed.defs#aspectRatio'), py_type='app.bsky.embed.images#image')], py_type='app.bsky.embed.images'),\n",
      " 'entities': None,\n",
      " 'facets': [Main(features=[Link(uri='https://fkd.sale/?l=https://amzn.to/42Xv3mO', py_type='app.bsky.richtext.facet#link')], index=ByteSlice(byte_end=75, byte_start=51, py_type='app.bsky.richtext.facet#byteSlice'), py_type='app.bsky.richtext.facet')],\n",
      " 'labels': None,\n",
      " 'langs': None,\n",
      " 'py_type': 'app.bsky.feed.post',\n",
      " 'reply': None,\n",
      " 'tags': None,\n",
      " 'text': 'Round Coffee Table for $37.99!\\n'\n",
      "         '\\n'\n",
      "         'Buy via Amazon --> fkd.sale?l=https://am...'}\n"
     ]
    }
   ],
   "source": [
    "def post_from_url(client: Client, url: str):\n",
    "    \"\"\"\n",
    "    Retrieve a Bluesky post from its URL\n",
    "    \"\"\"\n",
    "    parts = url.split(\"/\")\n",
    "    rkey = parts[-1]\n",
    "    handle = parts[-3]\n",
    "    return client.get_post(rkey, handle)\n",
    "\n",
    "post = post_from_url(client, \"https://bsky.app/profile/fatkiddeals.com/post/3lniz3bjwa72u\")\n",
    "pprint.pprint(post.value.__dict__)"
   ]
  },
  {
   "cell_type": "code",
   "execution_count": 5,
   "metadata": {},
   "outputs": [
    {
     "data": {
      "text/plain": [
       "'check out this dog!'"
      ]
     },
     "execution_count": 5,
     "metadata": {},
     "output_type": "execute_result"
    }
   ],
   "source": [
    "post.value.text"
   ]
  },
  {
   "cell_type": "code",
   "execution_count": 6,
   "metadata": {},
   "outputs": [
    {
     "name": "stdout",
     "output_type": "stream",
     "text": [
      "Post 0: This is Sigourney Weaver and Alice. Sigourney Weaver is hard at work digging a hole, and Alice has accepted her very avoidable fate. 13/10 for both\n",
      "Post 1: With your help, we sponsored the care Fiyero needed for his seizures. His foster family also officially adopted him!\n",
      " Fiyero’s been a champ at every check-up and is adjusting nicely to his medication. Thanks to you, he’s set for life with humans who already adore him ❤️‍🩹\n",
      "Post 2: CONGRATS FIYERO ❤️\n",
      "Post 3: Marley became one with the burger. 🍔  😂\n",
      "Post 4: This is Marley. He does not simply eat his hamburgers. He inhales them. 13/10\n",
      "Post 5: 🚨 FLIPPER GOT ADOPTED!!! 🚨\n",
      "\n",
      "She also can’t stop showing off her front legs, which you helped straighten and heal. These days, she puts them to good use wrestling with her new sister, Sweetie. According to her rescue, it was love at first sight. Thanks for giving this girl her happily ever after ❤️‍🩹\n",
      "Post 6: new best friends right there!\n",
      "Post 7: You need this little hop\n",
      "Post 8: This is Wallace. He did immediately try to eat his new babysitters, but beginning to test authority is a perfectly normal part of growing up. 12/10\n",
      "Post 9: And you just know Bob WILL be timing your coffee break ⏱️\n",
      "Likes: ['phaves.bsky.social', 'cb-7.bsky.social', 'thaisdf17.bsky.social', 'gianlep.bsky.social', 'tomato-letnic.bsky.social', 'ramanag.bsky.social', 'texassnow.bsky.social', 'antifa75.bsky.social', 'smudgedragon.bsky.social', 'spuncosmos.bsky.social']\n",
      "['Their bath time afterwards must’ve been epic, especially Alice’s lol', 'Sir, it is called a fetish. Nearly everypup has one.\\n😉', '🤩😂', 'My take is that Sigourney has proven herself in previous digs; Alice is just biding her time to treasure glory.🦴🦴🦴', 'Alice sweetie, Amazing', 'I’m not saying that you shouldn’t love them, but they do seem to be very dumb dogs.', \"I have an Alice, his name is Champ. He's a very good boy except when squirrels invade; he then stands at the bottom of the tree and stares into the atmosphere, willing them to descend. It never works, but he is not dissuaded.\", '4th smartest dog breed, folks.', 'gee, the last time Sigourney Weaver wanted some big Holes she made a bunch of kids do it!', 'Oh Alice. ❤️']\n"
     ]
    }
   ],
   "source": [
    "# https://github.com/MarshalX/atproto/blob/main/examples/profile_posts.py\n",
    "prof_feed = client.get_author_feed(actor=\"weratedogs.com\")\n",
    "for i, feed_view in enumerate(prof_feed.feed[:10]):\n",
    "    print(f\"Post {i}:\", feed_view.post.record.text)\n",
    "\n",
    "post = prof_feed.feed[0].post\n",
    "likes_resp = client.get_likes(post.uri, post.cid, limit=10)\n",
    "print(\"Likes:\", [like.actor.handle for like in likes_resp.likes])\n",
    "\n",
    "post_thread_resp = client.get_post_thread(post.uri)\n",
    "print([rep.post.record.text for rep in post_thread_resp.thread.replies[:10]])"
   ]
  },
  {
   "cell_type": "markdown",
   "metadata": {},
   "source": [
    "## Followers/following"
   ]
  },
  {
   "cell_type": "markdown",
   "metadata": {},
   "source": [
    "How might you use this information to investigate/mitigate a harm?"
   ]
  },
  {
   "cell_type": "code",
   "execution_count": 7,
   "metadata": {},
   "outputs": [
    {
     "name": "stdout",
     "output_type": "stream",
     "text": [
      "Followers: ['kelly3010.bsky.social', 'homaksu.bsky.social', 'jennifersamule.bsky.social', 'walkerbn.bsky.social', 'cuneyterdem0.bsky.social', 'shinddha.bsky.social', 'yooperann.bsky.social', 'tor37.bsky.social', 'windowtothesoull.bsky.social', 'twocakesup.bsky.social']\n",
      "Following: ['15outof10.org']\n"
     ]
    }
   ],
   "source": [
    "\n",
    "follower_resp = client.get_followers(\"weratedogs.com\", limit=10)\n",
    "following_resp = client.get_follows(\"weratedogs.com\", limit=10)\n",
    "print(\"Followers:\", [follower.handle for follower in follower_resp.followers])\n",
    "print(\"Following:\", [follow.handle for follow in following_resp.follows])\n",
    "\n"
   ]
  },
  {
   "cell_type": "markdown",
   "metadata": {},
   "source": [
    "## Exercise: Compute average dog ratings\n",
    "The WeRateDogs account includes ratings out of 10 within some of its posts.\n",
    "Write a script that computes the average rating (out of 10) for the 100 most\n",
    "recent posts from this account. (note that not every post will have a rating)"
   ]
  },
  {
   "cell_type": "code",
   "execution_count": 9,
   "metadata": {},
   "outputs": [],
   "source": [
    "import re"
   ]
  },
  {
   "cell_type": "code",
   "execution_count": 6,
   "metadata": {},
   "outputs": [
    {
     "ename": "ModuleNotFoundError",
     "evalue": "No module named 'atproto'",
     "output_type": "error",
     "traceback": [
      "\u001b[31m---------------------------------------------------------------------------\u001b[39m",
      "\u001b[31mModuleNotFoundError\u001b[39m                       Traceback (most recent call last)",
      "\u001b[36mCell\u001b[39m\u001b[36m \u001b[39m\u001b[32mIn[6]\u001b[39m\u001b[32m, line 5\u001b[39m\n\u001b[32m      3\u001b[39m \u001b[38;5;28;01mimport\u001b[39;00m\u001b[38;5;250m \u001b[39m\u001b[34;01mtime\u001b[39;00m \n\u001b[32m      4\u001b[39m \u001b[38;5;28;01mimport\u001b[39;00m\u001b[38;5;250m \u001b[39m\u001b[34;01mjson\u001b[39;00m \n\u001b[32m----> \u001b[39m\u001b[32m5\u001b[39m \u001b[38;5;28;01mfrom\u001b[39;00m\u001b[38;5;250m \u001b[39m\u001b[34;01matproto\u001b[39;00m\u001b[38;5;250m \u001b[39m\u001b[38;5;28;01mimport\u001b[39;00m Client\n\u001b[32m      6\u001b[39m \u001b[38;5;28;01mfrom\u001b[39;00m\u001b[38;5;250m \u001b[39m\u001b[34;01mdotenv\u001b[39;00m\u001b[38;5;250m \u001b[39m\u001b[38;5;28;01mimport\u001b[39;00m load_dotenv\n\u001b[32m      7\u001b[39m \u001b[38;5;28;01mimport\u001b[39;00m\u001b[38;5;250m \u001b[39m\u001b[34;01mos\u001b[39;00m \n",
      "\u001b[31mModuleNotFoundError\u001b[39m: No module named 'atproto'"
     ]
    }
   ],
   "source": [
    "import pandas as pd \n",
    "import re\n",
    "import time \n",
    "import json \n",
    "from atproto import Client\n",
    "from dotenv import load_dotenv\n",
    "import os \n",
    "\n",
    "load_dotenv(override=True)\n",
    "USERNAME = os.getenv(\"USERNAME\")\n",
    "PW = os.getenv(\"PW\")\n",
    "\n",
    "client = Client()\n",
    "client.login(USERNAME, PW)\n",
    "\n",
    "df_keywords = pd.read_csv(\"./giveaway-labeler/giveaway-words.csv\")\n",
    "giveaway_words = df_keywords['word'].dropna().tolist()\n",
    "cta_words = df_keywords['call-to-action'].dropna().tolist()\n",
    "\n",
    "df_urls = pd.read_csv(\"./bluesky_giveaway_labels.csv\")\n",
    "post_urls = df_urls['URL'].dropna().tolist()\n",
    "\n",
    "confirmed_matches = []\n",
    "\n",
    "for url in post_urls:\n",
    "    try:\n",
    "        parts = url.split('/post/')\n",
    "        did = parts[0].split('/')[-1]\n",
    "        rkey = parts[1]\n",
    "\n",
    "        post = client.com.atproto.repo.get_record({\n",
    "            \"repo\": did,\n",
    "            \"collection\": \"app.bsky.feed.post\",\n",
    "            \"rkey\": rkey\n",
    "        })\n",
    "\n",
    "        text = post['value'].get('text', '')\n",
    "\n",
    "        has_giveaway = any(re.search(rf\"\\b{re.escape(word)}\\b\", text, re.IGNORECASE) for word in giveaway_words)\n",
    "        has_cta = any(re.search(rf\"\\b{re.escape(cta)}\\b\", text, re.IGNORECASE) for cta in cta_words)\n",
    "\n",
    "        if has_giveaway and has_cta:\n",
    "            actor_info = client.app.bsky.actor.get_profile({'actor':did})\n",
    "            confirmed_matches.append({\n",
    "                \"url\": url,\n",
    "                \"did\": did,\n",
    "                \"rkey\": rkey,\n",
    "                \"text\": text,\n",
    "                \"followers_count\": actor_info.get(\"followersCount\"),\n",
    "                \"follows_count\": actor_info.get(\"followsCount\"),\n",
    "                \"posts_count\": actor_info.get(\"postsCount\"),\n",
    "                \"created_at\": actor_info.get(\"createdAt\"),\n",
    "            })\n",
    "\n",
    "            time.sleep(0.4)\n",
    "\n",
    "    except Exception as e:\n",
    "        print(f\"Error processing URL {url}: {e}\")\n",
    "        continue\n",
    "\n",
    "print(f\"Confirmed {len(confirmed_matches)} posts with BOTH a giveaway word and a CTA.\")"
   ]
  },
  {
   "cell_type": "code",
   "execution_count": 10,
   "metadata": {},
   "outputs": [],
   "source": [
    "def extract_score(text):\n",
    "    # This pattern looks for:\n",
    "    # \\d+ - one or more digits\n",
    "    # \\s* - optional whitespace\n",
    "    # / - literal forward slash\n",
    "    # \\s* - optional whitespace\n",
    "    # 10 - literal \"10\"\n",
    "    pattern = r'(\\d+)\\s*/\\s*10'\n",
    "    match = re.search(pattern, text)\n",
    "    if match:\n",
    "        return int(match.group(1))\n",
    "    return None"
   ]
  },
  {
   "cell_type": "code",
   "execution_count": 13,
   "metadata": {},
   "outputs": [
    {
     "name": "stdout",
     "output_type": "stream",
     "text": [
      "The average rating is: 13.0\n"
     ]
    }
   ],
   "source": [
    "def compute_avg_dog_rating(num_posts):\n",
    "    # TODO: complete\n",
    "    total_score = 0\n",
    "    num_scores = 0\n",
    "    for i, feed_view in enumerate(prof_feed.feed[:num_posts]):\n",
    "        score = extract_score(feed_view.post.record.text)\n",
    "        if score is not None:\n",
    "            # print(f\"Found score: {score}/10\")\n",
    "            total_score += score\n",
    "            num_scores += 1\n",
    "        # else:\n",
    "            # print(\"No score found in the format X/10\")\n",
    "    return total_score / num_scores if num_scores > 0 else 0\n",
    "\n",
    "print(\"The average rating is:\", compute_avg_dog_rating(100))"
   ]
  },
  {
   "cell_type": "markdown",
   "metadata": {},
   "source": [
    "## Exercise: Dog names\n",
    "Collect the names of dogs within the latest 100 posts and print them to the\n",
    "console. Hint: see if you can identify a pattern in the posts."
   ]
  },
  {
   "cell_type": "code",
   "execution_count": 15,
   "metadata": {},
   "outputs": [],
   "source": [
    "def extract_names(text):\n",
    "    # This pattern looks for:\n",
    "    # (?<![\\.\\?\\!]\\s) - negative lookbehind for period/question mark/exclamation followed by whitespace\n",
    "    # (?<!\\A) - negative lookbehind for start of string\n",
    "    # \\b[A-Z][a-zA-Z]*\\b - word boundary, capital letter, followed by any letters, word boundary\n",
    "    pattern = r'(?<![\\.\\?\\!]\\s)(?<!\\A)\\b[A-Z][a-zA-Z]*\\b'\n",
    "    \n",
    "    matches = re.finditer(pattern, text)\n",
    "    return [match.group() for match in matches]"
   ]
  },
  {
   "cell_type": "code",
   "execution_count": 16,
   "metadata": {},
   "outputs": [
    {
     "name": "stdout",
     "output_type": "stream",
     "text": [
      "Here are the dog_names: ['George', 'SeniorPupSaturday', 'Fiyero', 'Dasia', 'The', 'Farmers', 'Dog', 'Top', 'Dogs', 'Dill', 'GIANT', 'Roger', 'Roger', 'ER', 'Panda', 'We', 'Panda', 'Panda', 'I', 'Ellie', 'Flipper', 'ALL', 'Good', 'Lucie', 'Muamba', 'Ollie', 'Heckles', 'ONLY', 'April', 'Top', 'WORST', 'Dogs', 'Joey', 'Bambi', 'Top', 'Dogs', 'March', 'Pippa', 'SeniorPupSaturday', 'Thank', 'Butterfly', 'Butterfly', 'Top', 'Dogs', 'Leon', 'Hubie', 'Fig', 'Oreo', 'FBI', 'Choco', 'We', 'ADOPTED', 'Choco', 'Rex']\n"
     ]
    }
   ],
   "source": [
    "def collect_dog_names(num_posts):\n",
    "    # TODO: complete\n",
    "    all_names = []\n",
    "    for i, feed_view in enumerate(prof_feed.feed[:num_posts]):\n",
    "        names = extract_names(feed_view.post.record.text)\n",
    "        if names:\n",
    "            all_names.extend(names)\n",
    "    return all_names\n",
    "\n",
    "print(\"Here are the dog_names:\", collect_dog_names(100))"
   ]
  },
  {
   "cell_type": "markdown",
   "metadata": {},
   "source": [
    "## Exercise: Soliciting donations\n",
    "Some posts from the WeRateDogs account ask for donations -- usually for\n",
    "covering medical costs for the featured dogs. Within the latest 100 posts, print\n",
    "the text content of those that fall into this category"
   ]
  },
  {
   "cell_type": "code",
   "execution_count": null,
   "metadata": {},
   "outputs": [],
   "source": [
    "def donation_posts(num_posts):\n",
    "    # TODO: complete\n",
    "    return []\n",
    "\n",
    "for post_text in donation_posts(100):\n",
    "    print(post_text)"
   ]
  }
 ],
 "metadata": {
  "kernelspec": {
   "display_name": "Python 3",
   "language": "python",
   "name": "python3"
  },
  "language_info": {
   "codemirror_mode": {
    "name": "ipython",
    "version": 3
   },
   "file_extension": ".py",
   "mimetype": "text/x-python",
   "name": "python",
   "nbconvert_exporter": "python",
   "pygments_lexer": "ipython3",
   "version": "3.12.6"
  }
 },
 "nbformat": 4,
 "nbformat_minor": 2
}
