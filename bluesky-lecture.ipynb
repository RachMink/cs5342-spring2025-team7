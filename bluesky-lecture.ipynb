{
 "cells": [
  {
   "cell_type": "markdown",
   "metadata": {},
   "source": [
    "# Practice with the Python ATProtoSDK\n",
    "This ipython notebook will walk you through the basics of working with the\n",
    "ATProto python sdk. The content here heavily draws on [these examples](https://github.com/MarshalX/atproto/tree/main/examples)"
   ]
  },
  {
   "cell_type": "code",
   "execution_count": 3,
   "metadata": {},
   "outputs": [],
   "source": [
    "from atproto import Client\n",
    "from dotenv import load_dotenv\n",
    "import os\n",
    "import pprint\n",
    "\n",
    "\n",
    "load_dotenv(override=True)\n",
    "USERNAME = os.getenv(\"USERNAME\")\n",
    "PW = os.getenv(\"PW\")"
   ]
  },
  {
   "cell_type": "markdown",
   "metadata": {},
   "source": [
    "## Logging into your account"
   ]
  },
  {
   "cell_type": "code",
   "execution_count": 4,
   "metadata": {},
   "outputs": [
    {
     "name": "stdout",
     "output_type": "stream",
     "text": [
      "{'associated': ProfileAssociated(chat=None, feedgens=0, labeler=False, lists=0, starter_packs=0, py_type='app.bsky.actor.defs#profileAssociated'),\n",
      " 'avatar': 'https://cdn.bsky.app/img/avatar/plain/did:plc:yzpplgm5kftdgpf2wsnrbgdn/bafkreih3fpryxoepb44fzyr3sfn32fr7fqqka4kle6h4not7jlwtdvzghe@jpeg',\n",
      " 'banner': None,\n",
      " 'created_at': '2025-02-13T17:12:12.845Z',\n",
      " 'description': None,\n",
      " 'did': 'did:plc:yzpplgm5kftdgpf2wsnrbgdn',\n",
      " 'display_name': '',\n",
      " 'followers_count': 0,\n",
      " 'follows_count': 1,\n",
      " 'handle': 'trustylabeler.bsky.social',\n",
      " 'indexed_at': '2025-02-13T17:12:12.845Z',\n",
      " 'joined_via_starter_pack': None,\n",
      " 'labels': [],\n",
      " 'pinned_post': None,\n",
      " 'posts_count': 0,\n",
      " 'py_type': 'app.bsky.actor.defs#profileViewDetailed',\n",
      " 'viewer': ViewerState(blocked_by=False, blocking=None, blocking_by_list=None, followed_by=None, following=None, known_followers=None, muted=False, muted_by_list=None, py_type='app.bsky.actor.defs#viewerState')}\n"
     ]
    }
   ],
   "source": [
    "client = Client()\n",
    "profile = client.login(USERNAME, PW)\n",
    "pprint.pprint(profile.__dict__)"
   ]
  },
  {
   "cell_type": "markdown",
   "metadata": {},
   "source": [
    "## Working with posts"
   ]
  },
  {
   "cell_type": "code",
   "execution_count": 19,
   "metadata": {},
   "outputs": [
    {
     "name": "stdout",
     "output_type": "stream",
     "text": [
      "{'created_at': '2025-03-20T20:14:57.103160+00:00',\n",
      " 'embed': Main(images=[Image(alt='dog', image=BlobRef(mime_type='image/jpeg', size=169278, ref=IpldLink(link='bafkreibahplioamouecglrcqnshcxzdrwawdtwl5h676d2l7k7xbbti3pa'), py_type='blob'), aspect_ratio=None, py_type='app.bsky.embed.images#image')], py_type='app.bsky.embed.images'),\n",
      " 'entities': None,\n",
      " 'facets': None,\n",
      " 'labels': None,\n",
      " 'langs': ['en'],\n",
      " 'py_type': 'app.bsky.feed.post',\n",
      " 'reply': None,\n",
      " 'tags': None,\n",
      " 'text': 'check out this dog!'}\n"
     ]
    }
   ],
   "source": [
    "def post_from_url(client: Client, url: str):\n",
    "    \"\"\"\n",
    "    Retrieve a Bluesky post from its URL\n",
    "    \"\"\"\n",
    "    parts = url.split(\"/\")\n",
    "    rkey = parts[-1]\n",
    "    handle = parts[-3]\n",
    "    return client.get_post(rkey, handle)\n",
    "\n",
    "post = post_from_url(client, \"https://bsky.app/profile/labeler-test.bsky.social/post/3lktj7ewxxv2q\")\n",
    "pprint.pprint(post.value.__dict__)"
   ]
  },
  {
   "cell_type": "code",
   "execution_count": 20,
   "metadata": {},
   "outputs": [
    {
     "data": {
      "text/plain": [
       "'check out this dog!'"
      ]
     },
     "execution_count": 20,
     "metadata": {},
     "output_type": "execute_result"
    }
   ],
   "source": [
    "post.value.text"
   ]
  },
  {
   "cell_type": "code",
   "execution_count": 18,
   "metadata": {},
   "outputs": [
    {
     "name": "stdout",
     "output_type": "stream",
     "text": [
      "Post 0: This puppy decided he wanted breakfast in bed. And also bed in breakfast. 12/10\n",
      "Post 1: This is George. He just had a dentist appointment and is none too pleased about it. Will be giving you a piece of his mind as soon as the air stops changing colors. 12/10 #SeniorPupSaturday\n",
      "Post 2: You all funded Fiyero's care in just under 2 hours ensuring he has the best chance at a diagnosis and treatment to live a comfortable life. We’ve removed his post due to how distressing his seizures were. Follow @15outof10.org for pupdates on him and the rest of our fundraiser dogs ❤️‍🩹\n",
      "Post 3: thank you so much for your help ❤️\n",
      "Post 4: what Dasia said 🗣️\n",
      "Post 5: Babe wake up the dogs are still so very good\n",
      "Post 6: Get 60% off your dog's first order of The Farmers Dog through the link below 🧡 #ad\n",
      "\n",
      "bit.ly/3p3SABm\n",
      "Post 7: Here are the Top 5 Dogs of the week!\n",
      "Post 8: This is Dill. He was found with a broken leg. With your support of @weratedogs.com merch, we sponsored his surgery and he wound up in a GIANT cast. He then found a forever family that absolutely dotes on him. He loves them so much, he even lets them dress him up as a little frog sometimes ❤️‍🩹\n",
      "Post 9: living his best life! 🤗\n",
      "Post 10: Two heroic stray dogs rescued an injured dog from the middle of the road by dragging him to safety. The dog had been hit by a car and was stranded. Many cars passed by, but it was two stray dogs who pulled him off the road. The injured dog survived, and the stray dogs were rescued. 15/10 for both\n",
      "Post 11: Thanks to your recent support of our 'tell your dog i said hi' merch, @15outof10.org was able to pay for all of Roger's medical care 🤗\n",
      "Post 12: This is Roger. After collapsing in his foster home, he spent 3 nights in the ER and was given a life expectancy of just a few months. His human decided to spoil him with some pizza and his mood and health turned around so much that his doctor believes his heart murmur is no longer a concern ❤️‍🩹\n",
      "Post 13: The only way to fly\n",
      "Post 14: We only rate dogs. This is a cloud that has somehow gotten inside the airplane. Very cute. But also very concerning. Please only send dogs. Thank you… 12/10\n",
      "Post 15: This is Panda. He was dangerously emaciated and couldn’t stop vomiting due to an illness that made it impossible to digest food.\n",
      " \n",
      "We shared his story earlier this year, and with your support, Panda got the lifelong treatment he needed. He gained some healthy weight and is now adopted ❤️‍🩹\n",
      "Post 16: that’s one beautiful happy family! congratulations, Panda 🤗\n",
      "Post 17: All I see is a superhero 🙌🏼🫶🏼\n",
      "Post 18: This is Ellie. She saw her humans out kayaking and decided to rescue them. Only slightly overreacted. Still 14/10\n",
      "Post 19: With your help earlier this year, we sponsored the surgery Flipper needed to fix her badly broken legs. She’s ALL healed up, and yes, the zoomies are ✨ strong ✨\n",
      "Post 20: she is speed\n",
      "Post 21: \"Good morning class today we're going to learn what makes a good boy so good\" 13/10\n",
      "Post 22: Sound on for the cutest thing you'll hear all day\n",
      "Post 23: This is Lucie. The stairs in her home are unfortunately haunted. She gets possessed every time she goes down them. 13/10\n",
      "Post 24: This is Muamba and Ollie. Ollie just got here and is currently being inspected. He's not sure what for, but really hopes he passes. 13/10 for both\n",
      "Post 25: here’s the link to his instagram! he has a link in his bio to all of his other platforms and his website www.instagram.com/portraitsbyhercule\n",
      "Post 26: Phil Heckles has been drawing other people's pets since 2020, when he drew his own dog and posted it, jokingly offering paid-for commissions. Genuine requests flooded in. He used the traction to raise money for his local homeless charity. 5 years and over £400,000 later, he's still going. 14/10 ❤️\n",
      "Post 27: all those happy faces 🥹❤️‍🩹\n",
      "Post 28: This is the ONLY April fools allowed this year\n",
      "Post 29: Here are my Top 10 WORST Dogs!\n",
      "Post 30: This is Joey. He has left this reality and traveled to another that consists only of his toy. 13/10 we are so happy for him\n",
      "Post 31: This is Bambi. She loves flowers. Because just like her, they bring immense joy into the world while remaining impressively close to the ground. 12/10\n",
      "Post 32: Here are the Top 5 Dogs of March!\n",
      "Post 33: This is Pippa. She’s been on many scenic hikes and has seen many beautiful views. But she has also napped through her fair share of those views, and we don’t blame her one bit. 14/10 #SeniorPupSaturday\n",
      "Post 34: Butterfly is now fully funded!!! 🦋🎉\n",
      "\n",
      "Thank you to every single person who donated to her care today. We’ll be sure to pupdate you on her progress here ❤️‍🩹\n",
      "Post 35: we do have kids sizes in our classic tees! weratedogs.com/products/kid...\n",
      "Post 36: thank you for helping Butterfly❤️\n",
      "Post 37: we don't know what their situation looked like, but we do know they made the difficult decision to surrender their dog so she could have a chance at a better life ❤️\n",
      "Post 38: Butterfly will be available for adoption and is looking for a home to spend her golden years ❤️\n",
      "Post 39: This is Butterfly. She was living outside with crippling arthritis and a mass on her stomach. Her owner selflessly surrendered her so she could receive the treatment she desperately needs. You can donate to her care, which includes surgery and lifelong medication below ❤️‍🩹\n",
      "\n",
      "15outof10.org/butterfly\n",
      "Post 40: Shop our spring sale! Buy a 'tell your dog i said hi' crewneck, hoodie, or zip hoodie and get a free t-shirt 👇\n",
      "www.weratedogs.com/?utm_source=bluesky&utm_medium=social&utm_campaign=spring-sale\n",
      "Post 41: Here are the Top 5 Dogs of the week!\n",
      "Post 42: This is Leon. He landed in a shelter as a baby with a broken leg. With proceeds from @weratedogs.com merch, we covered the full cost of his care, including surgery! He healed, was adopted, and gained the best big brother, Hubie ❤️‍🩹\n",
      "Post 43: ‪the best of buds 🥹‬\n",
      "Post 44: We only rate dogs. This is a gremlin that just worked a double shift. Not sure they should be driving. Please offer them a lift, and only send dogs. Thank you… 13/10\n",
      "Post 45: This is Fig. She was found as a stray who had been hit by a car. She needed surgery and wound up with a rod, a plate, 8 screws, and 23 staples in her leg. Thanks to your support of our merch, @15outof10.org was able to cover her $8,000 surgery. She has since fully healed and found a forever home ❤️‍🩹\n",
      "Post 46: This is Oreo. He is not ready to wake up yet. Please put the blanket back before we call the FBI. 12/10\n",
      "Post 47: This is Choco. He was found on the streets in heartbreaking condition. He had mange, severe skin infections, and his whole body was painful to the touch. \n",
      "\n",
      "We told you his story last year, and with your help, we sponsored the care to treat his skin and stop his pain. Choco has since been ADOPTED ❤️‍🩹\n",
      "Post 48: that’s one great pumpkin! congratulations, Choco 😊\n",
      "Post 49: This is Rex. His ears have been pretty itchy due to an infection and needed a special medicated cleaning. Needless to say, it hit the spot. 13/10\n",
      "Likes: ['soforgettable.bsky.social', 'stevementiply.bsky.social', 'sagacious0k.bsky.social', 'yackeydoodle.bsky.social', 'suvisusanna.bsky.social', 'serendipitouswool.bsky.social', 'bluelady57.bsky.social', 'weavahvbc.bsky.social', 'gizzygizzards.bsky.social', 'sonjafw.bsky.social']\n",
      "['So efficient!', 'Awww! So sweet!!', '', '🥰', \"Now I'm wondering about a giant platter of bacon and trying this for myself. 🤔\", 'If i fits, i sleeps', 'Those will definitely be some sweet dreams… Or meaty dreams! 💛🐾💜', 'Like a dragon sleeping on his horde of gold.', 'The ultimate fantasy for people who eat at Golden Corral.', 'You snooze, you lose. Unless your this puppy and then you gain.']\n"
     ]
    }
   ],
   "source": [
    "# https://github.com/MarshalX/atproto/blob/main/examples/profile_posts.py\n",
    "prof_feed = client.get_author_feed(actor=\"weratedogs.com\")\n",
    "for i, feed_view in enumerate(prof_feed.feed[:100]):\n",
    "    print(f\"Post {i}:\", feed_view.post.record.text)\n",
    "\n",
    "post = prof_feed.feed[0].post\n",
    "likes_resp = client.get_likes(post.uri, post.cid, limit=10)\n",
    "print(\"Likes:\", [like.actor.handle for like in likes_resp.likes])\n",
    "\n",
    "post_thread_resp = client.get_post_thread(post.uri)\n",
    "print([rep.post.record.text for rep in post_thread_resp.thread.replies[:10]])"
   ]
  },
  {
   "cell_type": "markdown",
   "metadata": {},
   "source": [
    "## Followers/following"
   ]
  },
  {
   "cell_type": "markdown",
   "metadata": {},
   "source": [
    "How might you use this information to investigate/mitigate a harm?"
   ]
  },
  {
   "cell_type": "code",
   "execution_count": 7,
   "metadata": {},
   "outputs": [
    {
     "name": "stdout",
     "output_type": "stream",
     "text": [
      "Followers: ['kelly3010.bsky.social', 'homaksu.bsky.social', 'jennifersamule.bsky.social', 'walkerbn.bsky.social', 'cuneyterdem0.bsky.social', 'shinddha.bsky.social', 'yooperann.bsky.social', 'tor37.bsky.social', 'windowtothesoull.bsky.social', 'twocakesup.bsky.social']\n",
      "Following: ['15outof10.org']\n"
     ]
    }
   ],
   "source": [
    "\n",
    "follower_resp = client.get_followers(\"weratedogs.com\", limit=10)\n",
    "following_resp = client.get_follows(\"weratedogs.com\", limit=10)\n",
    "print(\"Followers:\", [follower.handle for follower in follower_resp.followers])\n",
    "print(\"Following:\", [follow.handle for follow in following_resp.follows])\n",
    "\n"
   ]
  },
  {
   "cell_type": "markdown",
   "metadata": {},
   "source": [
    "## Exercise: Compute average dog ratings\n",
    "The WeRateDogs account includes ratings out of 10 within some of its posts.\n",
    "Write a script that computes the average rating (out of 10) for the 100 most\n",
    "recent posts from this account. (note that not every post will have a rating)"
   ]
  },
  {
   "cell_type": "code",
   "execution_count": 9,
   "metadata": {},
   "outputs": [],
   "source": [
    "import re"
   ]
  },
  {
   "cell_type": "code",
   "execution_count": 10,
   "metadata": {},
   "outputs": [],
   "source": [
    "def extract_score(text):\n",
    "    # This pattern looks for:\n",
    "    # \\d+ - one or more digits\n",
    "    # \\s* - optional whitespace\n",
    "    # / - literal forward slash\n",
    "    # \\s* - optional whitespace\n",
    "    # 10 - literal \"10\"\n",
    "    pattern = r'(\\d+)\\s*/\\s*10'\n",
    "    match = re.search(pattern, text)\n",
    "    if match:\n",
    "        return int(match.group(1))\n",
    "    return None"
   ]
  },
  {
   "cell_type": "code",
   "execution_count": 13,
   "metadata": {},
   "outputs": [
    {
     "name": "stdout",
     "output_type": "stream",
     "text": [
      "The average rating is: 13.0\n"
     ]
    }
   ],
   "source": [
    "def compute_avg_dog_rating(num_posts):\n",
    "    # TODO: complete\n",
    "    total_score = 0\n",
    "    num_scores = 0\n",
    "    for i, feed_view in enumerate(prof_feed.feed[:num_posts]):\n",
    "        score = extract_score(feed_view.post.record.text)\n",
    "        if score is not None:\n",
    "            # print(f\"Found score: {score}/10\")\n",
    "            total_score += score\n",
    "            num_scores += 1\n",
    "        # else:\n",
    "            # print(\"No score found in the format X/10\")\n",
    "    return total_score / num_scores if num_scores > 0 else 0\n",
    "\n",
    "print(\"The average rating is:\", compute_avg_dog_rating(100))"
   ]
  },
  {
   "cell_type": "markdown",
   "metadata": {},
   "source": [
    "## Exercise: Dog names\n",
    "Collect the names of dogs within the latest 100 posts and print them to the\n",
    "console. Hint: see if you can identify a pattern in the posts."
   ]
  },
  {
   "cell_type": "code",
   "execution_count": 15,
   "metadata": {},
   "outputs": [],
   "source": [
    "def extract_names(text):\n",
    "    # This pattern looks for:\n",
    "    # (?<![\\.\\?\\!]\\s) - negative lookbehind for period/question mark/exclamation followed by whitespace\n",
    "    # (?<!\\A) - negative lookbehind for start of string\n",
    "    # \\b[A-Z][a-zA-Z]*\\b - word boundary, capital letter, followed by any letters, word boundary\n",
    "    pattern = r'(?<![\\.\\?\\!]\\s)(?<!\\A)\\b[A-Z][a-zA-Z]*\\b'\n",
    "    \n",
    "    matches = re.finditer(pattern, text)\n",
    "    return [match.group() for match in matches]"
   ]
  },
  {
   "cell_type": "code",
   "execution_count": 16,
   "metadata": {},
   "outputs": [
    {
     "name": "stdout",
     "output_type": "stream",
     "text": [
      "Here are the dog_names: ['George', 'SeniorPupSaturday', 'Fiyero', 'Dasia', 'The', 'Farmers', 'Dog', 'Top', 'Dogs', 'Dill', 'GIANT', 'Roger', 'Roger', 'ER', 'Panda', 'We', 'Panda', 'Panda', 'I', 'Ellie', 'Flipper', 'ALL', 'Good', 'Lucie', 'Muamba', 'Ollie', 'Heckles', 'ONLY', 'April', 'Top', 'WORST', 'Dogs', 'Joey', 'Bambi', 'Top', 'Dogs', 'March', 'Pippa', 'SeniorPupSaturday', 'Thank', 'Butterfly', 'Butterfly', 'Top', 'Dogs', 'Leon', 'Hubie', 'Fig', 'Oreo', 'FBI', 'Choco', 'We', 'ADOPTED', 'Choco', 'Rex']\n"
     ]
    }
   ],
   "source": [
    "def collect_dog_names(num_posts):\n",
    "    # TODO: complete\n",
    "    all_names = []\n",
    "    for i, feed_view in enumerate(prof_feed.feed[:num_posts]):\n",
    "        names = extract_names(feed_view.post.record.text)\n",
    "        if names:\n",
    "            all_names.extend(names)\n",
    "    return all_names\n",
    "\n",
    "print(\"Here are the dog_names:\", collect_dog_names(100))"
   ]
  },
  {
   "cell_type": "markdown",
   "metadata": {},
   "source": [
    "## Exercise: Soliciting donations\n",
    "Some posts from the WeRateDogs account ask for donations -- usually for\n",
    "covering medical costs for the featured dogs. Within the latest 100 posts, print\n",
    "the text content of those that fall into this category"
   ]
  },
  {
   "cell_type": "code",
   "execution_count": null,
   "metadata": {},
   "outputs": [],
   "source": [
    "def donation_posts(num_posts):\n",
    "    # TODO: complete\n",
    "    return []\n",
    "\n",
    "for post_text in donation_posts(100):\n",
    "    print(post_text)"
   ]
  },
  {
   "cell_type": "code",
   "execution_count": 53,
   "metadata": {},
   "outputs": [
    {
     "name": "stdout",
     "output_type": "stream",
     "text": [
      "{'associated': ProfileAssociated(chat=None, feedgens=0, labeler=True, lists=0, starter_packs=0, py_type='app.bsky.actor.defs#profileAssociated'),\n",
      " 'avatar': 'https://cdn.bsky.app/img/avatar/plain/did:plc:yzpplgm5kftdgpf2wsnrbgdn/bafkreih3fpryxoepb44fzyr3sfn32fr7fqqka4kle6h4not7jlwtdvzghe@jpeg',\n",
      " 'banner': None,\n",
      " 'created_at': '2025-02-13T17:12:12.845Z',\n",
      " 'description': None,\n",
      " 'did': 'did:plc:yzpplgm5kftdgpf2wsnrbgdn',\n",
      " 'display_name': '',\n",
      " 'followers_count': 0,\n",
      " 'follows_count': 1,\n",
      " 'handle': 'trustylabeler.bsky.social',\n",
      " 'indexed_at': '2025-02-13T17:12:12.845Z',\n",
      " 'joined_via_starter_pack': None,\n",
      " 'labels': [],\n",
      " 'pinned_post': None,\n",
      " 'posts_count': 0,\n",
      " 'py_type': 'app.bsky.actor.defs#profileViewDetailed',\n",
      " 'viewer': ViewerState(blocked_by=False, blocking=None, blocking_by_list=None, followed_by=None, following=None, known_followers=None, muted=False, muted_by_list=None, py_type='app.bsky.actor.defs#viewerState')}\n"
     ]
    }
   ],
   "source": [
    "\"\"\"Implementation of automated moderator\"\"\"\n",
    "\n",
    "from typing import List\n",
    "from atproto import Client\n",
    "from dotenv import load_dotenv\n",
    "import os\n",
    "import pprint\n",
    "import pandas as pd\n",
    "\n",
    "\n",
    "load_dotenv(override=True)\n",
    "USERNAME = os.getenv(\"USERNAME\")\n",
    "PW = os.getenv(\"PW\")\n",
    "\n",
    "client = Client()\n",
    "profile = client.login(USERNAME, PW)\n",
    "pprint.pprint(profile.__dict__)\n",
    "\n",
    "T_AND_S_LABEL = \"t-and-s\"\n",
    "DOG_LABEL = \"dog\"\n",
    "THRESH = 0.3\n",
    "\n",
    "class AutomatedLabeler:\n",
    "    \"\"\"Automated labeler implementation\"\"\"\n",
    "\n",
    "    def __init__(self, client: Client, input_dir):\n",
    "        self.client = client\n",
    "\n",
    "        # Read domains and words files with headers\n",
    "        domains_df = pd.read_csv('./bluesky-assign3/labeler-inputs/t-and-s-domains.csv')\n",
    "        self.domains = {domain.lower(): True for domain in domains_df['Domain'].dropna()}\n",
    "        words_df = pd.read_csv('./bluesky-assign3/labeler-inputs/t-and-s-words.csv')\n",
    "        self.words = {word.lower(): True for word in words_df['Word'].dropna()}\n",
    "   \n",
    "    def moderate_post(self, url: str) -> List[str]:\n",
    "        \"\"\"\n",
    "        Apply moderation to the post specified by the given url\n",
    "        \"\"\"\n",
    "        # Labeling logic\n",
    "        # Milestone 2: Apply \"t-and-s\" label\n",
    "        return []\n",
    "    \n",
    "    def post_from_url(client: Client, url: str):\n",
    "        \"\"\"\n",
    "        Retrieve a Bluesky post from its URL\n",
    "        \"\"\"\n",
    "        parts = url.split(\"/\")\n",
    "        rkey = parts[-1]\n",
    "        handle = parts[-3]\n",
    "        return client.get_post(rkey, handle)\n",
    "\n",
    "    # post = post_from_url(client, \"https://bsky.app/profile/labeler-test.bsky.social/post/3lktj7ewxxv2q\")\n",
    "    # pprint.pprint(post.value.__dict__)\n",
    "\n",
    "    # Milestone 2: Label posts with T&S words and domains\n",
    "    def find_matches(self, text: str) -> dict:\n",
    "        \"\"\"Find matches in text from both domains and words lists\"\"\"\n",
    "        text = text.lower()\n",
    "        domain_matches = [domain for domain in self.domains if domain in text]\n",
    "        word_matches = [word for word in self.words if word.lower() in text]\n",
    "        \n",
    "        return {\n",
    "            'domain_matches': domain_matches,\n",
    "            'word_matches': word_matches\n",
    "        }\n",
    "    \n",
    "    def detect_t_and_s(self, url: str) -> List[str]:\n",
    "        post = post_from_url(client, url)\n",
    "        post_text = post.value.text.lower()\n",
    "        print(post_text)\n",
    "\n",
    "        # Find matches\n",
    "        matches = self.find_matches(post_text)\n",
    "        print(matches)\n"
   ]
  },
  {
   "cell_type": "code",
   "execution_count": 55,
   "metadata": {},
   "outputs": [
    {
     "name": "stdout",
     "output_type": "stream",
     "text": [
      "community standards are the backbone of healthy online spaces. without clear guidelines, platforms struggle to balance freedom of expression with safety by design principles that protect their most vulnerable users.\n",
      "{'domain_matches': [], 'word_matches': ['community standards', 'platform', 'safety by design']}\n",
      "just finished planting my spring garden! anyone else getting their hands dirty this weekend? tomatoes, basil, and zucchini are in the ground and i'm already dreaming of summer salads.\n",
      "{'domain_matches': [], 'word_matches': []}\n"
     ]
    }
   ],
   "source": [
    "testlabel = AutomatedLabeler(Client, \"./test-data/input-posts-t-and-s.csv\")\n",
    "\n",
    "testlabel.detect_t_and_s(\"https://bsky.app/profile/labeler-test.bsky.social/post/3lktfcjgyau2v\")\n",
    "\n",
    "testlabel.detect_t_and_s(\"https://bsky.app/profile/labeler-test.bsky.social/post/3lktg53dyqe2e\")"
   ]
  },
  {
   "cell_type": "code",
   "execution_count": null,
   "metadata": {},
   "outputs": [],
   "source": []
  }
 ],
 "metadata": {
  "kernelspec": {
   "display_name": "Python 3",
   "language": "python",
   "name": "python3"
  },
  "language_info": {
   "codemirror_mode": {
    "name": "ipython",
    "version": 3
   },
   "file_extension": ".py",
   "mimetype": "text/x-python",
   "name": "python",
   "nbconvert_exporter": "python",
   "pygments_lexer": "ipython3",
   "version": "3.12.6"
  }
 },
 "nbformat": 4,
 "nbformat_minor": 2
}
